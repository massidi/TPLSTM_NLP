{
  "metadata": {
    "kernelspec": {
      "language": "python",
      "display_name": "Python 3",
      "name": "python3"
    },
    "language_info": {
      "name": "python",
      "version": "3.10.13",
      "mimetype": "text/x-python",
      "codemirror_mode": {
        "name": "ipython",
        "version": 3
      },
      "pygments_lexer": "ipython3",
      "nbconvert_exporter": "python",
      "file_extension": ".py"
    },
    "kaggle": {
      "accelerator": "none",
      "dataSources": [
        {
          "sourceId": 8124401,
          "sourceType": "datasetVersion",
          "datasetId": 4801096
        },
        {
          "sourceId": 8124405,
          "sourceType": "datasetVersion",
          "datasetId": 4801100
        },
        {
          "sourceId": 29278,
          "sourceType": "modelInstanceVersion",
          "modelInstanceId": 24663
        }
      ],
      "dockerImageVersionId": 30685,
      "isInternetEnabled": true,
      "language": "python",
      "sourceType": "notebook",
      "isGpuEnabled": false
    },
    "colab": {
      "provenance": [],
      "include_colab_link": true
    }
  },
  "nbformat_minor": 0,
  "nbformat": 4,
  "cells": [
    {
      "cell_type": "markdown",
      "metadata": {
        "id": "view-in-github",
        "colab_type": "text"
      },
      "source": [
        "<a href=\"https://colab.research.google.com/github/massidi/TPLSTM_NLP/blob/main/tptransferlearning.ipynb\" target=\"_parent\"><img src=\"https://colab.research.google.com/assets/colab-badge.svg\" alt=\"Open In Colab\"/></a>"
      ]
    },
    {
      "cell_type": "code",
      "source": [
        "# This Python 3 environment comes with many helpful analytics libraries installed\n",
        "# It is defined by the kaggle/python Docker image: https://github.com/kaggle/docker-python\n",
        "# For example, here's several helpful packages to load\n",
        "\n",
        "import numpy as np # linear algebra\n",
        "import pandas as pd # data processing, CSV file I/O (e.g. pd.read_csv)\n",
        "\n",
        "# Input data files are available in the read-only \"../input/\" directory\n",
        "# For example, running this (by clicking run or pressing Shift+Enter) will list all files under the input directory\n",
        "\n",
        "import os\n",
        "for dirname, _, filenames in os.walk('/kaggle/input'):\n",
        "    for filename in filenames:\n",
        "        print(os.path.join(dirname, filename))\n",
        "\n",
        "# You can write up to 20GB to the current directory (/kaggle/working/) that gets preserved as output when you create a version using \"Save & Run All\"\n",
        "# You can also write temporary files to /kaggle/temp/, but they won't be saved outside of the current session"
      ],
      "metadata": {
        "_uuid": "8f2839f25d086af736a60e9eeb907d3b93b6e0e5",
        "_cell_guid": "b1076dfc-b9ad-4769-8c92-a6c4dae69d19",
        "execution": {
          "iopub.status.busy": "2024-04-15T11:58:43.627257Z",
          "iopub.execute_input": "2024-04-15T11:58:43.627831Z",
          "iopub.status.idle": "2024-04-15T11:58:45.024659Z",
          "shell.execute_reply.started": "2024-04-15T11:58:43.627775Z",
          "shell.execute_reply": "2024-04-15T11:58:45.023189Z"
        },
        "trusted": true,
        "id": "b8knJCawUmH4",
        "outputId": "8211c343-c62c-407f-c0b0-927884eb8622"
      },
      "execution_count": null,
      "outputs": [
        {
          "name": "stdout",
          "text": "/kaggle/input/2018-valence-oc-en-dev-txt/2018-Valence-oc-En-dev.txt\n/kaggle/input/2018-valence-oc-en-train-txt/2018-Valence-oc-En-train.txt\n/kaggle/input/sentimental-analysis-tweets/tensorflow2/tp1/1/sentimentaltp1.h5\n",
          "output_type": "stream"
        }
      ]
    },
    {
      "cell_type": "code",
      "source": [
        "!pip install tensorflow==2.15\n",
        "!pip install --upgrade nltk\n"
      ],
      "metadata": {
        "execution": {
          "iopub.status.busy": "2024-04-15T11:58:45.026862Z",
          "iopub.execute_input": "2024-04-15T11:58:45.028692Z",
          "iopub.status.idle": "2024-04-15T11:59:21.573084Z",
          "shell.execute_reply.started": "2024-04-15T11:58:45.028646Z",
          "shell.execute_reply": "2024-04-15T11:59:21.571741Z"
        },
        "trusted": true,
        "id": "LkHIdAxSUmIJ"
      },
      "execution_count": null,
      "outputs": []
    },
    {
      "cell_type": "code",
      "source": [
        "import tensorflow as tf\n",
        "\n",
        "from keras.layers import Embedding\n",
        "from keras.preprocessing.sequence import pad_sequences\n",
        "from keras.models import Sequential\n",
        "from keras.preprocessing.text import one_hot\n",
        "from keras.layers import LSTM\n",
        "from keras.layers import Dense,Bidirectional\n",
        "\n",
        "import numpy as np\n",
        "import pandas as pd\n",
        "\n",
        "\n",
        "import nltk\n",
        "from nltk.stem import WordNetLemmatizer, PorterStemmer\n",
        "from nltk.corpus import stopwords\n",
        "import re\n",
        "import warnings\n",
        "\n",
        "warnings.simplefilter(\"ignore\")\n",
        "\n",
        "\n",
        "\n",
        "\n",
        "\n",
        "\n",
        "from sklearn.model_selection import train_test_split\n",
        "\n",
        "tf.get_logger().setLevel('ERROR')"
      ],
      "metadata": {
        "execution": {
          "iopub.status.busy": "2024-04-15T11:59:21.575257Z",
          "iopub.execute_input": "2024-04-15T11:59:21.575603Z",
          "iopub.status.idle": "2024-04-15T11:59:38.376535Z",
          "shell.execute_reply.started": "2024-04-15T11:59:21.575571Z",
          "shell.execute_reply": "2024-04-15T11:59:38.375245Z"
        },
        "trusted": true,
        "id": "Nd0aPw0UUmIM",
        "outputId": "912cae94-0757-47df-dc38-40e9d0d6e9e0"
      },
      "execution_count": null,
      "outputs": [
        {
          "name": "stderr",
          "text": "2024-04-15 11:59:23.909356: E external/local_xla/xla/stream_executor/cuda/cuda_dnn.cc:9261] Unable to register cuDNN factory: Attempting to register factory for plugin cuDNN when one has already been registered\n2024-04-15 11:59:23.909546: E external/local_xla/xla/stream_executor/cuda/cuda_fft.cc:607] Unable to register cuFFT factory: Attempting to register factory for plugin cuFFT when one has already been registered\n2024-04-15 11:59:24.081520: E external/local_xla/xla/stream_executor/cuda/cuda_blas.cc:1515] Unable to register cuBLAS factory: Attempting to register factory for plugin cuBLAS when one has already been registered\n",
          "output_type": "stream"
        }
      ]
    },
    {
      "cell_type": "code",
      "source": [
        "# Read the text file into a DataFrame\n",
        "train_tweets  = pd.read_csv(\"/kaggle/input/2018-valence-oc-en-train-txt/2018-Valence-oc-En-train.txt\", sep='\\t')\n",
        "\n",
        "test_tweets  = pd.read_csv(\"/kaggle/input/2018-valence-oc-en-dev-txt/2018-Valence-oc-En-dev.txt\", sep='\\t')\n",
        "\n"
      ],
      "metadata": {
        "execution": {
          "iopub.status.busy": "2024-04-15T11:59:38.379979Z",
          "iopub.execute_input": "2024-04-15T11:59:38.380941Z",
          "iopub.status.idle": "2024-04-15T11:59:38.417371Z",
          "shell.execute_reply.started": "2024-04-15T11:59:38.380869Z",
          "shell.execute_reply": "2024-04-15T11:59:38.416216Z"
        },
        "trusted": true,
        "id": "kbWGKNvjUmIR"
      },
      "execution_count": null,
      "outputs": []
    },
    {
      "cell_type": "code",
      "source": [
        "train_tweets.head(5)\n",
        "\n",
        "print(\"------------------\")\n",
        "\n",
        "test_tweets.head(5)"
      ],
      "metadata": {
        "execution": {
          "iopub.status.busy": "2024-04-15T11:59:38.418795Z",
          "iopub.execute_input": "2024-04-15T11:59:38.419174Z",
          "iopub.status.idle": "2024-04-15T11:59:38.442475Z",
          "shell.execute_reply.started": "2024-04-15T11:59:38.419117Z",
          "shell.execute_reply": "2024-04-15T11:59:38.441341Z"
        },
        "trusted": true,
        "id": "OvMePf3XUmIS",
        "outputId": "2b6cf9d4-fde5-4b64-debe-5e9edf99367a"
      },
      "execution_count": null,
      "outputs": [
        {
          "name": "stdout",
          "text": "------------------\n",
          "output_type": "stream"
        },
        {
          "execution_count": 5,
          "output_type": "execute_result",
          "data": {
            "text/plain": "              ID                                              Tweet  \\\n0  2018-En-02354  So @Ryanair site crashes everytime I try to bo...   \n1  2018-En-00124  Theme of week: Ask the Lord for strength &amp;...   \n2  2018-En-02603  @F1 Why announcing so late, it will be hard to...   \n3  2018-En-00450  The greatest happiness is seeing someone you l...   \n4  2018-En-00502  omg so grateful to have an education but ive b...   \n\n  Affect Dimension                                    Intensity Class  \n0          valence  -3: very negative emotional state can be inferred  \n1          valence  -2: moderately negative emotional state can be...  \n2          valence  -3: very negative emotional state can be inferred  \n3          valence   3: very positive emotional state can be inferred  \n4          valence  1: slightly positive emotional state can be in...  ",
            "text/html": "<div>\n<style scoped>\n    .dataframe tbody tr th:only-of-type {\n        vertical-align: middle;\n    }\n\n    .dataframe tbody tr th {\n        vertical-align: top;\n    }\n\n    .dataframe thead th {\n        text-align: right;\n    }\n</style>\n<table border=\"1\" class=\"dataframe\">\n  <thead>\n    <tr style=\"text-align: right;\">\n      <th></th>\n      <th>ID</th>\n      <th>Tweet</th>\n      <th>Affect Dimension</th>\n      <th>Intensity Class</th>\n    </tr>\n  </thead>\n  <tbody>\n    <tr>\n      <th>0</th>\n      <td>2018-En-02354</td>\n      <td>So @Ryanair site crashes everytime I try to bo...</td>\n      <td>valence</td>\n      <td>-3: very negative emotional state can be inferred</td>\n    </tr>\n    <tr>\n      <th>1</th>\n      <td>2018-En-00124</td>\n      <td>Theme of week: Ask the Lord for strength &amp;amp;...</td>\n      <td>valence</td>\n      <td>-2: moderately negative emotional state can be...</td>\n    </tr>\n    <tr>\n      <th>2</th>\n      <td>2018-En-02603</td>\n      <td>@F1 Why announcing so late, it will be hard to...</td>\n      <td>valence</td>\n      <td>-3: very negative emotional state can be inferred</td>\n    </tr>\n    <tr>\n      <th>3</th>\n      <td>2018-En-00450</td>\n      <td>The greatest happiness is seeing someone you l...</td>\n      <td>valence</td>\n      <td>3: very positive emotional state can be inferred</td>\n    </tr>\n    <tr>\n      <th>4</th>\n      <td>2018-En-00502</td>\n      <td>omg so grateful to have an education but ive b...</td>\n      <td>valence</td>\n      <td>1: slightly positive emotional state can be in...</td>\n    </tr>\n  </tbody>\n</table>\n</div>"
          },
          "metadata": {}
        }
      ]
    },
    {
      "cell_type": "code",
      "source": [
        "print(\"shape of train_data:\" ,train_tweets.shape)\n",
        "print(\"count the nul value:\" ,train_tweets.isnull().sum())\n",
        "\n",
        "print(\"---------------\\n\")\n",
        "print(\"shape of train_data:\" ,test_tweets.shape)\n",
        "print(\"count the nul value:\" ,test_tweets.isnull().sum())"
      ],
      "metadata": {
        "execution": {
          "iopub.status.busy": "2024-04-15T11:59:38.443784Z",
          "iopub.execute_input": "2024-04-15T11:59:38.444167Z",
          "iopub.status.idle": "2024-04-15T11:59:38.455699Z",
          "shell.execute_reply.started": "2024-04-15T11:59:38.444122Z",
          "shell.execute_reply": "2024-04-15T11:59:38.454543Z"
        },
        "trusted": true,
        "id": "AcGG1KFwUmIT",
        "outputId": "82cefea6-f032-4918-c5a7-dd1e8058c37b"
      },
      "execution_count": null,
      "outputs": [
        {
          "name": "stdout",
          "text": "shape of train_data: (1181, 4)\ncount the nul value: ID                  0\nTweet               0\nAffect Dimension    0\nIntensity Class     0\ndtype: int64\n---------------\n\nshape of train_data: (449, 4)\ncount the nul value: ID                  0\nTweet               0\nAffect Dimension    0\nIntensity Class     0\ndtype: int64\n",
          "output_type": "stream"
        }
      ]
    },
    {
      "cell_type": "code",
      "source": [
        "train_tweets['Intensity Class'] = pd.Categorical(train_tweets['Intensity Class'])\n",
        "\n",
        "train_tweets['Label'] =train_tweets['Intensity Class'].cat.codes"
      ],
      "metadata": {
        "execution": {
          "iopub.status.busy": "2024-04-15T11:59:38.457116Z",
          "iopub.execute_input": "2024-04-15T11:59:38.457489Z",
          "iopub.status.idle": "2024-04-15T11:59:38.474104Z",
          "shell.execute_reply.started": "2024-04-15T11:59:38.457460Z",
          "shell.execute_reply": "2024-04-15T11:59:38.472992Z"
        },
        "trusted": true,
        "id": "DawH8fJHUmIU"
      },
      "execution_count": null,
      "outputs": []
    },
    {
      "cell_type": "code",
      "source": [
        "train_tweets.head(5)\n"
      ],
      "metadata": {
        "execution": {
          "iopub.status.busy": "2024-04-15T11:59:38.475449Z",
          "iopub.execute_input": "2024-04-15T11:59:38.475923Z",
          "iopub.status.idle": "2024-04-15T11:59:38.490689Z",
          "shell.execute_reply.started": "2024-04-15T11:59:38.475887Z",
          "shell.execute_reply": "2024-04-15T11:59:38.489458Z"
        },
        "trusted": true,
        "id": "XEzlVS0dUmIZ",
        "outputId": "ce237923-e656-4659-94ed-c84e02c28aa4"
      },
      "execution_count": null,
      "outputs": [
        {
          "execution_count": 8,
          "output_type": "execute_result",
          "data": {
            "text/plain": "              ID                                              Tweet  \\\n0  2017-En-30153                   @liamch88 yeah! :) playing well    \n1  2017-En-40929  At least I don't have a guy trying to discoura...   \n2  2017-En-22012  UPLIFT: If you're still discouraged it means y...   \n3  2017-En-30837  ...at your age, the heyday in the blood is tam...   \n4  2017-En-30838  i was so embarrassed when she saw us i was lik...   \n\n  Affect Dimension                                    Intensity Class  Label  \n0          valence  0: neutral or mixed emotional state can be inf...      3  \n1          valence  0: neutral or mixed emotional state can be inf...      3  \n2          valence  0: neutral or mixed emotional state can be inf...      3  \n3          valence  0: neutral or mixed emotional state can be inf...      3  \n4          valence  -2: moderately negative emotional state can be...      1  ",
            "text/html": "<div>\n<style scoped>\n    .dataframe tbody tr th:only-of-type {\n        vertical-align: middle;\n    }\n\n    .dataframe tbody tr th {\n        vertical-align: top;\n    }\n\n    .dataframe thead th {\n        text-align: right;\n    }\n</style>\n<table border=\"1\" class=\"dataframe\">\n  <thead>\n    <tr style=\"text-align: right;\">\n      <th></th>\n      <th>ID</th>\n      <th>Tweet</th>\n      <th>Affect Dimension</th>\n      <th>Intensity Class</th>\n      <th>Label</th>\n    </tr>\n  </thead>\n  <tbody>\n    <tr>\n      <th>0</th>\n      <td>2017-En-30153</td>\n      <td>@liamch88 yeah! :) playing well</td>\n      <td>valence</td>\n      <td>0: neutral or mixed emotional state can be inf...</td>\n      <td>3</td>\n    </tr>\n    <tr>\n      <th>1</th>\n      <td>2017-En-40929</td>\n      <td>At least I don't have a guy trying to discoura...</td>\n      <td>valence</td>\n      <td>0: neutral or mixed emotional state can be inf...</td>\n      <td>3</td>\n    </tr>\n    <tr>\n      <th>2</th>\n      <td>2017-En-22012</td>\n      <td>UPLIFT: If you're still discouraged it means y...</td>\n      <td>valence</td>\n      <td>0: neutral or mixed emotional state can be inf...</td>\n      <td>3</td>\n    </tr>\n    <tr>\n      <th>3</th>\n      <td>2017-En-30837</td>\n      <td>...at your age, the heyday in the blood is tam...</td>\n      <td>valence</td>\n      <td>0: neutral or mixed emotional state can be inf...</td>\n      <td>3</td>\n    </tr>\n    <tr>\n      <th>4</th>\n      <td>2017-En-30838</td>\n      <td>i was so embarrassed when she saw us i was lik...</td>\n      <td>valence</td>\n      <td>-2: moderately negative emotional state can be...</td>\n      <td>1</td>\n    </tr>\n  </tbody>\n</table>\n</div>"
          },
          "metadata": {}
        }
      ]
    },
    {
      "cell_type": "code",
      "source": [
        "test_tweets['Intensity Class'] = pd.Categorical(test_tweets['Intensity Class'])\n",
        "\n",
        "test_tweets['Label'] =test_tweets['Intensity Class'].cat.codes"
      ],
      "metadata": {
        "execution": {
          "iopub.status.busy": "2024-04-15T11:59:38.492818Z",
          "iopub.execute_input": "2024-04-15T11:59:38.493318Z",
          "iopub.status.idle": "2024-04-15T11:59:38.503460Z",
          "shell.execute_reply.started": "2024-04-15T11:59:38.493274Z",
          "shell.execute_reply": "2024-04-15T11:59:38.502228Z"
        },
        "trusted": true,
        "id": "FcJdmkohUmIc"
      },
      "execution_count": null,
      "outputs": []
    },
    {
      "cell_type": "code",
      "source": [
        "test_tweets.head(5)\n"
      ],
      "metadata": {
        "execution": {
          "iopub.status.busy": "2024-04-15T11:59:38.509875Z",
          "iopub.execute_input": "2024-04-15T11:59:38.510298Z",
          "iopub.status.idle": "2024-04-15T11:59:38.524570Z",
          "shell.execute_reply.started": "2024-04-15T11:59:38.510267Z",
          "shell.execute_reply": "2024-04-15T11:59:38.523214Z"
        },
        "trusted": true,
        "id": "T5SmecTSUmId",
        "outputId": "61257269-56ff-4a64-8ca5-fb0ac885d48c"
      },
      "execution_count": null,
      "outputs": [
        {
          "execution_count": 10,
          "output_type": "execute_result",
          "data": {
            "text/plain": "              ID                                              Tweet  \\\n0  2018-En-02354  So @Ryanair site crashes everytime I try to bo...   \n1  2018-En-00124  Theme of week: Ask the Lord for strength &amp;...   \n2  2018-En-02603  @F1 Why announcing so late, it will be hard to...   \n3  2018-En-00450  The greatest happiness is seeing someone you l...   \n4  2018-En-00502  omg so grateful to have an education but ive b...   \n\n  Affect Dimension                                    Intensity Class  Label  \n0          valence  -3: very negative emotional state can be inferred      2  \n1          valence  -2: moderately negative emotional state can be...      1  \n2          valence  -3: very negative emotional state can be inferred      2  \n3          valence   3: very positive emotional state can be inferred      6  \n4          valence  1: slightly positive emotional state can be in...      4  ",
            "text/html": "<div>\n<style scoped>\n    .dataframe tbody tr th:only-of-type {\n        vertical-align: middle;\n    }\n\n    .dataframe tbody tr th {\n        vertical-align: top;\n    }\n\n    .dataframe thead th {\n        text-align: right;\n    }\n</style>\n<table border=\"1\" class=\"dataframe\">\n  <thead>\n    <tr style=\"text-align: right;\">\n      <th></th>\n      <th>ID</th>\n      <th>Tweet</th>\n      <th>Affect Dimension</th>\n      <th>Intensity Class</th>\n      <th>Label</th>\n    </tr>\n  </thead>\n  <tbody>\n    <tr>\n      <th>0</th>\n      <td>2018-En-02354</td>\n      <td>So @Ryanair site crashes everytime I try to bo...</td>\n      <td>valence</td>\n      <td>-3: very negative emotional state can be inferred</td>\n      <td>2</td>\n    </tr>\n    <tr>\n      <th>1</th>\n      <td>2018-En-00124</td>\n      <td>Theme of week: Ask the Lord for strength &amp;amp;...</td>\n      <td>valence</td>\n      <td>-2: moderately negative emotional state can be...</td>\n      <td>1</td>\n    </tr>\n    <tr>\n      <th>2</th>\n      <td>2018-En-02603</td>\n      <td>@F1 Why announcing so late, it will be hard to...</td>\n      <td>valence</td>\n      <td>-3: very negative emotional state can be inferred</td>\n      <td>2</td>\n    </tr>\n    <tr>\n      <th>3</th>\n      <td>2018-En-00450</td>\n      <td>The greatest happiness is seeing someone you l...</td>\n      <td>valence</td>\n      <td>3: very positive emotional state can be inferred</td>\n      <td>6</td>\n    </tr>\n    <tr>\n      <th>4</th>\n      <td>2018-En-00502</td>\n      <td>omg so grateful to have an education but ive b...</td>\n      <td>valence</td>\n      <td>1: slightly positive emotional state can be in...</td>\n      <td>4</td>\n    </tr>\n  </tbody>\n</table>\n</div>"
          },
          "metadata": {}
        }
      ]
    },
    {
      "cell_type": "code",
      "source": [
        "print(train_tweets[\"Label\"].value_counts())\n",
        "\n",
        "print(\"___________\")\n",
        "\n",
        "print(test_tweets[\"Label\"].value_counts())"
      ],
      "metadata": {
        "execution": {
          "iopub.status.busy": "2024-04-15T11:59:38.526740Z",
          "iopub.execute_input": "2024-04-15T11:59:38.527273Z",
          "iopub.status.idle": "2024-04-15T11:59:38.540844Z",
          "shell.execute_reply.started": "2024-04-15T11:59:38.527233Z",
          "shell.execute_reply": "2024-04-15T11:59:38.539829Z"
        },
        "trusted": true,
        "id": "WAknpdesUmIe",
        "outputId": "c6c30dc3-6b91-4b43-d5b2-56b4655f842e"
      },
      "execution_count": null,
      "outputs": [
        {
          "name": "stdout",
          "text": "Label\n3    341\n1    249\n4    167\n2    129\n6    125\n5     92\n0     78\nName: count, dtype: int64\n___________\nLabel\n3    105\n1     95\n2     69\n4     58\n6     53\n5     35\n0     34\nName: count, dtype: int64\n",
          "output_type": "stream"
        }
      ]
    },
    {
      "cell_type": "code",
      "source": [
        "# #For data visualization\n",
        "# import matplotlib.pyplot as plt\n",
        "# import matplotlib.patches as mpatches\n",
        "# %matplotlib inline\n",
        "\n",
        "# pd.options.plotting.backend = \"plotly\""
      ],
      "metadata": {
        "execution": {
          "iopub.status.busy": "2024-04-15T11:59:38.541966Z",
          "iopub.execute_input": "2024-04-15T11:59:38.542304Z",
          "iopub.status.idle": "2024-04-15T11:59:38.551867Z",
          "shell.execute_reply.started": "2024-04-15T11:59:38.542277Z",
          "shell.execute_reply": "2024-04-15T11:59:38.550703Z"
        },
        "trusted": true,
        "id": "Gx_KwBGgUmIf"
      },
      "execution_count": null,
      "outputs": []
    },
    {
      "cell_type": "code",
      "source": [
        "data_train = train_tweets[['Tweet', 'Label']].copy()\n",
        "data_train.groupby('Label').count().plot(kind='bar')"
      ],
      "metadata": {
        "execution": {
          "iopub.status.busy": "2024-04-15T11:59:38.553677Z",
          "iopub.execute_input": "2024-04-15T11:59:38.554105Z",
          "iopub.status.idle": "2024-04-15T11:59:38.928844Z",
          "shell.execute_reply.started": "2024-04-15T11:59:38.554067Z",
          "shell.execute_reply": "2024-04-15T11:59:38.927586Z"
        },
        "trusted": true,
        "id": "fsZdDMSfUmIf",
        "outputId": "615d7694-4ff3-4554-8ac3-bdfd5be7c4ac"
      },
      "execution_count": null,
      "outputs": [
        {
          "execution_count": 13,
          "output_type": "execute_result",
          "data": {
            "text/plain": "<Axes: xlabel='Label'>"
          },
          "metadata": {}
        },
        {
          "output_type": "display_data",
          "data": {
            "text/plain": "<Figure size 640x480 with 1 Axes>",
            "image/png": "[encoded data removed]"
          },
          "metadata": {}
        }
      ]
    },
    {
      "cell_type": "code",
      "source": [
        "# from sklearn.preprocessing import LabelEncoder\n",
        "\n",
        "\n",
        "\n",
        "# label_encoder = LabelEncoder()\n",
        "\n",
        "# train_messages= train_tweets.copy()\n",
        "\n",
        "# # Map labels to numerical values\n",
        "# train_messages['Intensity Class'] = label_encoder.fit_transform(train_messages[\"Intensity Class\"])\n",
        "# # test_messages['Intensity Class'] = label_encoder.fit_transform(test_messages['Intensity Class'])\n",
        "\n",
        "# # print(train_messages)\n",
        "\n",
        "\n",
        "# # train_label = train_messages.drop(['text'], axis=1)\n",
        "# # test_label = test_messages.drop(['text'], axis=1)\n",
        "\n",
        "# train_messages"
      ],
      "metadata": {
        "execution": {
          "iopub.status.busy": "2024-04-15T11:59:38.930673Z",
          "iopub.execute_input": "2024-04-15T11:59:38.931095Z",
          "iopub.status.idle": "2024-04-15T11:59:38.936700Z",
          "shell.execute_reply.started": "2024-04-15T11:59:38.931062Z",
          "shell.execute_reply": "2024-04-15T11:59:38.935125Z"
        },
        "trusted": true,
        "id": "adHuJdMjUmIg"
      },
      "execution_count": null,
      "outputs": []
    },
    {
      "cell_type": "code",
      "source": [
        "data_test = test_tweets[['Tweet', 'Label']].copy()\n",
        "data_test.groupby('Label').count().plot(kind='bar')"
      ],
      "metadata": {
        "execution": {
          "iopub.status.busy": "2024-04-15T11:59:38.938494Z",
          "iopub.execute_input": "2024-04-15T11:59:38.938968Z",
          "iopub.status.idle": "2024-04-15T11:59:39.248217Z",
          "shell.execute_reply.started": "2024-04-15T11:59:38.938927Z",
          "shell.execute_reply": "2024-04-15T11:59:39.247319Z"
        },
        "trusted": true,
        "id": "WyzMfWdhUmIh",
        "outputId": "941a6661-2348-40fe-c1ed-7a0d9f972fe7"
      },
      "execution_count": null,
      "outputs": [
        {
          "execution_count": 15,
          "output_type": "execute_result",
          "data": {
            "text/plain": "<Axes: xlabel='Label'>"
          },
          "metadata": {}
        },
        {
          "output_type": "display_data",
          "data": {
            "text/plain": "<Figure size 640x480 with 1 Axes>",
            "image/png": "[encoded data removed]"
          },
          "metadata": {}
        }
      ]
    },
    {
      "cell_type": "code",
      "source": [
        "m_train = train_tweets[['Tweet', 'Label']].copy()\n",
        "\n",
        "m_test = test_tweets[['Tweet', 'Label']].copy()\n"
      ],
      "metadata": {
        "execution": {
          "iopub.status.busy": "2024-04-15T11:59:39.249251Z",
          "iopub.execute_input": "2024-04-15T11:59:39.249599Z",
          "iopub.status.idle": "2024-04-15T11:59:39.258478Z",
          "shell.execute_reply.started": "2024-04-15T11:59:39.249571Z",
          "shell.execute_reply": "2024-04-15T11:59:39.257518Z"
        },
        "trusted": true,
        "id": "lIFJWEv4UmIh"
      },
      "execution_count": null,
      "outputs": []
    },
    {
      "cell_type": "code",
      "source": [
        "import re\n",
        "import emoji\n",
        "# from unidecode import unidecode\n",
        "\n",
        "def clean_text(text):\n",
        "    # Remove Unicode characters\n",
        "    text = re.sub(r\"\\\\u2019\", \"'\", text)\n",
        "    text = re.sub(r\"\\\\u002c\", \",\", text)\n",
        "\n",
        "    # Convert to lowercase and handle emojis\n",
        "    text = emoji.demojize((text).lower())\n",
        "\n",
        "\n",
        "\n",
        "    # Remove URLs\n",
        "    text = re.sub(r\"(http|https)?:\\/\\/[a-zA-Z0-9\\.-]+\\.[a-zA-Z]{2,4}(/\\S*)?\", \"\", text)\n",
        "\n",
        "    # Expand contractions\n",
        "    text = re.sub(r\"\\'ve\", \"have\", text)\n",
        "    text = re.sub(r\" can\\'t\", \"cannot\", text)\n",
        "    text = re.sub(r\"n\\'t\", \"not\", text)\n",
        "    text = re.sub(r\"\\'re\", \"are\", text)\n",
        "    text = re.sub(r\"\\'d\", \"would\", text)\n",
        "    text = re.sub(r\"\\'11\", \"will\", text)\n",
        "    text = re.sub(r\"\\'s\", \"\", text)\n",
        "    text = re.sub(r\"\\'n\", \"\", text)\n",
        "    text = re.sub(r\"\\'m\", \"am\", text)\n",
        "\n",
        "    # Remove special characters and numbers\n",
        "    text = re.sub(r\"[^a-zA-Z\\s]\", \" \", text)\n",
        "\n",
        "    # Suppress repeated letters or vowels more than twice\n",
        "    text = re.sub(r'([a-zA-Z])\\1{2,}', r'\\1', text)\n",
        "\n",
        "    # Remove letters that are alone\n",
        "    text = re.sub(r'\\b\\w\\b', '', text)\n",
        "\n",
        "    return text"
      ],
      "metadata": {
        "execution": {
          "iopub.status.busy": "2024-04-15T11:59:39.260006Z",
          "iopub.execute_input": "2024-04-15T11:59:39.260422Z",
          "iopub.status.idle": "2024-04-15T11:59:39.269775Z",
          "shell.execute_reply.started": "2024-04-15T11:59:39.260391Z",
          "shell.execute_reply": "2024-04-15T11:59:39.268512Z"
        },
        "trusted": true,
        "id": "sBoxCAvcUmIh"
      },
      "execution_count": null,
      "outputs": []
    },
    {
      "cell_type": "code",
      "source": [
        "from keras.preprocessing.text import Tokenizer\n",
        "\n",
        "\n",
        "# Download NLTK resources\n",
        "\n",
        "# nltk.download()\n",
        "nltk.download('stopwords')\n",
        "nltk.download('wordnet')\n",
        "\n",
        "# nltk.data.path.append('/kaggle/working/')\n",
        "\n",
        "\n",
        "class TextPreprocessor:\n",
        "    def __init__(self):\n",
        "        # Initialize lemmatizer and stemmer\n",
        "        self.lemm = WordNetLemmatizer()\n",
        "        self.stemmer = PorterStemmer()\n",
        "\n",
        "        # Define stopwords including negation words\n",
        "        self.stop_words = set(stopwords.words('english'))\n",
        "        self.negation_words = {'not', 'no', 'never', 'nor'}\n",
        "        self.stop_words -= self.negation_words\n",
        "\n",
        "        # Initialize corpus\n",
        "        self.corpus = []\n",
        "\n",
        "    def normalized_text(self, data):\n",
        "        \"\"\"Preprocesses text data.\"\"\"\n",
        "        for i in range(len(data)):\n",
        "#             review =  clean_text(data[i])\n",
        "            review = re.sub('[^a-zA-Z]', ' ', data[i])\n",
        "            review = review.lower()\n",
        "            review = review.split()\n",
        "            review = [self.lemm.lemmatize(word) for word in review if word not in self.stop_words]\n",
        "            review = ' '.join(review)\n",
        "            self.corpus.append(review)\n",
        "        return self.corpus\n",
        "\n",
        "    def preprocess_text(self, df, voc_size, sent_length):\n",
        "\n",
        "\n",
        "        onehot_repr = [one_hot(words, voc_size) for words in df]\n",
        "        embedded_docs = pad_sequences(onehot_repr, padding='pre', maxlen=sent_length)\n",
        "        return embedded_docs\n",
        "\n",
        "    def vectorized_text(self,df,voc_size,sent_length):\n",
        "\n",
        "        tok = Tokenizer(voc_size)\n",
        "        tok.fit_on_texts(df)\n",
        "        sequences = tok.texts_to_sequences(df)\n",
        "        sequences_matrix = pad_sequences(sequences,maxlen=sent_length)\n",
        "        return sequences_matrix"
      ],
      "metadata": {
        "execution": {
          "iopub.status.busy": "2024-04-15T11:59:39.271247Z",
          "iopub.execute_input": "2024-04-15T11:59:39.271607Z",
          "iopub.status.idle": "2024-04-15T11:59:39.409034Z",
          "shell.execute_reply.started": "2024-04-15T11:59:39.271579Z",
          "shell.execute_reply": "2024-04-15T11:59:39.407247Z"
        },
        "trusted": true,
        "id": "hgEofrfbUmIi",
        "outputId": "4c826912-3732-4d43-c239-f81ae57a597f"
      },
      "execution_count": null,
      "outputs": [
        {
          "name": "stderr",
          "text": "[nltk_data] Downloading package stopwords to /usr/share/nltk_data...\n[nltk_data]   Package stopwords is already up-to-date!\n[nltk_data] Downloading package wordnet to /usr/share/nltk_data...\n[nltk_data]   Package wordnet is already up-to-date!\n",
          "output_type": "stream"
        }
      ]
    },
    {
      "cell_type": "code",
      "source": [
        "\n",
        "train_data_preprocessor = TextPreprocessor()\n",
        "\n",
        "df2 = train_data_preprocessor.normalized_text(m_train['Tweet'])\n",
        "\n",
        "print( pd.DataFrame({'text': df2}).shape)"
      ],
      "metadata": {
        "execution": {
          "iopub.status.busy": "2024-04-15T11:59:39.411121Z",
          "iopub.execute_input": "2024-04-15T11:59:39.411632Z",
          "iopub.status.idle": "2024-04-15T11:59:42.005350Z",
          "shell.execute_reply.started": "2024-04-15T11:59:39.411588Z",
          "shell.execute_reply": "2024-04-15T11:59:42.004209Z"
        },
        "trusted": true,
        "id": "cEs2x1W8UmIi",
        "outputId": "527b1a85-5b90-4ef7-bd51-9cc09950a9ee"
      },
      "execution_count": null,
      "outputs": [
        {
          "name": "stdout",
          "text": "(1181, 1)\n",
          "output_type": "stream"
        }
      ]
    },
    {
      "cell_type": "code",
      "source": [
        "max_length = 0\n",
        "\n",
        "# Iterate through each string in the list\n",
        "for string in df2:\n",
        "\n",
        "    words = string.split()\n",
        "\n",
        "    for word in words:\n",
        "        # Update maximum length if necessary\n",
        "        max_length = max(max_length, len(word))\n",
        "\n",
        "\n",
        "print(\"Maximum length of a word:\", max_length)"
      ],
      "metadata": {
        "execution": {
          "iopub.status.busy": "2024-04-15T11:59:42.008124Z",
          "iopub.execute_input": "2024-04-15T11:59:42.009439Z",
          "iopub.status.idle": "2024-04-15T11:59:42.023438Z",
          "shell.execute_reply.started": "2024-04-15T11:59:42.009396Z",
          "shell.execute_reply": "2024-04-15T11:59:42.022086Z"
        },
        "trusted": true,
        "id": "gYJeI10sUmIj",
        "outputId": "5773c1dd-2439-4771-fb0a-303d26c6c056"
      },
      "execution_count": null,
      "outputs": [
        {
          "name": "stdout",
          "text": "Maximum length of a word: 29\n",
          "output_type": "stream"
        }
      ]
    },
    {
      "cell_type": "code",
      "source": [
        "\n",
        "train_data_preprocessor = TextPreprocessor()\n",
        "\n",
        "df3 = train_data_preprocessor.normalized_text(m_test['Tweet'])\n",
        "\n",
        "print( pd.DataFrame({'text': df3}).shape)"
      ],
      "metadata": {
        "execution": {
          "iopub.status.busy": "2024-04-15T11:59:42.024871Z",
          "iopub.execute_input": "2024-04-15T11:59:42.025252Z",
          "iopub.status.idle": "2024-04-15T11:59:42.083676Z",
          "shell.execute_reply.started": "2024-04-15T11:59:42.025223Z",
          "shell.execute_reply": "2024-04-15T11:59:42.082403Z"
        },
        "trusted": true,
        "id": "Op6fOh9TUmIj",
        "outputId": "6d212a10-9826-4c8a-de08-0d3fa241cb13"
      },
      "execution_count": null,
      "outputs": [
        {
          "name": "stdout",
          "text": "(449, 1)\n",
          "output_type": "stream"
        }
      ]
    },
    {
      "cell_type": "code",
      "source": [
        "voc_size=5000\n",
        "\n",
        "embedded_docs_train =train_data_preprocessor.preprocess_text(df2,voc_size,396)\n",
        "\n",
        "print(embedded_docs_train)\n",
        "\n",
        "embedded_docs_test =train_data_preprocessor.preprocess_text(df3,voc_size,396)\n",
        "\n",
        "print(embedded_docs_test)"
      ],
      "metadata": {
        "execution": {
          "iopub.status.busy": "2024-04-15T11:59:42.085581Z",
          "iopub.execute_input": "2024-04-15T11:59:42.086348Z",
          "iopub.status.idle": "2024-04-15T11:59:42.132537Z",
          "shell.execute_reply.started": "2024-04-15T11:59:42.086306Z",
          "shell.execute_reply": "2024-04-15T11:59:42.131302Z"
        },
        "trusted": true,
        "id": "xgO7lFljUmIk",
        "outputId": "8d289b68-fb7e-45bd-c8fc-4bac4e6f5bc3"
      },
      "execution_count": null,
      "outputs": [
        {
          "name": "stdout",
          "text": "[[   0    0    0 ... 3014 1490 3522]\n [   0    0    0 ... 1377 4325  251]\n [   0    0    0 ... 3978 1386 4376]\n ...\n [   0    0    0 ... 1756 3320 4888]\n [   0    0    0 ... 4371 4751 1413]\n [   0    0    0 ... 3437 2951 4465]]\n[[   0    0    0 ... 1659 2658 4633]\n [   0    0    0 ... 2150  174 2597]\n [   0    0    0 ...   69  950 3750]\n ...\n [   0    0    0 ... 1042 2635  206]\n [   0    0    0 ... 4454 4454 4866]\n [   0    0    0 ... 3593 1310 4917]]\n",
          "output_type": "stream"
        }
      ]
    },
    {
      "cell_type": "code",
      "source": [
        "pd.DataFrame({'Tweet': df3}).tail(10)"
      ],
      "metadata": {
        "execution": {
          "iopub.status.busy": "2024-04-15T11:59:42.134254Z",
          "iopub.execute_input": "2024-04-15T11:59:42.134598Z",
          "iopub.status.idle": "2024-04-15T11:59:42.145779Z",
          "shell.execute_reply.started": "2024-04-15T11:59:42.134570Z",
          "shell.execute_reply": "2024-04-15T11:59:42.144443Z"
        },
        "trusted": true,
        "id": "EcFF-r-5UmIk",
        "outputId": "b147bf76-f574-41af-bb1c-e4cc626ec2ea"
      },
      "execution_count": null,
      "outputs": [
        {
          "execution_count": 23,
          "output_type": "execute_result",
          "data": {
            "text/plain": "                                                 Tweet\n439  next time go lagos gate crash somebody owambe ...\n440              popstufs coffee good view even better\n441  tikitakaconnor eduardo without injury honestly...\n442  ai revolation soon possible n fearless fearful...\n443                                   post trnsmt blue\n444  idk help someone smile come lip n n thatisall ...\n445      think sleep favorite get dark maybe insomniac\n446                   amelia want sarah v grateful cbb\n447  lack faith make people afraid meeting challeng...\n448  james clapper scary disturbing thamendmentnow ...",
            "text/html": "<div>\n<style scoped>\n    .dataframe tbody tr th:only-of-type {\n        vertical-align: middle;\n    }\n\n    .dataframe tbody tr th {\n        vertical-align: top;\n    }\n\n    .dataframe thead th {\n        text-align: right;\n    }\n</style>\n<table border=\"1\" class=\"dataframe\">\n  <thead>\n    <tr style=\"text-align: right;\">\n      <th></th>\n      <th>Tweet</th>\n    </tr>\n  </thead>\n  <tbody>\n    <tr>\n      <th>439</th>\n      <td>next time go lagos gate crash somebody owambe ...</td>\n    </tr>\n    <tr>\n      <th>440</th>\n      <td>popstufs coffee good view even better</td>\n    </tr>\n    <tr>\n      <th>441</th>\n      <td>tikitakaconnor eduardo without injury honestly...</td>\n    </tr>\n    <tr>\n      <th>442</th>\n      <td>ai revolation soon possible n fearless fearful...</td>\n    </tr>\n    <tr>\n      <th>443</th>\n      <td>post trnsmt blue</td>\n    </tr>\n    <tr>\n      <th>444</th>\n      <td>idk help someone smile come lip n n thatisall ...</td>\n    </tr>\n    <tr>\n      <th>445</th>\n      <td>think sleep favorite get dark maybe insomniac</td>\n    </tr>\n    <tr>\n      <th>446</th>\n      <td>amelia want sarah v grateful cbb</td>\n    </tr>\n    <tr>\n      <th>447</th>\n      <td>lack faith make people afraid meeting challeng...</td>\n    </tr>\n    <tr>\n      <th>448</th>\n      <td>james clapper scary disturbing thamendmentnow ...</td>\n    </tr>\n  </tbody>\n</table>\n</div>"
          },
          "metadata": {}
        }
      ]
    },
    {
      "cell_type": "code",
      "source": [
        "pd.DataFrame({'Tweet': df2}).tail(10)"
      ],
      "metadata": {
        "execution": {
          "iopub.status.busy": "2024-04-15T11:59:42.147187Z",
          "iopub.execute_input": "2024-04-15T11:59:42.148319Z",
          "iopub.status.idle": "2024-04-15T11:59:42.160981Z",
          "shell.execute_reply.started": "2024-04-15T11:59:42.148287Z",
          "shell.execute_reply": "2024-04-15T11:59:42.160013Z"
        },
        "trusted": true,
        "id": "-m7mRuJLUmIl",
        "outputId": "6b4ae866-da58-43d8-eba6-ae3d36d5c305"
      },
      "execution_count": null,
      "outputs": [
        {
          "execution_count": 24,
          "output_type": "execute_result",
          "data": {
            "text/plain": "                                                  Tweet\n1171  deltadomain sawdraze qurions dis dat nigga fum...\n1172          see hovering block button today much glee\n1173                                   serious need nap\n1174                 honestly awful people internet smh\n1175  truly believe heart right satan rejoicing one ...\n1176  dumteedum think ian knew pavel knew charlie be...\n1177                                    lost wallet lol\n1178  repentance trusting christ lowly painful also ...\n1179            fordays chewing smile arcdental turlock\n1180                  anxious time leaving house horrid",
            "text/html": "<div>\n<style scoped>\n    .dataframe tbody tr th:only-of-type {\n        vertical-align: middle;\n    }\n\n    .dataframe tbody tr th {\n        vertical-align: top;\n    }\n\n    .dataframe thead th {\n        text-align: right;\n    }\n</style>\n<table border=\"1\" class=\"dataframe\">\n  <thead>\n    <tr style=\"text-align: right;\">\n      <th></th>\n      <th>Tweet</th>\n    </tr>\n  </thead>\n  <tbody>\n    <tr>\n      <th>1171</th>\n      <td>deltadomain sawdraze qurions dis dat nigga fum...</td>\n    </tr>\n    <tr>\n      <th>1172</th>\n      <td>see hovering block button today much glee</td>\n    </tr>\n    <tr>\n      <th>1173</th>\n      <td>serious need nap</td>\n    </tr>\n    <tr>\n      <th>1174</th>\n      <td>honestly awful people internet smh</td>\n    </tr>\n    <tr>\n      <th>1175</th>\n      <td>truly believe heart right satan rejoicing one ...</td>\n    </tr>\n    <tr>\n      <th>1176</th>\n      <td>dumteedum think ian knew pavel knew charlie be...</td>\n    </tr>\n    <tr>\n      <th>1177</th>\n      <td>lost wallet lol</td>\n    </tr>\n    <tr>\n      <th>1178</th>\n      <td>repentance trusting christ lowly painful also ...</td>\n    </tr>\n    <tr>\n      <th>1179</th>\n      <td>fordays chewing smile arcdental turlock</td>\n    </tr>\n    <tr>\n      <th>1180</th>\n      <td>anxious time leaving house horrid</td>\n    </tr>\n  </tbody>\n</table>\n</div>"
          },
          "metadata": {}
        }
      ]
    },
    {
      "cell_type": "code",
      "source": [
        "import kagglehub\n",
        "\n",
        "# Download latest version\n",
        "path = kagglehub.model_download(\"semireddy/sentimental-analysis-tweets/tensorFlow2/tp1\")\n",
        "\n",
        "print(\"Path to model files:\", path)"
      ],
      "metadata": {
        "execution": {
          "iopub.status.busy": "2024-04-15T11:59:42.162506Z",
          "iopub.execute_input": "2024-04-15T11:59:42.162858Z",
          "iopub.status.idle": "2024-04-15T11:59:42.703845Z",
          "shell.execute_reply.started": "2024-04-15T11:59:42.162830Z",
          "shell.execute_reply": "2024-04-15T11:59:42.702568Z"
        },
        "trusted": true,
        "id": "zjJGFNH-UmIm",
        "outputId": "6a799686-a607-432c-f460-52ab29728d08"
      },
      "execution_count": null,
      "outputs": [
        {
          "name": "stderr",
          "text": "Attaching model 'semireddy/sentimental-analysis-tweets/tensorFlow2/tp1' to your Kaggle notebook...\n",
          "output_type": "stream"
        },
        {
          "name": "stdout",
          "text": "Path to model files: /kaggle/input/sentimental-analysis-tweets/tensorflow2/tp1/1\n",
          "output_type": "stream"
        }
      ]
    },
    {
      "cell_type": "code",
      "source": [
        "from keras.models import load_model\n",
        "\n",
        "# Charger les poids du modèle pré-entraîné pour la tâche source (classification en 3 classes)\n",
        "pretrained_model = load_model(\"/kaggle/input/sentimental-analysis-tweets/tensorflow2/tp1/1/sentimentaltp1.h5\")"
      ],
      "metadata": {
        "execution": {
          "iopub.status.busy": "2024-04-15T11:59:42.705364Z",
          "iopub.execute_input": "2024-04-15T11:59:42.705810Z",
          "iopub.status.idle": "2024-04-15T11:59:43.704746Z",
          "shell.execute_reply.started": "2024-04-15T11:59:42.705771Z",
          "shell.execute_reply": "2024-04-15T11:59:43.703374Z"
        },
        "trusted": true,
        "id": "FaHkmSi5UmIn"
      },
      "execution_count": null,
      "outputs": []
    },
    {
      "cell_type": "code",
      "source": [
        "dir(pretrained_model.layers)"
      ],
      "metadata": {
        "execution": {
          "iopub.status.busy": "2024-04-15T11:59:43.706365Z",
          "iopub.execute_input": "2024-04-15T11:59:43.707300Z",
          "iopub.status.idle": "2024-04-15T11:59:43.715450Z",
          "shell.execute_reply.started": "2024-04-15T11:59:43.707264Z",
          "shell.execute_reply": "2024-04-15T11:59:43.714152Z"
        },
        "trusted": true,
        "id": "uLjLqUQcUmIo"
      },
      "execution_count": null,
      "outputs": []
    },
    {
      "cell_type": "code",
      "source": [
        "pretrained_layers=pretrained_model.layers\n",
        "for layer in pretrained_layers:\n",
        "    layer.trainable = False"
      ],
      "metadata": {
        "execution": {
          "iopub.status.busy": "2024-04-15T11:59:43.721608Z",
          "iopub.execute_input": "2024-04-15T11:59:43.722061Z",
          "iopub.status.idle": "2024-04-15T11:59:43.729197Z",
          "shell.execute_reply.started": "2024-04-15T11:59:43.722027Z",
          "shell.execute_reply": "2024-04-15T11:59:43.728234Z"
        },
        "trusted": true,
        "id": "hV-uQP9EUmIq"
      },
      "execution_count": null,
      "outputs": []
    },
    {
      "cell_type": "code",
      "source": [
        "from keras.models import load_model\n",
        "from keras.layers import Dense\n",
        "from keras.models import Model\n",
        "\n",
        "# Charger les poids du modèle pré-entraîné pour la tâche source (classification en 3 classes)\n",
        "pretrained_layers=pretrained_model.layers[:-1]\n",
        "\n",
        "for layer in pretrained_layers:\n",
        "    layer.trainable = False\n",
        "# Récupérer la sortie de la dernière couche du modèle pré-entraîné\n",
        "pretrained_output = pretrained_layers[-1].output\n",
        "\n",
        "\n",
        "x = Dense(100, activation='relu',name='new_layer3')(pretrained_output)  # Ajouter une couche dense\n",
        "output_layer = Dense(7, activation='sigmoid', name='output_layer3')(x)  # Couche de sortie avec 7 classes\n",
        "\n",
        "# Créer un nouveau modèle en spécifiant les entrées et les sorties\n",
        "model7 = Model(inputs=pretrained_model.input, outputs=output_layer)\n",
        "\n",
        "# Compiler le modèle\n",
        "model7.compile(optimizer='RMSprop', loss='sparse_categorical_crossentropy', metrics=['accuracy'])\n",
        "\n",
        "print(model7.summary())"
      ],
      "metadata": {
        "execution": {
          "iopub.status.busy": "2024-04-15T11:59:43.732866Z",
          "iopub.execute_input": "2024-04-15T11:59:43.733363Z",
          "iopub.status.idle": "2024-04-15T11:59:43.824811Z",
          "shell.execute_reply.started": "2024-04-15T11:59:43.733330Z",
          "shell.execute_reply": "2024-04-15T11:59:43.823640Z"
        },
        "trusted": true,
        "id": "6dShDGBNUmIu",
        "outputId": "539528d0-2c6e-439e-93b0-f6229960810b"
      },
      "execution_count": null,
      "outputs": [
        {
          "name": "stdout",
          "text": "Model: \"model\"\n_________________________________________________________________\n Layer (type)                Output Shape              Param #   \n=================================================================\n embedding_input (InputLaye  [(None, 396)]             0         \n r)                                                              \n                                                                 \n embedding (Embedding)       (None, 396, 20)           100000    \n                                                                 \n bidirectional (Bidirection  (None, 300)               205200    \n al)                                                             \n                                                                 \n dense (Dense)               (None, 200)               60200     \n                                                                 \n dropout (Dropout)           (None, 200)               0         \n                                                                 \n dense_1 (Dense)             (None, 150)               30150     \n                                                                 \n dropout_1 (Dropout)         (None, 150)               0         \n                                                                 \n new_layer3 (Dense)          (None, 100)               15100     \n                                                                 \n output_layer3 (Dense)       (None, 7)                 707       \n                                                                 \n=================================================================\nTotal params: 411357 (1.57 MB)\nTrainable params: 15807 (61.75 KB)\nNon-trainable params: 395550 (1.51 MB)\n_________________________________________________________________\nNone\n",
          "output_type": "stream"
        }
      ]
    },
    {
      "cell_type": "code",
      "source": [
        "print(model7.summary())"
      ],
      "metadata": {
        "execution": {
          "iopub.status.busy": "2024-04-15T11:59:43.834710Z",
          "iopub.execute_input": "2024-04-15T11:59:43.835098Z",
          "iopub.status.idle": "2024-04-15T11:59:43.883121Z",
          "shell.execute_reply.started": "2024-04-15T11:59:43.835066Z",
          "shell.execute_reply": "2024-04-15T11:59:43.882212Z"
        },
        "trusted": true,
        "id": "JD0GFQCUUmIz",
        "outputId": "43c5993f-d051-4b1f-c320-f379c47073d3"
      },
      "execution_count": null,
      "outputs": [
        {
          "name": "stdout",
          "text": "Model: \"model\"\n_________________________________________________________________\n Layer (type)                Output Shape              Param #   \n=================================================================\n embedding_input (InputLaye  [(None, 396)]             0         \n r)                                                              \n                                                                 \n embedding (Embedding)       (None, 396, 20)           100000    \n                                                                 \n bidirectional (Bidirection  (None, 300)               205200    \n al)                                                             \n                                                                 \n dense (Dense)               (None, 200)               60200     \n                                                                 \n dropout (Dropout)           (None, 200)               0         \n                                                                 \n dense_1 (Dense)             (None, 150)               30150     \n                                                                 \n dropout_1 (Dropout)         (None, 150)               0         \n                                                                 \n new_layer3 (Dense)          (None, 100)               15100     \n                                                                 \n output_layer3 (Dense)       (None, 7)                 707       \n                                                                 \n=================================================================\nTotal params: 411357 (1.57 MB)\nTrainable params: 15807 (61.75 KB)\nNon-trainable params: 395550 (1.51 MB)\n_________________________________________________________________\nNone\n",
          "output_type": "stream"
        }
      ]
    },
    {
      "cell_type": "code",
      "source": [
        "x_train=np.array(embedded_docs_train)\n",
        "y_train=np.array(m_train['Label'])\n",
        "\n",
        "x_train.shape,y_train.shape"
      ],
      "metadata": {
        "execution": {
          "iopub.status.busy": "2024-04-15T11:59:43.884322Z",
          "iopub.execute_input": "2024-04-15T11:59:43.884752Z",
          "iopub.status.idle": "2024-04-15T11:59:43.900038Z",
          "shell.execute_reply.started": "2024-04-15T11:59:43.884713Z",
          "shell.execute_reply": "2024-04-15T11:59:43.898479Z"
        },
        "trusted": true,
        "id": "b-hdak3iUmI0",
        "outputId": "df7095b4-34ed-4297-a010-44d1aa27ca78"
      },
      "execution_count": null,
      "outputs": [
        {
          "execution_count": 32,
          "output_type": "execute_result",
          "data": {
            "text/plain": "((1181, 396), (1181,))"
          },
          "metadata": {}
        }
      ]
    },
    {
      "cell_type": "code",
      "source": [
        "x_validate =np.array(embedded_docs_test)\n",
        "y_validate = np.array(m_test['Label'])\n",
        "\n",
        "x_validate.shape, y_validate.shape"
      ],
      "metadata": {
        "execution": {
          "iopub.status.busy": "2024-04-15T11:59:43.902183Z",
          "iopub.execute_input": "2024-04-15T11:59:43.902653Z",
          "iopub.status.idle": "2024-04-15T11:59:43.913730Z",
          "shell.execute_reply.started": "2024-04-15T11:59:43.902611Z",
          "shell.execute_reply": "2024-04-15T11:59:43.912176Z"
        },
        "trusted": true,
        "id": "ZWVjD8W4UmI1",
        "outputId": "d7819c7a-4c3c-4d6a-a390-937f3d2525f8"
      },
      "execution_count": null,
      "outputs": [
        {
          "execution_count": 33,
          "output_type": "execute_result",
          "data": {
            "text/plain": "((449, 396), (449,))"
          },
          "metadata": {}
        }
      ]
    },
    {
      "cell_type": "code",
      "source": [
        "X_train, X_test, Y_train, Y_test = train_test_split(x_train, y_train, random_state=5)\n"
      ],
      "metadata": {
        "execution": {
          "iopub.status.busy": "2024-04-15T12:16:49.281320Z",
          "iopub.execute_input": "2024-04-15T12:16:49.281832Z",
          "iopub.status.idle": "2024-04-15T12:16:50.238998Z",
          "shell.execute_reply.started": "2024-04-15T12:16:49.281797Z",
          "shell.execute_reply": "2024-04-15T12:16:50.236710Z"
        },
        "trusted": true,
        "id": "3svfDjtLUmI2"
      },
      "execution_count": null,
      "outputs": []
    },
    {
      "cell_type": "code",
      "source": [
        "X_test.shape,Y_test.shape"
      ],
      "metadata": {
        "execution": {
          "iopub.status.busy": "2024-04-15T12:16:05.942359Z",
          "iopub.execute_input": "2024-04-15T12:16:05.942928Z",
          "iopub.status.idle": "2024-04-15T12:16:05.952121Z",
          "shell.execute_reply.started": "2024-04-15T12:16:05.942886Z",
          "shell.execute_reply": "2024-04-15T12:16:05.950427Z"
        },
        "trusted": true,
        "id": "Xk45TbDtUmI3",
        "outputId": "bbfff18c-3192-4859-e034-8a98642f59b6"
      },
      "execution_count": null,
      "outputs": [
        {
          "execution_count": 42,
          "output_type": "execute_result",
          "data": {
            "text/plain": "((296, 396), (296,))"
          },
          "metadata": {}
        }
      ]
    },
    {
      "cell_type": "code",
      "source": [
        "y_pred3 = model7.fit(x_train,y_train,validation_data=(x_validate,y_validate),epochs=25,batch_size=5)"
      ],
      "metadata": {
        "execution": {
          "iopub.status.busy": "2024-04-15T12:07:30.000497Z",
          "iopub.execute_input": "2024-04-15T12:07:30.001057Z",
          "iopub.status.idle": "2024-04-15T12:15:52.034349Z",
          "shell.execute_reply.started": "2024-04-15T12:07:30.001016Z",
          "shell.execute_reply": "2024-04-15T12:15:52.032854Z"
        },
        "trusted": true,
        "id": "GzwvjK4ZUmI3",
        "outputId": "5be1ade3-8510-44e7-e423-7609a6e6d8b7"
      },
      "execution_count": null,
      "outputs": [
        {
          "name": "stdout",
          "text": "Epoch 1/25\n119/119 [==============================] - 18s 152ms/step - loss: 1.8808 - accuracy: 0.2599 - val_loss: 1.9005 - val_accuracy: 0.2339\nEpoch 2/25\n119/119 [==============================] - 18s 149ms/step - loss: 1.8545 - accuracy: 0.2820 - val_loss: 1.9145 - val_accuracy: 0.2339\nEpoch 3/25\n119/119 [==============================] - 19s 157ms/step - loss: 1.8647 - accuracy: 0.2820 - val_loss: 1.8966 - val_accuracy: 0.2183\nEpoch 4/25\n119/119 [==============================] - 19s 161ms/step - loss: 1.8632 - accuracy: 0.2684 - val_loss: 1.9086 - val_accuracy: 0.2316\nEpoch 5/25\n119/119 [==============================] - 18s 153ms/step - loss: 1.8732 - accuracy: 0.2777 - val_loss: 1.9163 - val_accuracy: 0.2227\nEpoch 6/25\n119/119 [==============================] - 18s 155ms/step - loss: 1.8561 - accuracy: 0.2752 - val_loss: 1.9004 - val_accuracy: 0.2361\nEpoch 7/25\n119/119 [==============================] - 18s 148ms/step - loss: 1.8708 - accuracy: 0.2794 - val_loss: 1.8919 - val_accuracy: 0.2183\nEpoch 8/25\n119/119 [==============================] - 18s 152ms/step - loss: 1.8751 - accuracy: 0.2710 - val_loss: 1.8887 - val_accuracy: 0.2361\nEpoch 9/25\n119/119 [==============================] - 18s 149ms/step - loss: 1.8673 - accuracy: 0.2803 - val_loss: 1.8944 - val_accuracy: 0.2339\nEpoch 10/25\n119/119 [==============================] - 18s 153ms/step - loss: 1.8707 - accuracy: 0.2743 - val_loss: 1.9019 - val_accuracy: 0.2339\nEpoch 11/25\n119/119 [==============================] - 17s 147ms/step - loss: 1.8799 - accuracy: 0.2743 - val_loss: 1.9043 - val_accuracy: 0.2361\nEpoch 12/25\n119/119 [==============================] - 18s 155ms/step - loss: 1.8778 - accuracy: 0.2710 - val_loss: 1.9119 - val_accuracy: 0.2339\nEpoch 13/25\n119/119 [==============================] - 19s 158ms/step - loss: 1.8659 - accuracy: 0.2718 - val_loss: 1.9003 - val_accuracy: 0.2183\nEpoch 14/25\n119/119 [==============================] - 18s 150ms/step - loss: 1.8666 - accuracy: 0.2642 - val_loss: 1.8917 - val_accuracy: 0.2405\nEpoch 15/25\n119/119 [==============================] - 18s 152ms/step - loss: 1.8552 - accuracy: 0.2887 - val_loss: 1.9056 - val_accuracy: 0.2339\nEpoch 16/25\n119/119 [==============================] - 18s 149ms/step - loss: 1.8599 - accuracy: 0.2752 - val_loss: 1.8807 - val_accuracy: 0.2339\nEpoch 17/25\n119/119 [==============================] - 18s 152ms/step - loss: 1.8734 - accuracy: 0.2676 - val_loss: 1.8832 - val_accuracy: 0.2361\nEpoch 18/25\n119/119 [==============================] - 18s 147ms/step - loss: 1.8565 - accuracy: 0.2676 - val_loss: 1.9262 - val_accuracy: 0.2339\nEpoch 19/25\n119/119 [==============================] - 18s 151ms/step - loss: 1.8721 - accuracy: 0.2879 - val_loss: 1.9711 - val_accuracy: 0.1648\nEpoch 20/25\n119/119 [==============================] - 18s 155ms/step - loss: 1.8805 - accuracy: 0.2676 - val_loss: 1.9167 - val_accuracy: 0.2339\nEpoch 21/25\n119/119 [==============================] - 18s 152ms/step - loss: 1.8620 - accuracy: 0.2828 - val_loss: 1.9054 - val_accuracy: 0.2339\nEpoch 22/25\n119/119 [==============================] - 18s 151ms/step - loss: 1.8742 - accuracy: 0.2718 - val_loss: 1.9001 - val_accuracy: 0.2339\nEpoch 23/25\n119/119 [==============================] - 17s 147ms/step - loss: 1.8652 - accuracy: 0.2786 - val_loss: 1.9144 - val_accuracy: 0.2361\nEpoch 24/25\n119/119 [==============================] - 18s 151ms/step - loss: 1.8731 - accuracy: 0.2786 - val_loss: 1.9058 - val_accuracy: 0.2183\nEpoch 25/25\n119/119 [==============================] - 17s 147ms/step - loss: 1.8627 - accuracy: 0.2760 - val_loss: 1.9103 - val_accuracy: 0.2249\n",
          "output_type": "stream"
        }
      ]
    },
    {
      "cell_type": "code",
      "source": [
        "import matplotlib.pyplot as plt\n",
        "\n",
        "\n",
        "plt.plot(y_pred3.history['loss'])\n",
        "plt.plot(y_pred3.history['val_loss'])\n",
        "plt.title('Model loss')\n",
        "plt.ylabel('Loss')\n",
        "plt.xlabel('Epoch')\n",
        "plt.legend(['Train', 'Validation'], loc='upper right')\n",
        "plt.show()\n",
        "\n",
        "\n",
        "# Plot the accuracy of training and validation\n",
        "plt.plot(y_pred3.history['accuracy'])\n",
        "plt.plot(y_pred3.history['val_accuracy'])\n",
        "plt.title('Model Accuracy')\n",
        "plt.ylabel('Accuracy')\n",
        "plt.xlabel('Epoch')\n",
        "plt.legend(['Train', 'Validation'], loc='lower right')\n",
        "plt.show()"
      ],
      "metadata": {
        "execution": {
          "iopub.status.busy": "2024-04-15T12:06:09.753197Z",
          "iopub.execute_input": "2024-04-15T12:06:09.753881Z",
          "iopub.status.idle": "2024-04-15T12:06:10.489513Z",
          "shell.execute_reply.started": "2024-04-15T12:06:09.753826Z",
          "shell.execute_reply": "2024-04-15T12:06:10.488245Z"
        },
        "trusted": true,
        "id": "TLxG0qgDUmI3",
        "outputId": "bcc95ecb-044b-4f05-90f4-0dbdacb86acf"
      },
      "execution_count": null,
      "outputs": [
        {
          "output_type": "display_data",
          "data": {
            "text/plain": "<Figure size 640x480 with 1 Axes>",
            "image/png": "[encoded data removed]"
          },
          "metadata": {}
        },
        {
          "output_type": "display_data",
          "data": {
            "text/plain": "<Figure size 640x480 with 1 Axes>",
            "image/png": "[encoded data removed]"
          },
          "metadata": {}
        }
      ]
    }
  ]
}