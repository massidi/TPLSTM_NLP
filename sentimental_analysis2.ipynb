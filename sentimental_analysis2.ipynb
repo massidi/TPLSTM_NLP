{
  "metadata": {
    "accelerator": "GPU",
    "colab": {
      "gpuType": "T4",
      "provenance": [],
      "include_colab_link": true
    },
    "kernelspec": {
      "name": "python3",
      "display_name": "Python 3",
      "language": "python"
    },
    "language_info": {
      "name": "python",
      "version": "3.10.13",
      "mimetype": "text/x-python",
      "codemirror_mode": {
        "name": "ipython",
        "version": 3
      },
      "pygments_lexer": "ipython3",
      "nbconvert_exporter": "python",
      "file_extension": ".py"
    },
    "kaggle": {
      "accelerator": "tpu1vmV38",
      "dataSources": [
        {
          "sourceId": 2510329,
          "sourceType": "datasetVersion",
          "datasetId": 1520310
        }
      ],
      "dockerImageVersionId": 30673,
      "isInternetEnabled": true,
      "language": "python",
      "sourceType": "notebook",
      "isGpuEnabled": false
    }
  },
  "nbformat_minor": 0,
  "nbformat": 4,
  "cells": [
    {
      "cell_type": "markdown",
      "metadata": {
        "id": "view-in-github",
        "colab_type": "text"
      },
      "source": [
        "<a href=\"https://colab.research.google.com/github/massidi/TPLSTM_NLP/blob/main/sentimental_analysis2.ipynb\" target=\"_parent\"><img src=\"https://colab.research.google.com/assets/colab-badge.svg\" alt=\"Open In Colab\"/></a>"
      ]
    },
    {
      "cell_type": "markdown",
      "source": [
        "# ***Load Tweet dataset***\n",
        "Loading data from my local file ,source( [kaggel](https://www.kaggle.com/datasets/kazanova/sentiment140))\n",
        "\n"
      ],
      "metadata": {
        "id": "MT6l568Gdvhn"
      }
    },
    {
      "cell_type": "code",
      "source": [
        "!pip install tensorflow==2.15"
      ],
      "metadata": {
        "execution": {
          "iopub.status.idle": "2024-04-11T23:18:12.198963Z",
          "shell.execute_reply.started": "2024-04-11T23:18:08.775284Z",
          "shell.execute_reply": "2024-04-11T23:18:12.198066Z"
        },
        "trusted": true,
        "id": "8y8HCw0RUmQ_",
        "outputId": "b3219cad-179f-4e51-a22e-7e09f5ff34ee"
      },
      "execution_count": null,
      "outputs": [
        {
          "name": "stdout",
          "text": "Requirement already satisfied: tensorflow==2.15 in /usr/local/lib/python3.10/site-packages (2.15.0)\nRequirement already satisfied: six>=1.12.0 in /usr/local/lib/python3.10/site-packages (from tensorflow==2.15) (1.16.0)\nRequirement already satisfied: keras<2.16,>=2.15.0 in /usr/local/lib/python3.10/site-packages (from tensorflow==2.15) (2.15.0)\nRequirement already satisfied: astunparse>=1.6.0 in /usr/local/lib/python3.10/site-packages (from tensorflow==2.15) (1.6.3)\nRequirement already satisfied: packaging in /usr/local/lib/python3.10/site-packages (from tensorflow==2.15) (24.0)\nRequirement already satisfied: google-pasta>=0.1.1 in /usr/local/lib/python3.10/site-packages (from tensorflow==2.15) (0.2.0)\nRequirement already satisfied: absl-py>=1.0.0 in /usr/local/lib/python3.10/site-packages (from tensorflow==2.15) (1.4.0)\nRequirement already satisfied: grpcio<2.0,>=1.24.3 in /usr/local/lib/python3.10/site-packages (from tensorflow==2.15) (1.62.1)\nRequirement already satisfied: tensorflow-estimator<2.16,>=2.15.0 in /usr/local/lib/python3.10/site-packages (from tensorflow==2.15) (2.15.0)\nRequirement already satisfied: termcolor>=1.1.0 in /usr/local/lib/python3.10/site-packages (from tensorflow==2.15) (2.4.0)\nRequirement already satisfied: gast!=0.5.0,!=0.5.1,!=0.5.2,>=0.2.1 in /usr/local/lib/python3.10/site-packages (from tensorflow==2.15) (0.5.4)\nRequirement already satisfied: ml-dtypes~=0.2.0 in /usr/local/lib/python3.10/site-packages (from tensorflow==2.15) (0.2.0)\nRequirement already satisfied: tensorflow-io-gcs-filesystem>=0.23.1 in /usr/local/lib/python3.10/site-packages (from tensorflow==2.15) (0.36.0)\nRequirement already satisfied: h5py>=2.9.0 in /usr/local/lib/python3.10/site-packages (from tensorflow==2.15) (3.10.0)\nRequirement already satisfied: flatbuffers>=23.5.26 in /usr/local/lib/python3.10/site-packages (from tensorflow==2.15) (24.3.7)\nRequirement already satisfied: wrapt<1.15,>=1.11.0 in /usr/local/lib/python3.10/site-packages (from tensorflow==2.15) (1.14.1)\nRequirement already satisfied: tensorboard<2.16,>=2.15 in /usr/local/lib/python3.10/site-packages (from tensorflow==2.15) (2.15.2)\nRequirement already satisfied: numpy<2.0.0,>=1.23.5 in /usr/local/lib/python3.10/site-packages (from tensorflow==2.15) (1.26.4)\nRequirement already satisfied: libclang>=13.0.0 in /usr/local/lib/python3.10/site-packages (from tensorflow==2.15) (18.1.1)\nRequirement already satisfied: protobuf!=4.21.0,!=4.21.1,!=4.21.2,!=4.21.3,!=4.21.4,!=4.21.5,<5.0.0dev,>=3.20.3 in /usr/local/lib/python3.10/site-packages (from tensorflow==2.15) (3.20.3)\nRequirement already satisfied: setuptools in /usr/local/lib/python3.10/site-packages (from tensorflow==2.15) (65.5.1)\nRequirement already satisfied: opt-einsum>=2.3.2 in /usr/local/lib/python3.10/site-packages (from tensorflow==2.15) (3.3.0)\nRequirement already satisfied: typing-extensions>=3.6.6 in /usr/local/lib/python3.10/site-packages (from tensorflow==2.15) (4.10.0)\nRequirement already satisfied: wheel<1.0,>=0.23.0 in /usr/local/lib/python3.10/site-packages (from astunparse>=1.6.0->tensorflow==2.15) (0.43.0)\nRequirement already satisfied: google-auth<3,>=1.6.3 in /usr/local/lib/python3.10/site-packages (from tensorboard<2.16,>=2.15->tensorflow==2.15) (2.28.2)\nRequirement already satisfied: requests<3,>=2.21.0 in /usr/local/lib/python3.10/site-packages (from tensorboard<2.16,>=2.15->tensorflow==2.15) (2.31.0)\nRequirement already satisfied: markdown>=2.6.8 in /usr/local/lib/python3.10/site-packages (from tensorboard<2.16,>=2.15->tensorflow==2.15) (3.6)\nRequirement already satisfied: google-auth-oauthlib<2,>=0.5 in /usr/local/lib/python3.10/site-packages (from tensorboard<2.16,>=2.15->tensorflow==2.15) (1.2.0)\nRequirement already satisfied: werkzeug>=1.0.1 in /usr/local/lib/python3.10/site-packages (from tensorboard<2.16,>=2.15->tensorflow==2.15) (3.0.1)\nRequirement already satisfied: tensorboard-data-server<0.8.0,>=0.7.0 in /usr/local/lib/python3.10/site-packages (from tensorboard<2.16,>=2.15->tensorflow==2.15) (0.7.2)\nRequirement already satisfied: rsa<5,>=3.1.4 in /usr/local/lib/python3.10/site-packages (from google-auth<3,>=1.6.3->tensorboard<2.16,>=2.15->tensorflow==2.15) (4.9)\nRequirement already satisfied: cachetools<6.0,>=2.0.0 in /usr/local/lib/python3.10/site-packages (from google-auth<3,>=1.6.3->tensorboard<2.16,>=2.15->tensorflow==2.15) (5.3.3)\nRequirement already satisfied: pyasn1-modules>=0.2.1 in /usr/local/lib/python3.10/site-packages (from google-auth<3,>=1.6.3->tensorboard<2.16,>=2.15->tensorflow==2.15) (0.3.0)\nRequirement already satisfied: requests-oauthlib>=0.7.0 in /usr/local/lib/python3.10/site-packages (from google-auth-oauthlib<2,>=0.5->tensorboard<2.16,>=2.15->tensorflow==2.15) (1.4.0)\nRequirement already satisfied: urllib3<3,>=1.21.1 in /usr/local/lib/python3.10/site-packages (from requests<3,>=2.21.0->tensorboard<2.16,>=2.15->tensorflow==2.15) (2.2.1)\nRequirement already satisfied: idna<4,>=2.5 in /usr/local/lib/python3.10/site-packages (from requests<3,>=2.21.0->tensorboard<2.16,>=2.15->tensorflow==2.15) (3.6)\nRequirement already satisfied: certifi>=2017.4.17 in /usr/local/lib/python3.10/site-packages (from requests<3,>=2.21.0->tensorboard<2.16,>=2.15->tensorflow==2.15) (2024.2.2)\nRequirement already satisfied: charset-normalizer<4,>=2 in /usr/local/lib/python3.10/site-packages (from requests<3,>=2.21.0->tensorboard<2.16,>=2.15->tensorflow==2.15) (3.3.2)\nRequirement already satisfied: MarkupSafe>=2.1.1 in /usr/local/lib/python3.10/site-packages (from werkzeug>=1.0.1->tensorboard<2.16,>=2.15->tensorflow==2.15) (2.1.5)\nRequirement already satisfied: pyasn1<0.6.0,>=0.4.6 in /usr/local/lib/python3.10/site-packages (from pyasn1-modules>=0.2.1->google-auth<3,>=1.6.3->tensorboard<2.16,>=2.15->tensorflow==2.15) (0.5.1)\nRequirement already satisfied: oauthlib>=3.0.0 in /usr/local/lib/python3.10/site-packages (from requests-oauthlib>=0.7.0->google-auth-oauthlib<2,>=0.5->tensorboard<2.16,>=2.15->tensorflow==2.15) (3.2.2)\n\u001b[33mWARNING: Running pip as the 'root' user can result in broken permissions and conflicting behaviour with the system package manager. It is recommended to use a virtual environment instead: https://pip.pypa.io/warnings/venv\u001b[0m\u001b[33m\n\u001b[0m\n\u001b[1m[\u001b[0m\u001b[34;49mnotice\u001b[0m\u001b[1;39;49m]\u001b[0m\u001b[39;49m A new release of pip is available: \u001b[0m\u001b[31;49m23.0.1\u001b[0m\u001b[39;49m -> \u001b[0m\u001b[32;49m24.0\u001b[0m\n\u001b[1m[\u001b[0m\u001b[34;49mnotice\u001b[0m\u001b[1;39;49m]\u001b[0m\u001b[39;49m To update, run: \u001b[0m\u001b[32;49mpip install --upgrade pip\u001b[0m\n",
          "output_type": "stream"
        }
      ]
    },
    {
      "cell_type": "code",
      "source": [
        "pip install --upgrade nltk\n"
      ],
      "metadata": {
        "execution": {
          "iopub.status.busy": "2024-04-11T23:18:12.200775Z",
          "iopub.execute_input": "2024-04-11T23:18:12.201030Z",
          "iopub.status.idle": "2024-04-11T23:18:15.683885Z",
          "shell.execute_reply.started": "2024-04-11T23:18:12.201004Z",
          "shell.execute_reply": "2024-04-11T23:18:15.683082Z"
        },
        "trusted": true,
        "id": "h8Y1aTseUmRE",
        "outputId": "d5f1b68e-52a0-48b4-9b18-90795f787b92"
      },
      "execution_count": null,
      "outputs": [
        {
          "name": "stdout",
          "text": "Requirement already satisfied: nltk in /usr/local/lib/python3.10/site-packages (3.8.1)\nRequirement already satisfied: regex>=2021.8.3 in /usr/local/lib/python3.10/site-packages (from nltk) (2023.12.25)\nRequirement already satisfied: tqdm in /usr/local/lib/python3.10/site-packages (from nltk) (4.66.2)\nRequirement already satisfied: click in /usr/local/lib/python3.10/site-packages (from nltk) (8.1.7)\nRequirement already satisfied: joblib in /usr/local/lib/python3.10/site-packages (from nltk) (1.3.2)\n\u001b[33mWARNING: Running pip as the 'root' user can result in broken permissions and conflicting behaviour with the system package manager. It is recommended to use a virtual environment instead: https://pip.pypa.io/warnings/venv\u001b[0m\u001b[33m\n\u001b[0m\n\u001b[1m[\u001b[0m\u001b[34;49mnotice\u001b[0m\u001b[1;39;49m]\u001b[0m\u001b[39;49m A new release of pip is available: \u001b[0m\u001b[31;49m23.0.1\u001b[0m\u001b[39;49m -> \u001b[0m\u001b[32;49m24.0\u001b[0m\n\u001b[1m[\u001b[0m\u001b[34;49mnotice\u001b[0m\u001b[1;39;49m]\u001b[0m\u001b[39;49m To update, run: \u001b[0m\u001b[32;49mpip install --upgrade pip\u001b[0m\nNote: you may need to restart the kernel to use updated packages.\n",
          "output_type": "stream"
        }
      ]
    },
    {
      "cell_type": "code",
      "source": [],
      "metadata": {
        "id": "daJhvu41UmRF"
      },
      "execution_count": null,
      "outputs": []
    },
    {
      "cell_type": "code",
      "source": [
        "import tensorflow as tf\n",
        "\n",
        "from keras.layers import Embedding\n",
        "from keras.preprocessing.sequence import pad_sequences\n",
        "from keras.models import Sequential\n",
        "from keras.preprocessing.text import one_hot\n",
        "from keras.layers import LSTM\n",
        "from keras.layers import Dense,Bidirectional\n",
        "\n",
        "import numpy as np\n",
        "import pandas as pd\n",
        "\n",
        "\n",
        "import nltk\n",
        "from nltk.stem import WordNetLemmatizer, PorterStemmer\n",
        "from nltk.corpus import stopwords\n",
        "import re\n",
        "\n",
        "\n",
        "\n",
        "\n",
        "\n",
        "\n",
        "from sklearn.model_selection import train_test_split\n",
        "\n",
        "tf.get_logger().setLevel('ERROR')\n"
      ],
      "metadata": {
        "id": "XBr4QSDaNqT2",
        "execution": {
          "iopub.status.busy": "2024-04-11T23:18:15.687423Z",
          "iopub.execute_input": "2024-04-11T23:18:15.687671Z",
          "iopub.status.idle": "2024-04-11T23:18:19.758419Z",
          "shell.execute_reply.started": "2024-04-11T23:18:15.687644Z",
          "shell.execute_reply": "2024-04-11T23:18:19.757377Z"
        },
        "trusted": true
      },
      "execution_count": null,
      "outputs": []
    },
    {
      "cell_type": "code",
      "source": [
        "# # detect and init the TPU\n",
        "# tpu = tf.distribute.cluster_resolver.TPUClusterResolver()\n",
        "\n",
        "# # instantiate a distribution strategy\n",
        "# tf.tpu.experimental.initialize_tpu_system(tpu)\n",
        "# tpu_strategy = tf.distribute.TPUStrategy(tpu)"
      ],
      "metadata": {
        "execution": {
          "iopub.status.busy": "2024-04-11T23:18:19.760953Z",
          "iopub.execute_input": "2024-04-11T23:18:19.761500Z",
          "iopub.status.idle": "2024-04-11T23:18:19.765062Z",
          "shell.execute_reply.started": "2024-04-11T23:18:19.761471Z",
          "shell.execute_reply": "2024-04-11T23:18:19.764350Z"
        },
        "trusted": true,
        "id": "PVWIUyS_UmRI"
      },
      "execution_count": null,
      "outputs": []
    },
    {
      "cell_type": "code",
      "source": [
        "\n",
        "\n",
        "\n",
        "import os\n",
        "for dirname, _, filenames in os.walk('/kaggle/input'):\n",
        "    for filename in filenames:\n",
        "        print(os.path.join(dirname, filename))"
      ],
      "metadata": {
        "id": "JPwwrK8f72Co",
        "execution": {
          "iopub.status.busy": "2024-04-11T23:18:19.765784Z",
          "iopub.execute_input": "2024-04-11T23:18:19.768453Z",
          "iopub.status.idle": "2024-04-11T23:18:19.788506Z",
          "shell.execute_reply.started": "2024-04-11T23:18:19.768425Z",
          "shell.execute_reply": "2024-04-11T23:18:19.787611Z"
        },
        "trusted": true,
        "outputId": "a305a6c2-a099-4a31-ccc0-b4f5b5e4716e"
      },
      "execution_count": null,
      "outputs": [
        {
          "name": "stdout",
          "text": "/kaggle/input/twitter-entity-sentiment-analysis/twitter_validation.csv\n/kaggle/input/twitter-entity-sentiment-analysis/twitter_training.csv\n",
          "output_type": "stream"
        }
      ]
    },
    {
      "cell_type": "code",
      "source": [
        "train_tweets = pd.read_csv('/kaggle/input/twitter-entity-sentiment-analysis/twitter_training.csv',names=['id', 'User', 'target','text'])\n",
        "test_tweets  = pd.read_csv('/kaggle/input/twitter-entity-sentiment-analysis/twitter_validation.csv',names=['id', 'User', 'target','text'])\n"
      ],
      "metadata": {
        "id": "LF4niLgm4pwP",
        "execution": {
          "iopub.status.busy": "2024-04-11T23:18:19.789781Z",
          "iopub.execute_input": "2024-04-11T23:18:19.790073Z",
          "iopub.status.idle": "2024-04-11T23:18:20.003953Z",
          "shell.execute_reply.started": "2024-04-11T23:18:19.790045Z",
          "shell.execute_reply": "2024-04-11T23:18:20.002919Z"
        },
        "trusted": true
      },
      "execution_count": null,
      "outputs": []
    },
    {
      "cell_type": "code",
      "source": [
        "train_tweets.head(5)"
      ],
      "metadata": {
        "id": "9W7XSUxI9oRi",
        "execution": {
          "iopub.status.busy": "2024-04-11T23:18:20.005131Z",
          "iopub.execute_input": "2024-04-11T23:18:20.005435Z",
          "iopub.status.idle": "2024-04-11T23:18:20.021686Z",
          "shell.execute_reply.started": "2024-04-11T23:18:20.005405Z",
          "shell.execute_reply": "2024-04-11T23:18:20.020781Z"
        },
        "trusted": true,
        "outputId": "676fc35b-2219-44f3-df64-21da20474e47"
      },
      "execution_count": null,
      "outputs": [
        {
          "execution_count": 7,
          "output_type": "execute_result",
          "data": {
            "text/plain": "     id         User    target  \\\n0  2401  Borderlands  Positive   \n1  2401  Borderlands  Positive   \n2  2401  Borderlands  Positive   \n3  2401  Borderlands  Positive   \n4  2401  Borderlands  Positive   \n\n                                                text  \n0  im getting on borderlands and i will murder yo...  \n1  I am coming to the borders and I will kill you...  \n2  im getting on borderlands and i will kill you ...  \n3  im coming on borderlands and i will murder you...  \n4  im getting on borderlands 2 and i will murder ...  ",
            "text/html": "<div>\n<style scoped>\n    .dataframe tbody tr th:only-of-type {\n        vertical-align: middle;\n    }\n\n    .dataframe tbody tr th {\n        vertical-align: top;\n    }\n\n    .dataframe thead th {\n        text-align: right;\n    }\n</style>\n<table border=\"1\" class=\"dataframe\">\n  <thead>\n    <tr style=\"text-align: right;\">\n      <th></th>\n      <th>id</th>\n      <th>User</th>\n      <th>target</th>\n      <th>text</th>\n    </tr>\n  </thead>\n  <tbody>\n    <tr>\n      <th>0</th>\n      <td>2401</td>\n      <td>Borderlands</td>\n      <td>Positive</td>\n      <td>im getting on borderlands and i will murder yo...</td>\n    </tr>\n    <tr>\n      <th>1</th>\n      <td>2401</td>\n      <td>Borderlands</td>\n      <td>Positive</td>\n      <td>I am coming to the borders and I will kill you...</td>\n    </tr>\n    <tr>\n      <th>2</th>\n      <td>2401</td>\n      <td>Borderlands</td>\n      <td>Positive</td>\n      <td>im getting on borderlands and i will kill you ...</td>\n    </tr>\n    <tr>\n      <th>3</th>\n      <td>2401</td>\n      <td>Borderlands</td>\n      <td>Positive</td>\n      <td>im coming on borderlands and i will murder you...</td>\n    </tr>\n    <tr>\n      <th>4</th>\n      <td>2401</td>\n      <td>Borderlands</td>\n      <td>Positive</td>\n      <td>im getting on borderlands 2 and i will murder ...</td>\n    </tr>\n  </tbody>\n</table>\n</div>"
          },
          "metadata": {}
        }
      ]
    },
    {
      "cell_type": "code",
      "source": [
        "test_tweets.head(5)"
      ],
      "metadata": {
        "id": "e41To0o8sOzh",
        "execution": {
          "iopub.status.busy": "2024-04-11T23:18:20.022859Z",
          "iopub.execute_input": "2024-04-11T23:18:20.023174Z",
          "iopub.status.idle": "2024-04-11T23:18:20.039726Z",
          "shell.execute_reply.started": "2024-04-11T23:18:20.023142Z",
          "shell.execute_reply": "2024-04-11T23:18:20.038808Z"
        },
        "trusted": true,
        "outputId": "cd5e030e-405a-4abb-fed4-c02b170e45e3"
      },
      "execution_count": null,
      "outputs": [
        {
          "execution_count": 8,
          "output_type": "execute_result",
          "data": {
            "text/plain": "     id       User      target  \\\n0  3364   Facebook  Irrelevant   \n1   352     Amazon     Neutral   \n2  8312  Microsoft    Negative   \n3  4371      CS-GO    Negative   \n4  4433     Google     Neutral   \n\n                                                text  \n0  I mentioned on Facebook that I was struggling ...  \n1  BBC News - Amazon boss Jeff Bezos rejects clai...  \n2  @Microsoft Why do I pay for WORD when it funct...  \n3  CSGO matchmaking is so full of closet hacking,...  \n4  Now the President is slapping Americans in the...  ",
            "text/html": "<div>\n<style scoped>\n    .dataframe tbody tr th:only-of-type {\n        vertical-align: middle;\n    }\n\n    .dataframe tbody tr th {\n        vertical-align: top;\n    }\n\n    .dataframe thead th {\n        text-align: right;\n    }\n</style>\n<table border=\"1\" class=\"dataframe\">\n  <thead>\n    <tr style=\"text-align: right;\">\n      <th></th>\n      <th>id</th>\n      <th>User</th>\n      <th>target</th>\n      <th>text</th>\n    </tr>\n  </thead>\n  <tbody>\n    <tr>\n      <th>0</th>\n      <td>3364</td>\n      <td>Facebook</td>\n      <td>Irrelevant</td>\n      <td>I mentioned on Facebook that I was struggling ...</td>\n    </tr>\n    <tr>\n      <th>1</th>\n      <td>352</td>\n      <td>Amazon</td>\n      <td>Neutral</td>\n      <td>BBC News - Amazon boss Jeff Bezos rejects clai...</td>\n    </tr>\n    <tr>\n      <th>2</th>\n      <td>8312</td>\n      <td>Microsoft</td>\n      <td>Negative</td>\n      <td>@Microsoft Why do I pay for WORD when it funct...</td>\n    </tr>\n    <tr>\n      <th>3</th>\n      <td>4371</td>\n      <td>CS-GO</td>\n      <td>Negative</td>\n      <td>CSGO matchmaking is so full of closet hacking,...</td>\n    </tr>\n    <tr>\n      <th>4</th>\n      <td>4433</td>\n      <td>Google</td>\n      <td>Neutral</td>\n      <td>Now the President is slapping Americans in the...</td>\n    </tr>\n  </tbody>\n</table>\n</div>"
          },
          "metadata": {}
        }
      ]
    },
    {
      "cell_type": "markdown",
      "source": [
        "# ***Data pre-processing***\n",
        "\n",
        "### This code cell performs data preprocessing on the train_tweets DataFrame:\n",
        "\n",
        "\n",
        "\n",
        "1.   It prints the shape of the DataFrame.\n",
        "2.   It prints the count of null values in each column of the DataFrame\n",
        "3.   It drops rows with null values from the DataFrame.\n",
        "4.   It prints the shape of the DataFrame after dropping null values.\n",
        "\n",
        "\n",
        "\n",
        "\n",
        "\n"
      ],
      "metadata": {
        "id": "v6DkOCNzfKv-"
      }
    },
    {
      "cell_type": "code",
      "source": [
        "print(\"shape of train_data:\" ,train_tweets.shape)\n",
        "print(\"count the nul value:\" ,train_tweets.isnull().sum())\n",
        "\n",
        "print(\"---------------\\n\")\n",
        "print(\"shape of train_data:\" ,test_tweets.shape)\n",
        "print(\"count the nul value:\" ,test_tweets.isnull().sum())\n",
        "\n",
        "\n",
        "\n"
      ],
      "metadata": {
        "id": "Cn90mi10N79-",
        "execution": {
          "iopub.status.busy": "2024-04-11T23:18:20.041129Z",
          "iopub.execute_input": "2024-04-11T23:18:20.041444Z",
          "iopub.status.idle": "2024-04-11T23:18:20.072048Z",
          "shell.execute_reply.started": "2024-04-11T23:18:20.041413Z",
          "shell.execute_reply": "2024-04-11T23:18:20.071194Z"
        },
        "trusted": true,
        "outputId": "ca95f59c-0ccd-40dd-f755-ea826b458312"
      },
      "execution_count": null,
      "outputs": [
        {
          "name": "stdout",
          "text": "shape of train_data: (74682, 4)\ncount the nul value: id          0\nUser        0\ntarget      0\ntext      686\ndtype: int64\n---------------\n\nshape of train_data: (1000, 4)\ncount the nul value: id        0\nUser      0\ntarget    0\ntext      0\ndtype: int64\n",
          "output_type": "stream"
        }
      ]
    },
    {
      "cell_type": "code",
      "source": [
        "train_tweets=train_tweets.dropna()\n",
        "print(\"after dropping a null value from train data :\", train_tweets.shape)\n",
        "print(\"--------------------------\")\n",
        "print(train_tweets['target'].value_counts())"
      ],
      "metadata": {
        "id": "x6QIZ16IN_Qq",
        "execution": {
          "iopub.status.busy": "2024-04-11T23:18:20.073249Z",
          "iopub.execute_input": "2024-04-11T23:18:20.073590Z",
          "iopub.status.idle": "2024-04-11T23:18:20.118282Z",
          "shell.execute_reply.started": "2024-04-11T23:18:20.073562Z",
          "shell.execute_reply": "2024-04-11T23:18:20.117343Z"
        },
        "trusted": true,
        "outputId": "a9b8ff26-1518-419d-8cb0-e3c5eacc0a6f"
      },
      "execution_count": null,
      "outputs": [
        {
          "name": "stdout",
          "text": "after dropping a null value from train data : (73996, 4)\n--------------------------\ntarget\nNegative      22358\nPositive      20655\nNeutral       18108\nIrrelevant    12875\nName: count, dtype: int64\n",
          "output_type": "stream"
        }
      ]
    },
    {
      "cell_type": "markdown",
      "source": [
        "\n",
        "# *Data Preprocessing and Label Refinement for Sentiment Analysis*\n",
        "1. This cell renames the 'target' column to 'label' in the train_tweets DataFrame,\n",
        "2. drops irrelevant rows with the 'Irrelevant' label,\n",
        "3. and creates a new DataFrame train_messages with relevant messages for analysis.\n"
      ],
      "metadata": {
        "id": "8GYkw7IEmOFk"
      }
    },
    {
      "cell_type": "code",
      "source": [
        "train_tweets = train_tweets.rename(columns={'target': 'label'})\n",
        "test_tweets = test_tweets.rename(columns={'target': 'label'})\n",
        "\n",
        "\n",
        "# Drop irrelevant rows\n",
        "def drop_irrelevant(df):\n",
        "    return df[~df['label'].str.contains('Irrelevant')]\n",
        "\n",
        "# Apply drop_irrelevant function\n",
        "\n",
        "train_messages = drop_irrelevant(train_tweets.drop(['id', 'User'], axis=1))\n",
        "test_messages = drop_irrelevant(test_tweets.drop(['id', 'User'], axis=1))\n",
        "\n",
        "# train_messages = train_tweets.drop(['id', 'b'], axis=1)\n",
        "# test_messages = test_tweets.drop(['id', 'b'], axis=1)\n",
        "\n"
      ],
      "metadata": {
        "id": "QuxgPujk5s25",
        "execution": {
          "iopub.status.busy": "2024-04-11T23:18:20.119540Z",
          "iopub.execute_input": "2024-04-11T23:18:20.119849Z",
          "iopub.status.idle": "2024-04-11T23:18:20.163950Z",
          "shell.execute_reply.started": "2024-04-11T23:18:20.119817Z",
          "shell.execute_reply": "2024-04-11T23:18:20.163112Z"
        },
        "trusted": true
      },
      "execution_count": null,
      "outputs": []
    },
    {
      "cell_type": "code",
      "source": [
        "display(train_messages.shape)\n",
        "\n",
        "display(test_messages.shape)"
      ],
      "metadata": {
        "id": "9EMl201m-ROt",
        "execution": {
          "iopub.status.busy": "2024-04-11T23:18:20.165193Z",
          "iopub.execute_input": "2024-04-11T23:18:20.165497Z",
          "iopub.status.idle": "2024-04-11T23:18:20.172385Z",
          "shell.execute_reply.started": "2024-04-11T23:18:20.165469Z",
          "shell.execute_reply": "2024-04-11T23:18:20.171616Z"
        },
        "trusted": true,
        "outputId": "762aa8f8-5fd4-488c-caae-91b8c2acaa77"
      },
      "execution_count": null,
      "outputs": [
        {
          "output_type": "display_data",
          "data": {
            "text/plain": "(61121, 2)"
          },
          "metadata": {}
        },
        {
          "output_type": "display_data",
          "data": {
            "text/plain": "(828, 2)"
          },
          "metadata": {}
        }
      ]
    },
    {
      "cell_type": "markdown",
      "source": [
        "# Transforming Labels to Numerical Values\n",
        "\n",
        "*In this cell, we define a mapping dictionary to convert textual labels into numerical values for sentiment analysis. The label_mapping dictionary assigns numerical values (-1 for 'Negative', 0 for 'Neutral', and 1 for 'Positive') to corresponding textual labels. Then, we use the map() function to apply this mapping to the 'label' column in the DataFrame train_messages, effectively transforming textual labels into numerical values. Finally, we display the DataFrame to verify the transformation*.\n",
        "\n",
        "\n",
        "\n",
        "\n"
      ],
      "metadata": {
        "id": "fmmEqJiAnP0z"
      }
    },
    {
      "cell_type": "code",
      "source": [
        "from sklearn.preprocessing import LabelEncoder\n",
        "\n",
        "label_encoder = LabelEncoder()\n",
        "\n",
        "train_label= None\n",
        "\n",
        "# Map labels to numerical values\n",
        "train_messages['label'] = label_encoder.fit_transform(train_messages[\"label\"])\n",
        "test_messages['label'] = label_encoder.fit_transform(test_messages['label'])\n",
        "\n",
        "# print(train_messages)\n",
        "\n",
        "\n",
        "train_label = train_messages.drop(['text'], axis=1)\n",
        "test_label = test_messages.drop(['text'], axis=1)\n"
      ],
      "metadata": {
        "id": "-Yc4HBjymU-f",
        "execution": {
          "iopub.status.busy": "2024-04-11T23:18:20.176104Z",
          "iopub.execute_input": "2024-04-11T23:18:20.176383Z",
          "iopub.status.idle": "2024-04-11T23:18:20.203188Z",
          "shell.execute_reply.started": "2024-04-11T23:18:20.176341Z",
          "shell.execute_reply": "2024-04-11T23:18:20.202297Z"
        },
        "trusted": true
      },
      "execution_count": null,
      "outputs": []
    },
    {
      "cell_type": "code",
      "source": [
        "# Display the DataFrame with numerical labels\n",
        "# display(train_messages.shape)\n",
        "# print(\"------------------\\n\")\n",
        "\n",
        "# display(test_messages.shape)"
      ],
      "metadata": {
        "id": "OAqVymamHbDG",
        "execution": {
          "iopub.status.busy": "2024-04-11T23:18:20.204158Z",
          "iopub.execute_input": "2024-04-11T23:18:20.204424Z",
          "iopub.status.idle": "2024-04-11T23:18:20.215578Z",
          "shell.execute_reply.started": "2024-04-11T23:18:20.204398Z",
          "shell.execute_reply": "2024-04-11T23:18:20.214763Z"
        },
        "trusted": true
      },
      "execution_count": null,
      "outputs": []
    },
    {
      "cell_type": "code",
      "source": [
        "# Display the DataFrame with numerical labels\n",
        "# display(train_messages)\n",
        "# print(\"------------------\\n\")\n",
        "# display(test_messages)"
      ],
      "metadata": {
        "id": "vFHA_hLNrV90",
        "execution": {
          "iopub.status.busy": "2024-04-11T23:18:20.216637Z",
          "iopub.execute_input": "2024-04-11T23:18:20.216892Z",
          "iopub.status.idle": "2024-04-11T23:18:20.225914Z",
          "shell.execute_reply.started": "2024-04-11T23:18:20.216865Z",
          "shell.execute_reply": "2024-04-11T23:18:20.225137Z"
        },
        "trusted": true
      },
      "execution_count": null,
      "outputs": []
    },
    {
      "cell_type": "code",
      "source": [
        "\n",
        "print(\"train data to count the numer record in each label :\", train_label.value_counts())\n",
        "\n",
        "print(\"test data to count the numer record in each label :\", test_label.value_counts())\n"
      ],
      "metadata": {
        "id": "3FJ7C4pxE93M",
        "execution": {
          "iopub.status.busy": "2024-04-11T23:18:20.226946Z",
          "iopub.execute_input": "2024-04-11T23:18:20.227209Z",
          "iopub.status.idle": "2024-04-11T23:18:20.242675Z",
          "shell.execute_reply.started": "2024-04-11T23:18:20.227183Z",
          "shell.execute_reply": "2024-04-11T23:18:20.241843Z"
        },
        "trusted": true,
        "outputId": "723af70c-dc0c-481b-f8d2-3031b76085c1"
      },
      "execution_count": null,
      "outputs": [
        {
          "name": "stdout",
          "text": "train data to count the numer record in each label : label\n0        22358\n2        20655\n1        18108\nName: count, dtype: int64\ntest data to count the numer record in each label : label\n1        285\n2        277\n0        266\nName: count, dtype: int64\n",
          "output_type": "stream"
        }
      ]
    },
    {
      "cell_type": "code",
      "source": [
        "m_train = train_messages.copy()\n",
        "m_train.reset_index(inplace=True)\n",
        "\n",
        "m_test = test_messages.copy()\n",
        "m_test.reset_index(inplace=True)"
      ],
      "metadata": {
        "id": "5O3HCl6qQ876",
        "execution": {
          "iopub.status.busy": "2024-04-11T23:18:20.243825Z",
          "iopub.execute_input": "2024-04-11T23:18:20.244220Z",
          "iopub.status.idle": "2024-04-11T23:18:20.254499Z",
          "shell.execute_reply.started": "2024-04-11T23:18:20.244189Z",
          "shell.execute_reply": "2024-04-11T23:18:20.253666Z"
        },
        "trusted": true
      },
      "execution_count": null,
      "outputs": []
    },
    {
      "cell_type": "code",
      "source": [
        "m_train.shape,m_test.shape"
      ],
      "metadata": {
        "id": "7apEoFx9sM_K",
        "execution": {
          "iopub.status.busy": "2024-04-11T23:18:20.255840Z",
          "iopub.execute_input": "2024-04-11T23:18:20.256108Z",
          "iopub.status.idle": "2024-04-11T23:18:20.264675Z",
          "shell.execute_reply.started": "2024-04-11T23:18:20.256082Z",
          "shell.execute_reply": "2024-04-11T23:18:20.263796Z"
        },
        "trusted": true,
        "outputId": "687a4479-6ab9-4bc7-8b52-683356b27cdd"
      },
      "execution_count": null,
      "outputs": [
        {
          "execution_count": 18,
          "output_type": "execute_result",
          "data": {
            "text/plain": "((61121, 3), (828, 3))"
          },
          "metadata": {}
        }
      ]
    },
    {
      "cell_type": "markdown",
      "source": [
        "### ***providing a quick overview of the distribution of sentiment labels in the dataset.***"
      ],
      "metadata": {
        "id": "JD89SzsqoKqF"
      }
    },
    {
      "cell_type": "code",
      "source": [
        "# import matplotlib.pyplot as plt\n",
        "# print(plt.get_backend())\n"
      ],
      "metadata": {
        "execution": {
          "iopub.status.busy": "2024-04-11T23:18:20.265729Z",
          "iopub.execute_input": "2024-04-11T23:18:20.266071Z",
          "iopub.status.idle": "2024-04-11T23:18:20.279817Z",
          "shell.execute_reply.started": "2024-04-11T23:18:20.266043Z",
          "shell.execute_reply": "2024-04-11T23:18:20.279024Z"
        },
        "trusted": true,
        "id": "gKW2UdnVUmRU"
      },
      "execution_count": null,
      "outputs": []
    },
    {
      "cell_type": "code",
      "source": [
        "#For data visualization\n",
        "import matplotlib.pyplot as plt\n",
        "import matplotlib.patches as mpatches\n",
        "\n",
        "%matplotlib inline\n",
        "\n",
        "# pd.options.plotting.backend = \"plotly\""
      ],
      "metadata": {
        "id": "VugxtcXxRQpC",
        "execution": {
          "iopub.status.busy": "2024-04-11T23:18:20.280781Z",
          "iopub.execute_input": "2024-04-11T23:18:20.281040Z",
          "iopub.status.idle": "2024-04-11T23:18:20.615048Z",
          "shell.execute_reply.started": "2024-04-11T23:18:20.281013Z",
          "shell.execute_reply": "2024-04-11T23:18:20.614149Z"
        },
        "trusted": true
      },
      "execution_count": null,
      "outputs": []
    },
    {
      "cell_type": "code",
      "source": [
        "import string as str\n",
        "\n",
        "data_train = m_train[['text', 'label']].copy()\n",
        "data_train.groupby('label').count().plot(kind='bar')\n"
      ],
      "metadata": {
        "id": "RYHi398TTTUo",
        "execution": {
          "iopub.status.busy": "2024-04-11T23:18:20.616290Z",
          "iopub.execute_input": "2024-04-11T23:18:20.616608Z",
          "iopub.status.idle": "2024-04-11T23:18:20.776453Z",
          "shell.execute_reply.started": "2024-04-11T23:18:20.616576Z",
          "shell.execute_reply": "2024-04-11T23:18:20.775653Z"
        },
        "trusted": true,
        "outputId": "cca122ed-c15c-4336-9705-98458b06a27c"
      },
      "execution_count": null,
      "outputs": [
        {
          "execution_count": 21,
          "output_type": "execute_result",
          "data": {
            "text/plain": "<Axes: xlabel='label'>"
          },
          "metadata": {}
        },
        {
          "output_type": "display_data",
          "data": {
            "text/plain": "<Figure size 640x480 with 1 Axes>",
            "image/png": "[encoded data removed]"
          },
          "metadata": {}
        }
      ]
    },
    {
      "cell_type": "code",
      "source": [
        "data_test = m_test[['text', 'label']].copy()\n",
        "data_test.groupby('label').count().plot(kind='bar')"
      ],
      "metadata": {
        "id": "VWml0yYeJJCq",
        "execution": {
          "iopub.status.busy": "2024-04-11T23:18:20.777608Z",
          "iopub.execute_input": "2024-04-11T23:18:20.777893Z",
          "iopub.status.idle": "2024-04-11T23:18:20.908298Z",
          "shell.execute_reply.started": "2024-04-11T23:18:20.777866Z",
          "shell.execute_reply": "2024-04-11T23:18:20.907549Z"
        },
        "trusted": true,
        "outputId": "1758377d-9be3-4a27-8a78-9bfc192481e2"
      },
      "execution_count": null,
      "outputs": [
        {
          "execution_count": 22,
          "output_type": "execute_result",
          "data": {
            "text/plain": "<Axes: xlabel='label'>"
          },
          "metadata": {}
        },
        {
          "output_type": "display_data",
          "data": {
            "text/plain": "<Figure size 640x480 with 1 Axes>",
            "image/png": "[encoded data removed]"
          },
          "metadata": {}
        }
      ]
    },
    {
      "cell_type": "code",
      "source": [
        "# Calculate the number of sentiment labels in training data and validation data\n",
        "train_sentiment_counts = data_train['label'].value_counts()\n",
        "valid_sentiment_counts = data_test['label'].value_counts()\n",
        "\n",
        "# Draw a pie chart for the training data\n",
        "plt.figure(figsize=(10, 5))\n",
        "plt.subplot(1, 2, 1)\n",
        "plt.pie(train_sentiment_counts, labels=train_sentiment_counts.index, autopct='%1.1f%%', colors=['skyblue', 'lightgreen', 'lightcoral'])\n",
        "plt.title('Training Data Sentiment Distribution')\n",
        "\n",
        "# Draw a pie chart for the valid data\n",
        "plt.subplot(1, 2, 2)\n",
        "plt.pie(valid_sentiment_counts, labels=valid_sentiment_counts.index, autopct='%1.1f%%', colors=['skyblue', 'lightgreen', 'lightcoral'])\n",
        "\n",
        "plt.title('Validation Data Sentiment Distribution')\n",
        "\n",
        "plt.tight_layout()\n",
        "plt.show()"
      ],
      "metadata": {
        "id": "kSiSVCpzplF2",
        "execution": {
          "iopub.status.busy": "2024-04-11T23:18:20.909520Z",
          "iopub.execute_input": "2024-04-11T23:18:20.909853Z",
          "iopub.status.idle": "2024-04-11T23:18:21.320913Z",
          "shell.execute_reply.started": "2024-04-11T23:18:20.909820Z",
          "shell.execute_reply": "2024-04-11T23:18:21.320039Z"
        },
        "trusted": true,
        "outputId": "d912bc89-0e9b-4776-cefb-b6a206fa4fbd"
      },
      "execution_count": null,
      "outputs": [
        {
          "output_type": "display_data",
          "data": {
            "text/plain": "<Figure size 1000x500 with 2 Axes>",
            "image/png": "[encoded data removed]"
          },
          "metadata": {}
        }
      ]
    },
    {
      "cell_type": "markdown",
      "source": [
        "*This code snippet uses NLTK and regular expressions to preprocess text data. It removes non-alphabetic characters, converts text to lowercase, and applies stemming while excluding stopwords. The resulting preprocessed text is stored in a list called `corpus`, facilitating further analysis such as sentiment analysis or topic modeling.*"
      ],
      "metadata": {
        "id": "0IgLaRIiuIkt"
      }
    },
    {
      "cell_type": "code",
      "source": [
        "\n",
        "def clean_text(text):\n",
        "\n",
        "    text = re.sub('\\[.*?\\]', '', text)\n",
        "    # links\n",
        "    text = re.sub('https?://\\S+|www\\.\\S+', '', text)\n",
        "    # multiple dots\n",
        "    text = re.sub('<.*?>+', '', text)\n",
        "    # punctuation\n",
        "    text = re.sub('[%s]' % re.escape(str.punctuation), '', text)\n",
        "    # new lines\n",
        "    text = re.sub('\\n', '', text)\n",
        "    # words containing numbers\n",
        "    text = re.sub('\\w*\\d\\w*', '', text)\n",
        "    # Remove any remaining non-ASCII characters\n",
        "    text = ''.join(char for char in text if ord(char) < 128)\n",
        "    return text"
      ],
      "metadata": {
        "id": "xFXKBFsZCW7P",
        "execution": {
          "iopub.status.busy": "2024-04-11T23:18:21.348351Z",
          "iopub.execute_input": "2024-04-11T23:18:21.348602Z",
          "iopub.status.idle": "2024-04-11T23:18:21.357679Z",
          "shell.execute_reply.started": "2024-04-11T23:18:21.348577Z",
          "shell.execute_reply": "2024-04-11T23:18:21.356940Z"
        },
        "trusted": true
      },
      "execution_count": null,
      "outputs": []
    },
    {
      "cell_type": "code",
      "source": [
        "from keras.preprocessing.text import Tokenizer\n",
        "\n",
        "\n",
        "# Download NLTK resources\n",
        "\n",
        "# nltk.download()\n",
        "nltk.download('stopwords')\n",
        "nltk.download('wordnet')\n",
        "\n",
        "# nltk.data.path.append('/kaggle/working/')\n",
        "\n",
        "\n",
        "class TextPreprocessor:\n",
        "    def __init__(self):\n",
        "        # Initialize lemmatizer and stemmer\n",
        "        self.lemm = WordNetLemmatizer()\n",
        "        self.stemmer = PorterStemmer()\n",
        "\n",
        "        # Define stopwords including negation words\n",
        "        self.stop_words = set(stopwords.words('english'))\n",
        "        self.negation_words = {'not', 'no', 'never', 'nor'}\n",
        "        self.stop_words -= self.negation_words\n",
        "\n",
        "        # Initialize corpus\n",
        "        self.corpus = []\n",
        "\n",
        "    def normalized_text(self, data):\n",
        "        \"\"\"Preprocesses text data.\"\"\"\n",
        "        for i in range(len(data)):\n",
        "#             review =  clean_text(data[i])\n",
        "            review = re.sub('[^a-zA-Z]', ' ', data[i])\n",
        "            review = review.lower()\n",
        "            review = review.split()\n",
        "            review = [self.lemm.lemmatize(word) for word in review if word not in self.stop_words]\n",
        "            review = ' '.join(review)\n",
        "            self.corpus.append(review)\n",
        "        return self.corpus\n",
        "\n",
        "    def preprocess_text(self, df, voc_size, sent_length):\n",
        "\n",
        "\n",
        "        onehot_repr = [one_hot(words, voc_size) for words in df]\n",
        "        embedded_docs = pad_sequences(onehot_repr, padding='pre', maxlen=sent_length)\n",
        "        return embedded_docs\n",
        "\n",
        "    def vectorized_text(self,df,voc_size,sent_length):\n",
        "\n",
        "        tok = Tokenizer(voc_size)\n",
        "        tok.fit_on_texts(df)\n",
        "        sequences = tok.texts_to_sequences(df)\n",
        "        sequences_matrix = pad_sequences(sequences,maxlen=sent_length)\n",
        "        return sequences_matrix\n",
        "\n",
        "\n",
        "\n"
      ],
      "metadata": {
        "id": "MWgS5tM4NSA8",
        "execution": {
          "iopub.status.busy": "2024-04-11T23:18:21.358752Z",
          "iopub.execute_input": "2024-04-11T23:18:21.359013Z",
          "iopub.status.idle": "2024-04-11T23:18:21.494066Z",
          "shell.execute_reply.started": "2024-04-11T23:18:21.358988Z",
          "shell.execute_reply": "2024-04-11T23:18:21.493390Z"
        },
        "trusted": true,
        "outputId": "d73281e0-aea4-47c2-d5b5-41e506d6bbb7"
      },
      "execution_count": null,
      "outputs": [
        {
          "name": "stderr",
          "text": "[nltk_data] Downloading package stopwords to /root/nltk_data...\n[nltk_data]   Package stopwords is already up-to-date!\n[nltk_data] Downloading package wordnet to /root/nltk_data...\n[nltk_data]   Package wordnet is already up-to-date!\n",
          "output_type": "stream"
        }
      ]
    },
    {
      "cell_type": "code",
      "source": [
        "import nltk\n",
        "\n",
        "\n",
        "train_data_preprocessor = TextPreprocessor()\n",
        "\n",
        "df2 = train_data_preprocessor.normalized_text(data_train['text'])\n",
        "\n",
        "print( pd.DataFrame({'text': df2}).shape)\n"
      ],
      "metadata": {
        "id": "KWZJLnaTYFO7",
        "execution": {
          "iopub.status.busy": "2024-04-11T23:18:21.495072Z",
          "iopub.execute_input": "2024-04-11T23:18:21.495310Z",
          "iopub.status.idle": "2024-04-11T23:18:26.187402Z",
          "shell.execute_reply.started": "2024-04-11T23:18:21.495285Z",
          "shell.execute_reply": "2024-04-11T23:18:26.186606Z"
        },
        "trusted": true,
        "outputId": "559e19d1-a9ca-4d18-9064-4a90cd116ab7"
      },
      "execution_count": null,
      "outputs": [
        {
          "name": "stdout",
          "text": "(61121, 1)\n",
          "output_type": "stream"
        }
      ]
    },
    {
      "cell_type": "code",
      "source": [
        "max_length = 0\n",
        "\n",
        "# Iterate through each string in the list\n",
        "for string in df2:\n",
        "\n",
        "    words = string.split()\n",
        "\n",
        "    for word in words:\n",
        "        # Update maximum length if necessary\n",
        "        max_length = max(max_length, len(word))\n",
        "\n",
        "\n",
        "print(\"Maximum length of a word:\", max_length)"
      ],
      "metadata": {
        "id": "LgZmwSKqW5Cy",
        "execution": {
          "iopub.status.busy": "2024-04-11T23:18:26.188352Z",
          "iopub.execute_input": "2024-04-11T23:18:26.188611Z",
          "iopub.status.idle": "2024-04-11T23:18:26.462976Z",
          "shell.execute_reply.started": "2024-04-11T23:18:26.188586Z",
          "shell.execute_reply": "2024-04-11T23:18:26.462279Z"
        },
        "trusted": true,
        "outputId": "2acf1901-4ea1-4691-bff2-2fae6e944422"
      },
      "execution_count": null,
      "outputs": [
        {
          "name": "stdout",
          "text": "Maximum length of a word: 396\n",
          "output_type": "stream"
        }
      ]
    },
    {
      "cell_type": "code",
      "source": [
        "df2"
      ],
      "metadata": {
        "execution": {
          "iopub.status.busy": "2024-04-11T23:18:26.463860Z",
          "iopub.execute_input": "2024-04-11T23:18:26.464115Z",
          "iopub.status.idle": "2024-04-11T23:18:26.493963Z",
          "shell.execute_reply.started": "2024-04-11T23:18:26.464091Z",
          "shell.execute_reply": "2024-04-11T23:18:26.493117Z"
        },
        "trusted": true,
        "id": "c8GwSzxXUmRd",
        "outputId": "9c94508b-ba57-4f7b-a24d-5fd51f1727e1"
      },
      "execution_count": null,
      "outputs": [
        {
          "execution_count": 31,
          "output_type": "execute_result",
          "data": {
            "text/plain": "['im getting borderland murder',\n 'coming border kill',\n 'im getting borderland kill',\n 'im coming borderland murder',\n 'im getting borderland murder',\n 'im getting borderland murder',\n 'spent hour making something fun know huge borderland fan maya one favorite character decided make wallpaper pc original image versus creation made enjoy pic twitter com mlsi wf jg',\n 'spent couple hour something fun know huge borderland fan maya one favorite character decided make wallpaper pc original picture compared creation made fun pic twitter com mlsi wf jg',\n 'spent hour something fun know huge borderland fan maya one favorite character',\n 'spent hour making something fun know huge rhandlerr fan maya one favorite character decided make wallpaper pc original image versus creation made enjoy pic twitter com mlsi wf jg',\n 'spent hour making something fun know huge rhandlerr fan maya one favorite character decided make wallpaper pc original image versus creation made enjoy pic twitter com mlsi wf jg',\n '',\n 'rock hard la varlope rare powerful handsome jackpot borderland xbox dlvr rmtrgf',\n 'rock hard la varlope rare powerful handsome jackpot borderland xbox dlvr rmtrgf',\n 'rock hard la varlope rare powerful handsome jackpot borderland xbox dfr rmtrgf',\n 'rock hard la vita rare powerful handsome jackpot borderland xbox dlvr rmtrgf',\n 'live rock hard music la la varlope rare powerful live handsome jackpot borderland sega xbox dlvr e rmtrgf',\n 'hard like rare london de handsome borderland xbox dlvr rmtrgf',\n 'first borderland session long time actually really satisfying combat experience got really good kill',\n 'first borderland session long time actually really satisfying fighting experience got really good kill',\n 'first borderland session long time actually really satisfying combat experience got really good kill',\n 'first borderland session long time actually enjoyed really satisfying combat experience got rather good kill',\n 'first real borderland session nice long wait time actually really satisfying combat experience got really good kill',\n 'first borderland session hot row actually really bad combat experience really good kill',\n 'biggest dissappoinment life came year ago fuck borderland',\n 'biggest disappointment life came year ago',\n 'biggest disappointment life came year ago',\n 'biggest dissappoinment life coming year ago fuck borderland',\n 'biggest male dissappoinment life came hanging year time ago fuck borderland',\n 'biggest dissappoinment life came back last year ago fuck borderland last',\n 'finished borderland finally yas thank hanging everyone fun try stream tomorrow not might irl stream awayu shall see thank much raid mompou mumpow megamagwitch kfdmitch',\n 'finally finally find borderland yes thank hanging fun try stream tomorrow not maybe irl stream see thanks raid mompou mumpow megamagwitch kfdmitch',\n 'thank hanging everyone fun try get haircut tomorrow irl stream would still hawaii see thank much mompou mumpow megamagwife fendmitch raid',\n 'finished borderland update yas thank hanging guy fun try stream even not might irl stream awayu shall go thank much raid mompou mumpow megamagwitch hope',\n 'finished borderland finally yas thank everyone hanging everyone fun try make stream tomorrow not might make irl stream awayu never shall see thank much raid mompou mumpow megamagwitch kfdmitch',\n 'finished borderland finally yas hey hanging fun try stream tomorrow not might use irl stream awayu shall see thank much many raid mompou mumpow',\n 'man gearbox really need fix dissapointing drop new borderland dlc cant fine farm boss mayhem get legendary drop anywhere else get drop really suck alot',\n 'man gearbox really need fix disappointing drop new borderland dlc farm boss mayhem get legendary drop get drop elsewhere',\n 'man gearbox really need fix disssapointing drop new borderland dlc cant fine farm boss mayhem get legendary drop elsewhere get drop really suck alot',\n 'man bethesda really need fix dissapointing drop new borderland cant fine farm boss mayhem get legendary drop anywhere else get drop really suck',\n 'man gearbox really need fix dissapointing drop completely new borderland day dlc cant e fine farm boss mayhem e get legendary foot drop anywhere else get drop really suck alot',\n 'unk gearbox really time fix drop new borderland dlc fine force boss mayhem get legendary drop everyone else get drop really need alot',\n 'check epic streamer',\n 'check epic streamer',\n 'watch epic striptease',\n 'check epic streamer',\n 'check big epic streamer',\n 'check unk epic streamer',\n 'blaming sight tardiness little bit borderland got called early work tomorrow make time sorry love twitch tv punnisenpai',\n 'bit borderland called work tomorrow morning catch sorry love twitch tv punnisenpai',\n 'guilty sobriety bit borderline called work early tomorrow catch',\n 'blaming sight tardiness little bit borderland got called early work tomorrow make time sorry love twitch tv punnisenpai',\n 'blaming sight tardiness little bit borderland got called early work tomorrow make time sorry love twitch tv punnisenpai',\n '',\n 'like every man borderland slicked back hair heard bang stupid asshole',\n 'like every man border country not heard bang stupid asshole',\n 'like everyone else border country hair fallen not heard stupid alien',\n 'like unk man borderland slicked back hair heard bang stupid asshole',\n 'beth like every man borderland slicked back hair heard enough gray bang stupid asshole',\n 'practically every man france slicked back hair heard bang greedy asshole',\n '',\n '',\n '',\n '',\n '',\n 'going finish borderland today got new command set looking forward good stream starting hour',\n 'finish borderland today new command set looking forward good stream start hour',\n 'going finish borderland today new command installed looking forward good stream',\n 'going finish borderland today got new event set look forward good stream starting hour',\n 'going finish finish cleaning borderland today got new command set looking forward good stream starting hour',\n 'going finish volume today got awesome server set looking forward good stream starting hour',\n 'imma probably play borderland tps bit fun',\n 'imma probably playing bit borderland tps fun',\n 'imma probably play border tps bit going fun',\n 'imma probably play live borderland tps bit fun',\n 'imma probably play borderland tps bit yer fun',\n 'imma probably got video tps bit make fun',\n 'one profzeroo live w borderland catch buff ly wmmip say streamer shout chat chance coming streamer shout shout',\n 'one profzeroo live w borderland catch buff ly wmmip say streamer shout chat chance upcoming one streamer shout shout',\n 'one profzero live w borderland catch buff ly wmmip say stream shout chat chat chance coming stream shout shout',\n 'one profzeroo live borderland catch buff ly wmmip p say shout chat chance coming also shout',\n 'one show profzeroo live via w borderland unk catch buff ly wmmip say streamer shout chat chance officially series coming streamer shout shout',\n 'one movie live w profzeroo catch buff ly wmmip streamer shout invitation chance coming invite',\n 'fuck yes',\n 'fick yes',\n 'fuck yes',\n 'fuck yes unk',\n 'fuck yes',\n 'fuck',\n 'hate easy mayhem modifier event mayhem last forever fun game since added horrible modifier borderland please give option play mayhem turn modifier pls',\n 'hate simple chaos modifier event chaos last forever fun game since added terrible modifier borderland please give option play chaos turn modifier',\n 'hate easy mayhem modifier event mayhem last forever fun game since added horrible modifier borderland please give option play mayhem turn modifier pls',\n 'hate saying easy day event mayhem last forever fun game since added horrible modifier borderland please give ability play mayhem turn modifier pls',\n 'hate thinking easy mayhem modifier event total mayhem last forever absolutely ridiculous fun experience game almost since added horrible modifier borderland please give option option play mayhem turn modifier pls',\n 'hate easy horrible modifier event game last forever best fun taken past added horrible modifier borderland please send option play mayhem turn modifier pls',\n 'grounded almost looked pretty cool even despite borderland tier unfunny writing became yet another survival crafting game really wait shitty trend die',\n 'grounded looked cool despite borderline unfunny writing became another survival crafting game really wait crappy trend die',\n 'grosskreutz looked pretty cool even despite unfunny spelling turned another survival game really wait crap trend die',\n 'grounded almost looked pretty cool despite borderland tier unfunny writing became yet survival crafting game really wait shitty mod die',\n 'deep grounded almost looked pretty cool even despite borderland fifth tier unfunny writing format ultimately became yet another survival crafting mobile game really wait shitty trend starting die',\n 'grounded almost pretty cool even despite top tier unfunny writing became yet another annoying crafting game seriously wait shitty trend die',\n 'borderland submit complaint ceo paying staff bonus',\n 'borderland file complaint ceo pay employee bonus',\n 'borderland file complaint ceo pay employee bonus',\n 'borderland submit complaint ceo paying competitor bonus',\n 'borderland suppose submit complaint ceo even paying entire staff bonus',\n 'submit complaint ceo offering staff bonus',\n 'borderland fuckin trash',\n 'borderland damn rubbish',\n 'borderland fucking thrash',\n 'borderland shit fuckin trash',\n 'borderland fuckin trash',\n 'borderland fuckin stupid',\n 'finally played borderland actual game play great almost gun feel fun never felt like needed grind story hand say much looking forward eventual cutscene skip',\n 'finally played borderland actual game great almost weapon feel funny never felt like grind hand say much looking forward eventual sequence skip',\n 'story hand say looking forward occasional slip',\n 'finally played borderland open game play great almost gun feel fun never felt like needed grind story another hand say much looking forward eventual cutscene skip',\n 'finally played borderland actual game play great almost gun feel fun yet never felt much like someone seriously needed grind pretty story side hand say damn much forward looking forward eventual endless cutscene skip',\n 'finally played borderland actual game play great almost gun fun never felt sure needed grind story hand say oh yes much looking forward extended cutscene skip',\n 'come meet one lovely gaming goddess',\n 'meet one lovely gambling goddess',\n 'come meet one beautiful god gambling',\n 'come one lovely gaming goddess',\n 'come meet one lovely gaming goddess',\n 'come meet one lovely green goddess',\n 'bitch',\n 'slut',\n 'bitch',\n 'terrible bitch',\n 'bitch',\n 'miracle',\n 'ok loving also playing bomb baghdad anything get hype borderland like concept',\n 'ok loving also playing bomb baghdad something give hype borderland like concept',\n 'ok loving also playing bomb baghad anything get borderland like concept',\n 'ok loving also seeing take baghdad anything get hype borderland like concept awesome',\n 'ok sir loving also playing bomb baghdad case anything get hype borderland like concept',\n 'ok loving also playing bomb earth anything get hype good rpg concept',\n 'uninstalled game make space borderland',\n 'uninstall game make room borderland',\n 'deleted game make room borderland',\n 'uninstalled game make space borderland',\n 'uninstalled game make space watching borderland',\n 'uninstalled game make space borderland',\n 'already loving bleeding edge clever game cross overwatch borderland domination game mode cool',\n 'love bleeding edge clever game crossroad overwatch borderland domination game mode cool',\n 'cross overwatch borderland domination game mode cool',\n 'already loving bleeding edge fun game cross overwatch borderland xbox game mode cool',\n 'already also loving bleeding edge clever game cross overwatch borderland future domination game mode cool',\n 'already played bleeding edge clever game cross fantasy borderland non domination game mode playing',\n 'bioshock borderland coming switch bitch count fuck',\n 'bioshock borderland coming switch bitch count fuck',\n 'bioshock borderland coming switch bitch count fuck',\n 'bioshock borderland coming desert bitch count fuck',\n 'bioshock montana borderland coming switch bitch count fuck',\n 'bioshock borderland coming switch bitch count fuck',\n 'platinum best loot borderland',\n 'platinum best booty borderland',\n 'platinum best lot borderland',\n 'platinum best loot borderland',\n 'platinum rock named best loot borderland',\n 'platinum best loot',\n 'reason laptop run borderland war thunder warframe high setting moment even try even launch csgo entire computer crash',\n 'reason laptop run borderland war thunder warframe high setting moment even try start csgo entire computer crash',\n 'reason laptop run borderland war thunder warframe high setting moment even try run csgo whole computer break',\n 'reason firefox run borderland war thunder plus warframe high setting no moment even try even launch csgo entire computer crash',\n 'reason laptop easily run borderland volume chaos war thunder warframe currently high setting moment even dare try even launch csgo mind entire computer crash',\n 'reason software mount act war thunder king thunder high speed moment even try even launch entire computer crash',\n 'jumping stream early today playing borderland dlcs vibing new playlist made come vibe also dropping quality p see make difference well stream run dumb internet lmao twitch tv heyitscece',\n 'start streaming morning still playing borderland dlcs vibrating new playlist made come vibe also lowering quality p see make difference well stream run stupid internet lmao twitch tv heyitscece',\n 'jon stream early today playing borderland dlc vibing new playlist made come vibe also downloading quality p see difference well stream run tumb internet lmao',\n 'jumping stream early today playing borderland dlcs vibing new playlist made come vibe also dropping quality p see make difference well stream run dumb internet lmao twitch tv heyitscece',\n 'jumping stream early today playing borderland dlcs vibing new playlist made come vibe also dropping quality p see make difference well stream run dumb internet lmao twitch tv heyitscece',\n '',\n 'enter gunner seat fear life',\n 'step trench fear life',\n 'enter gunner seat fear life',\n 'enter gunner seat actually fear life',\n 'enter gunner seat fear life',\n 'enter gunner seat fear life',\n 'fuck pic twitter com wav bacr j',\n 'fuck pic twitter com wav bacr j',\n 'fuck pic wikipedia org wav bacr j',\n 'fuck pic twitter com wav bacr j',\n 'v fuck pic twitter com wav bacr j',\n '',\n 'borderland good omg',\n 'borderland good omg',\n 'borderland good omg',\n 'borderland good omg',\n 'borderland ever good omg',\n 'borderland omg',\n 'update thwarted bank borderland',\n 'update foiled bank borderland',\n 'update threatened bank borderland',\n 'update thwarted bank borderland',\n 'update thwarted late bank trip borderland',\n 'update thwarted bank borderland',\n 'borderland something seems broken drop rate constantly dropping le lot lower mayhem level possible loot modifier swear seeing green blue anything bos kill',\n 'borderland something seems broken drop rate constantly falling le lower chaos level possible loot modifier swear see green blue anything bos kill',\n 'borderland something seems broken drop rate constantly falling le lower level mayhem possible production modifier',\n 'borderland something seems kinda broken drop rate constantly pushing le lot normal mayhem level possible loot modifier people swear moving green blue anything bos kill',\n 'borderland something seems broken drop recovery rate constantly dropping seems le lot lower mayhem level fast possible loot modifier next swear actually seeing green blue anything bos kill',\n 'borderland something seems broken drop rate constantly dropping le gold lower amount worked loot modifier unk swear seeing green blue anything bos kill',\n 'got play borderland entire polycule tonight fun magical evening end sigh',\n 'allowed play borderland tonight polyphony funny magical evening end sigh',\n 'play borderland polyslice tonight fun magical evening end sigh',\n 'got enjoy borderland entire polycule tonight fun magical evening better end sigh',\n 'got play borderland part entire polycule tonight really fun magical evening finally end sigh',\n 'got play jackson entire polycule tonight fun completely magical happy evening end sigh',\n 'shitty get profit wise le expected due huge budget',\n 'crappy get le profit expected due huge budget',\n 'crap realize profit turned lower expected huge budget',\n 'shitty get profit wise le expected due busted budget',\n 'shitty get profit wise really le expected due huge marketing budget',\n 'shitty get profit wise le business expected prior huge problem',\n 'borderland good far borderland always fav',\n 'borderland good far borderland always favorite',\n 'borderland good far borderland always fav',\n 'borderland good far borderland not always fav',\n 'borderland good far borderland certainly always probably fav',\n 'unk good far guardian always fav',\n 'finally got around starting borderland weekend love already well made',\n 'finally managed start borderland weekend love already well done',\n 'finally got launch borderland weekend already enjoying well done',\n 'finally got around starting borderland weekend loved already well loved',\n 'finally got around officially starting borderland whole weekend love going already well made',\n 'finally got around starting borderland weekend turned many made',\n 'slutty mechanic im im',\n 'slutty mechanic im im im im',\n 'slutsky',\n 'slutty mechanic im',\n 'slutty old mechanic im im',\n 'slutty mechanic im',\n 'night heeps fun playing borderland getting closer closer towards end stream raided clocksydraws amazing streamer beautiful art piece give follow already goodnight',\n 'night load fun playing borderland getting closer closer end stream raided clocksydraws amazing streamer beautiful artwork give follow done yet good night',\n 'night fun playing borderland getting closer closer end stream drove clocksydraws amazing street beautiful work art let imitate already good night',\n 'night heeps fun playing borderland getting closer closer towards end stream raided clocksydraws amazing streamer beautiful art piece give follow already unk goodnight',\n 'night heeps fun playing borderland getting closer closer towards end stream raided clocksydraws brilliant amazing streamer beautiful art piece give follow already go goodnight',\n 'night heeps fun playing borderland getting closer closer towards end stream raided clocksydraws cool streamer beautiful art piece give follow already goodnight',\n 'bl using girl fire end credit gonna quit borderland forever',\n 'bl girl fire end credit reason leave borderland forever',\n 'bl using girl fire end credit gonna quit borderland forever',\n 'bl using girl fire end credit reminds gonna quit borderland forever',\n 'bl using girl fire writing end credit probably r gonna quit borderland forever',\n 'bl old girl fire end credit know gonna watch borderland forever',\n 'yoooooooooo actually hyped movie',\n 'yooooooooooo really puffed movie',\n 'yooooooooo actually hyped movie',\n 'yoooooooooo currently hyped movie',\n 'yoooooooooo not actually hyped little movie',\n 'yoooooooooo actually hyped guy',\n 'bc game okay borderland best kind',\n 'bc game fine border country best kind',\n 'bbc game good year best kind',\n 'bc game okay borderland probably best kind',\n 'bc game okay borderland best region kind',\n 'think game okay borderland best good',\n 'modern warfare borderland great game deal p xbox one switch unsorted co modern warfare http co n qojkhu',\n 'modern warfare borderland great game p xbox one switch unsorted co modern warfare http co n qojkhu',\n 'modern warfare borderland great game deal p xbox one swift unsorteco modern warfare',\n 'modern warfare not borderland great game gear p xbox one switch unsorted co modern warfare http co n qojkhu',\n 'modern warfare borderland great nintendo game group deal p xbox one nintendo switch also unsorted see co w modern warfare database http co n qojkhu',\n 'modern warfare borderland online great good deal p compact multi switch co modern warfare',\n 'next one borderland handsome collection welcome',\n 'next borderland handsome collection welcome',\n 'next borderland handsome council',\n 'next one borderland best handsome collection welcome',\n 'next short one borderland true handsome collection welcome',\n 'second one borderland handsome collection welcome',\n 'disagree psycho krieg fantastic fustercluck wonderful end borderland dlc line focus fan favorite character give long lasting player closure big question krieg character memorable set piece player interact',\n 'psycho krieg fantastic fustercluck wonderful conclusion borderland dlc line focus fan favorite character offer long lasting player conclusion big issue character war memorable set piece player interact',\n 'psycho ostik fusterkluck perfect conclusion borderland line focus fan favorite character give player opportunity close long time important question character memorable scenery player interact',\n 'disagree psycho krieg v fantastic fustercluck wonderful end game borderland dlc line focus fan favorite character give long lasting player closure big question primary character memorable set character player play',\n 'seriously disagree psycho krieg fantastic fustercluck story wonderful end borderland dlc book line focus fan favorite character give long game lasting player closure big question krieg character memorable set piece player always interact',\n 'not disagree klaus krieg fantastic fustercluck wonderful end borderland dlc line focus fan favorite character give little range satisfying closure several big question character memorable set piece player interact',\n 'hate algorithm',\n 'hate algorithm',\n 'hate alma mater',\n 'hate algorithm',\n 'hate stupid algorithm',\n 'hate algorithm',\n 'april patch mini dlc borderland amazing event new difficulty modifier ramp gear stats combine make game fresh yet',\n 'april patch mini dlc borderland amazing event new difficulty modifier extra gear stats make game fresh',\n 'april patch mini dlc borderland amazing',\n 'april patch mini dlc borderland amazing event new difficulty modifier ramp total gear stats combine make event great yet',\n 'latest april patch mini dlc ultimate borderland online amazing story event brand new level difficulty modifier ramp power gear stats combine make game fresh yet',\n 'april patch mini dlc borderland amazing event new difficulty modifier ramp unk gear stats combine make game fresh fun',\n 'hey guy optus appears accident stream getting good apology back tomorrow borderland big apology no idea happened',\n 'hi guy optus seems accident electricity going well excuse back tomorrow border country big apology no idea happened',\n 'hey guy optus seems got accident flow going well apology back tomorrow border land big apology no idea happened',\n 'hey guy optus appears accident stream getting good operator reporting tomorrow borderland big apology no idea happened',\n 'hey guy optus appears accident blood stream getting good apology back tomorrow u borderland big apology though no idea exactly happened',\n 'unk guy optus appears accident review start getting good apology back tomorrow borderland apology no idea exactly',\n 'big hearty congratulation playapex respawn callofduty borderland destinythegame family baftagames nomination wooohoooo',\n 'congratulation playapex respawn callofduty borderland destinythegame family baftagames nomination wooohoooo',\n 'big heartfelt congratulation playapex respawn cfduty borderland destinythegame baftagames woooooooo',\n 'big special congratulation fellow playapex respawn callofduty borderland family destinythegame unk wooohoooo',\n 'big night hearty congratulation playapex campaign respawn project callofduty borderland destinythegame distinguished family putting numerous baftagames foundation nomination wooohoooo',\n 'big strong congratulation unk parent playapex respawn adoptive family various nomination wooohoooo',\n 'hey borderland mutuals fam sorry not interacting directly playing game much love ya much thank reminding fandom giant cesspool thank cute character look forward seeing',\n 'hey borderland mutuals fam sorry interact play game directly love much thank reminding fandom not huge cesspool thank nice character look forward',\n 'hey borderland mutuals fam sorry not interacting directly playing game much love ya much thank reminding fandom not giant cesspool thank cute character look forward see',\n 'hey borderland mutuals fam sorry not interacting directly playing game much love ya much thank telling fandom giant cesspool thank posting amazing content look forward seeing',\n 'lee hey borderland mutuals fam sorry not interacting directly playing game fun much really really love ya much thank reminding fandom game giant time cesspool thank cute little character look much forward seeing',\n 'great borderland mutuals fam sorry not interacting directly playing not hard love ya much thank reminding fandom global cesspool thanks unk awesome character look forward seeing',\n 'borderland gun love tentacle best new legendary weapon ranked ift tt xj rmu',\n 'borderland weapon love tentacle best new legendary weapon rank ift tt xj rmu',\n 'borderland get love tentacle best new legendary weapon ranked tt xj r com',\n 'borderland gun love tentacle great new legendary weapon ranked live tt xj rmu',\n 'borderland black gun blind love word tentacle best new legendary assault weapon ranked ift tt xj rmu',\n 'borderland gun metal tentacle en unk secret weapon ranked ift tt xj rmu',\n 'best borderland character pic twitter com xr p ursqg',\n 'best border character pic twitter com xr p ursqg',\n 'best borderland character pic wikipedia org xr p ursqg',\n 'best borderland character pic twitter com xr p ursqg',\n 'see best borderland character pic twitter com xr p ursqg',\n 'unk',\n 'fave game minecraft borderland forza horizon lego star war',\n 'favorite game minecraft borderland forza horizon lego star war',\n 'favorite game minecraft borderland forza h lego star war',\n 'fave game minecraft borderland forza tournament lego star war',\n 'favourite fave game minecraft borderland ep forza horizon lego star war',\n 'screen fave title minecraft borderland forza horizon lego star',\n 'feel like accomplished something even though reality suffer die',\n 'feeling achieved something reality suffered died',\n 'feel like spilled something fact done suffer die',\n 'feel like accomplished something even though reality felt fuck die',\n 'feel like accomplished something even though reality seemingly suffer die',\n 'feel like accomplished something beautiful though reality suffer die',\n 'messed downloading new borderland dlc yet assume update patch dlc like previous dlc even season pas manually added p store downloaded',\n 'suppose update patch dlc like previous dlc added downloaded manually p store even season card',\n 'suppose update patch patch previous case even subscription manually added store downloaded',\n 'messed downloading new borderland dlc yet assume update patch dlc like previous one even season pas immediately added p store downloaded',\n 'messed downloading new borderland dlc update yet assume update never patch dlc feel like whole previous dlc even getting final season pas manually added later p store downloaded',\n 'messed downloading completely new borderland dlc yet assume update patch dlc like dlc even conditional pas patch eventually manually added p store made',\n 'hey borderland cant access new dlc start mission nothing game epic',\n 'hey borderland not access new dlc start mission nothing put game epic',\n 'hey borderland cant access new focus start mission nothing game epic',\n 'hey borderland u cant access console dlc start mission nothing game epic',\n 'hey borderland cant access four new dlc still start mission quickly nothing hit game epic',\n 'played borderland access new dlc open mission nothing game epic',\n 'done nothing play borderland last hour still not done started chapter im game unnecessarily long',\n 'done anything play borderland last hour still not done start chapter th game unnecessarily long',\n 'playing borderland last hour still finished',\n 'done nothing play borderland shit last hour still not done stop chapter im dead game unnecessarily long',\n 'done nothing play borderland time last hour already still not even done started chapter im february like game unnecessarily damned long',\n 'done nothing play borderland last year still fucking moving started chapter im letter unnecessarily long',\n 'samsung full homework away p samsung play fort want psycho get borderland overwatch fan psycho junkratt',\n 'samsung full homework away p samsung continue play want psycho get frontier commuter overwatch fan psycho junkratt',\n 'samsung full home affair away f samsung play fort want psycho want borderland overwatch fan psycho jratt',\n 'samsung full homework away p samsung play fort want psycho get paid borderland overwatch psycho awesome',\n 'happy samsung full lot homework away p samsung play fort want psycho get borderland overwatch fan said psycho junkratt',\n 'samsung like full fucking homework phone p samsung play fort want psycho borderland overwatch fan psycho junkratt',\n 'amazing month please please tell u ascension bluff door year',\n 'month please please tell u ascension bluff door year',\n 'amazing may month please please tell u ascension bluff door year',\n 'amazing month please tell u ascension bluff door year',\n 'extremely amazing preparing month please please tell u ascension base bluff station door really year',\n 'amazing saying also happening month unk please tell u last bluff year',\n 'damn sorry stupid short stream feel streaming today stupid headache fuck sent love quietachvment playing borderland keep tab social probably see thursday',\n 'damn sorry stupid short stream feel like streaming today stupid headache damned sent love quietachvment play borderland keep social medium register probably see thursday',\n 'damn sorry stupid short stream feel like streaming today stupid head come sent love quicktachement play borderland keep tab social medium probably see thursday',\n 'seriously sorry record short stream feel streaming today fighting stupid headache fuck sent love quietachvment playing great borderland definitely active social probably see thursday',\n 'damn sorry stupid short stream feel streaming today stupid headache fuck right sent love quietachvment playing chick borderland keep tab social probably see thursday',\n 'damn adverse whole short delay step streaming actually stupid headache fuck chris sent blanket lauren playing borderland keep tab social probably see thursday',\n 'perfect casting lilith anticipated film',\n 'perfect casting lilith anticipated film',\n 'great casting lilit anticipated film',\n 'perfect casting power lilith anticipated film',\n 'perfect casting first lilith anticipated film',\n 'perfect time lilith anticipated film',\n 'gearboxofficial fix borderland achievement unreal guy figure',\n 'gearboxofficial fix borderland achievement unreal figure',\n 'gearboxofficial fix achievement borderland unreal guy understand',\n 'gearboxofficial fix borderland achievement unreal guy dont figure',\n 'gearboxofficial fix borderland achievement com unreal bad guy figure',\n 'gearboxofficial fix borderland achievement unreal guy check',\n 'gearboxofficial borderland love game spent hr beating game twice farming like crazy get weapon anoints want decide way playing way intended weaken favorite anoint',\n 'gearboxofficial borderland love game spent hour beating game twice working like crazy get weapon ointment want decide way play not intended weaken favorite album',\n 'gearboxofficial borderland love game spent hr beating game twice farming like crazy get weapon money want',\n 'gearboxofficial borderland fucking love game spent hr beating game twice farming like crazy get weapon anoints want discover one way playing way wanted weaken favorite anoint',\n 'gearboxofficial borderland absolutely love game spent hr beating game twice farming like crazy get weapon anoints want decide way w playing way intended totally weaken favorite anoint',\n 'gearboxofficial borderland love game spent hr beating game twice farming like crazy get way anoints want say way playing way intended weaken favorite anoint',\n 'borderland krieg meet maya psycho krieg fantastic fustercluck dlc youtube com watch v jfck',\n 'borderland krieg meet maya psycho krieg fantastic fustercluck dlc youtube com watch v jfck',\n 'borderland meet maya psycho youtube com watch v jfck',\n 'borderland premiere krieg meet maya krieg fantastic beast dlc youtube com watch v jfck',\n 'borderland jesse krieg music meet princess maya performing psycho krieg solo featuring fantastic duo fustercluck dlc youtube com channel watch id v jfck',\n 'borderland beyond scott meet psycho wave v fantastic fustercluck buy com watch v jfck',\n 'idk gonna online class shit trying play borderland today xbox like hour controller disconnected browse instagram try plan next semester class imagine class',\n 'tried play borderland today xbox hour controller turned surfing instagram trying plan next semester imagine class',\n 'trying play borderline game today xbox turned hour controller turned browsing instagram trying plan next semester imagine class',\n 'idk gonna online class shit trying play borderland today xbox like hour controller disconnected browse instagram netflix plan next semester class took class',\n 'idk ya gonna online class shit trying desperately play borderland today xbox barely like hour touch controller disconnected browse instagram try harder plan next real semester class imagine class',\n 'unk supposed online class shit trying play borderland today xbox like pm controller disconnected browse instagram try try next semester class imagine class',\n 'officiated gay wedding borderland feeling powerful rn',\n 'celebrated gay wedding borderland felt powerful',\n 'played gay wedding borderland feeling powerful',\n 'officiated gay wedding borderland powerful rn',\n 'officiated gay fan wedding wwe borderland episode feeling powerful rn',\n 'officiated gay wedding borderland powerful rn',\n 'loving new dlc borderland duvalmagic gearboxofficial pic twitter com pkzjxlgxlj',\n 'love new dlc borderland duvalmagic gearboxofficial pic twitter com pkzjxlgxlj',\n 'catching new dlc borderland duvalmagic gearboxofficial pic fm pkzjxlgxlj',\n 'loving new dlc rhandlerr rhandlerr rhandlerr pic twitter com pkzjxlgxlj',\n 'f loving new dlc rhandlerr rhandlerr rhandlerr pic twitter com pkzjxlgxlj',\n 'one',\n 'fall damage canonically exist borderland universe',\n 'fall damage canonically borderland universe',\n 'whether damage fall canonical frontier universe',\n 'fall damage canonically exist borderland',\n 'fall damage canonically exist borderland universe',\n 'fall damage canonically occur borderland universe',\n 'lil preview maya drawing chipping away sinking lot time borderland hour lately pic twitter com nye cme',\n 'lil preview mayan drawing working lately spending lot time borderland spare time pic twitter com nye cme',\n 'lil preview maya drawing chiming away sinking lot time borderland offer hour late pic facebook com nye cme',\n 'lil preview maya drawing chipping away sinking lot time borderland hour lately pic twitter com nye cme',\n 'c lil preview maya drawing chipping away sinking lot time borderland hour lately pic twitter com nye cme',\n '',\n 'nerf gun painted look like',\n 'nerf pistol painted look like gun',\n 'pistol designed look like gun',\n 'nerf gun painted appear like',\n 'nerf gun painted look le like',\n 'nerf gun invented look like',\n 'exhausted work week probably no borderland stream today sorry',\n 'exhausted work week probably able flow anymore sorry',\n 'tired working week probably no border flow today sorry',\n 'exhausted work week probably no borderland stream today stoked',\n 'exhausted work week probably no borderland stream today sorry',\n 'still exhausted work saturday probably no borderland stream sorry',\n 'u played borderland pretty fun imo anyways whateves pic twitter com uoute ado',\n 'u played borderland pretty fun imo anyway whateves pic twitter com uoute ado',\n 'u played borderland pretty fun imo anyways whatsoever pic facebook com uoute ado',\n 'u played borderland pretty fun imo anyways whateves pic twitter com uoute ado',\n 'tv u played borderland pretty fun imo anyways whateves pic twitter com uoute ado',\n '',\n 'tale borderland swaggiedeals com product tale',\n 'story border swaggiedeals com product tale',\n 'tale borderland swagdeals com product tale',\n 'tale borderland factory com product tale',\n 'tale behind borderland swaggiedeals com www product tale',\n 'looking kitchen swaggiedeals com product tale',\n 'gun love tentacle reason excited',\n 'gun love tentacle reason excited',\n 'gb love tentacle reason excited',\n 'gun love sex reason not excited',\n 'gun love speed tentacle main reason excited',\n 'gun love music four reason excited',\n 'started playing borderland gun love tentacle hear voice half favorite youtube channel gamegrumps hell yeah egoraptor forever apart one best gearboxofficial game creepy as character',\n 'started playing borderland weapon love tentacle hear voice half favorite channel gamegrumps hell yeah egoraptor forever separated one best gearboxofficial game creepy as character',\n 'started playing borderland weapon love tentacle hear voice half favorite youtube channel gamegrup',\n 'started playing borderland gun love tentacle wanting lose voice half another favorite youtube channel gamegrumps hell yeah egoraptor forever apart one best gearboxofficial game creepy as cartoon',\n 'started playing borderland season gun love tentacle later hear voice half favorite youtube channel gamegrumps hell yeah egoraptor forever apart one best gearboxofficial game play creepy as character',\n 'started playing borderland gun love bad tentacle hear voice half old music channel gamegrumps hell yeah egoraptor apart one best gearboxofficial game creepy as demon',\n 'know doesnt look like much borderland favorite game thank smilingocean pic twitter com x dyptnald',\n 'know look like much borderland favorite game thank smilingocean pic twitter com x dyptnald',\n 'know look like much borderland favorite game thank smilingocean pic x dyptnald',\n 'know doesnt look like much borderland favorite game thank rhandlerr pic twitter com x dyptnald',\n 'n know doesnt look like much borderland favorite game thank rhandlerr pic twitter com x dyptnald',\n '',\n 'ah yes old image demon lottie still borderland oc pic twitter com puw xjwuro',\n 'ah yes old picture demon lottie time still border country oc pic twitter com puw xjwuro',\n 'ah yes old image lottie demon still border guard',\n 'ah yes old image demon lottie still borderland oc pic twitter com puw xjwuro',\n 'ibm ah yes old image demon lottie still borderland oc pic twitter com puw xjwuro',\n '',\n 'despised area borderland rust common area many sidequests',\n 'despised area borderland rust common area',\n 'favourite area borderland right rust common many sidewalk',\n 'despised area borderland still great common area many sidequests',\n 'despised land area left borderland lee rust common area many sidequests',\n 'despised block borderland kensington common area many bad',\n 'holy fuck',\n 'holy shit',\n 'holy fuck',\n 'holy week',\n 'holy shit fuck',\n 'holy sick',\n 'playing lot borderland also gotta love stunning cosplay kunaii cosplay instagram com xxkunaiixx http co giwx aqtuy',\n 'played lot borderland also must love stunning cosplay kunaii cosplay instagram com xxkunaiixx http co giwx aqtuy',\n 'playing lot borderland also global love stunning cosplay kunaii cosplay instagram com xxxaiii com http fenco giwx aqtuy',\n 'playing lot borderland also gotta save monkey cosplay fox cosplay instagram com xxkunaiixx http co giwx aqtuy',\n 'playing lot thinking borderland using track x also gotta love read stunning little cosplay kunaii cosplay instagram com xxkunaiixx http co giwx aqtuy',\n 'playing blast borderland music also gotta see face cosplay kunaii jackson instagram com xxkunaiixx http co giwx aqtuy',\n 'borderland duvalmagic gearboxofficial wanted say huge thank worked working borderland gearbox crushing enven covid knowing must difficult thank',\n 'borderland duvalmagic gearboxofficial wanted say huge thank worked continue work borderland gear crushed ever know difficult must thank',\n 'borderland duvalmagic gearboxofficial wanted say huge thank worked working borderland gearbox broken ever',\n 'borderland duvalmagic wanted say huge thank worked working borderland gearbox crushing enven covid knowing must difficult thank',\n 'borderland duvalmagic gearboxofficial wanted say saying good huge thank worked working borderland wheel gearbox crushing enven month covid knowing must real difficult thank',\n 'borderland duvalmagic gotta go offer one huge thank worked working borderland gearbox crushing enven totally understand must difficult thank',\n 'trying',\n 'trying get',\n 'trying',\n 'trying',\n '',\n 'today best game deal fifa borderland handsome toy uk googlehits com speaks f',\n 'best gaming deal today fifa borderland handsome toy uk googlehits com speak f',\n 'best deal far fifa borderland handsome toy uk googfcits com speak f',\n 'today best game movie fifa borderland toy googlehits com speaks f',\n 'today show best game winner deal fifa borderland handsome toy uk retrieved googlehits com sale speaks f',\n 'best fifa deal fifa handsome play via uk googlehits com speaks f',\n 'kno borderland handled zer nonbinary kinda shittily likely nonhuman start forgetting pronoun tftbl still rlly like zer happy fl k love playable mc',\n 'kno borderland handling zer nonbinary kind shitty likely inhuman start forget pronoun tftbl rlly like zer happy fl k love playable mc',\n 'kno borderland managed zer nonbinary kinda shittily likely non human start forget pronobel still rlly like zer happy fl k love playable mso',\n 'kno borderland handled zer nonbinary kinda easier definitely nonhuman start forgetting pronoun tftbl still rlly like zer happy fl k read playable mc',\n 'kno borderland handled zer nonbinary kinda shittily likely non nonhuman start usually forgetting pronoun tftbl still rlly like zer g happy fl k love playable mc',\n 'kno c handled zer bad kinda shittily likely nonhuman start forgetting worth tftbl still rlly like zer trying enjoy fl k liked well playable mc',\n '',\n '',\n '',\n '',\n '',\n 'im fucking excited',\n 'ficking excellent',\n 'proton launch vehicle disappeared face earth',\n 'im fucking',\n 'im go fucking excited',\n 'im excited',\n 'well certainly development',\n 'well certainly development',\n 'well development course',\n 'well certainly question',\n 'well certainly development',\n 'well not development',\n 'gamespot borderland dlc dismisses major problem lovecraft work ift tt qpeis',\n 'gamespot borderland dlc reject major issue lovecraft work ift tt qpeis',\n 'gamespot dlc borderland fire protagonist lovecraft tt q',\n 'gamespot borderland dlc dismisses major problem lovecraft dream ift tt qpeis',\n 'official gamespot lost borderland dlc dismisses major problem running lovecraft underground work ift tt qpeis',\n 'gamespot fantasy iii music major problem lovecraft work ift tt qpeis',\n 'unitedhayze glad see effort noticed way borderland co op would awesome pic twitter com vcgncpmavu',\n 'unitedhayze glad see effort noticed way borderland co op would awesome pic twitter com vcgncpmavu',\n 'unitedhayze effort noticed way borderland co op would amazing pic facebook com vcgncpmavu',\n 'rhandlerr glad see effort noticed way borderland co op would awesome pic twitter com vcgncpmavu',\n 'rhandlerr glad see effort noticed way borderland co op would awesome pic twitter com vcgncpmavu',\n '',\n 'super tempted get simple black heart tattoo right tit like ellie borderland lol idk like love thought like small pool people would know got tattoo cause simple black heart pretty common lol',\n 'super trying get simple black heart tattoo right tit like ellie borderland lol idk liked love thought like small pool people would know got tattoo simple black heart pretty common lol',\n 'super temptation get simple black heart tattoo right tit like ellie borderland lol idk wanted like thought small pool people would know got tattoo simple black heart quite common lol',\n 'super tempted get simple black heart tattoo right shoulder like ellie borderland idk like love thought hopefully small pool people would know get tattoo id cause simple black heart pretty common lol',\n 'super tempted get simple black heart tattoo right tit tattoo like ellie borderland lol idk like love thought looking like small pool people would never know got tattoo cause simple black heart pretty common lol',\n 'tempted get black simple black soul tattoo right heart like ellie borderland lol idk not like love thought like small pool people would know got right cause simple white one pretty common lol',\n 'player local borderland great weekend',\n 'player local borderland great weekend',\n 'local borderland player big weekend',\n 'local borderland great weekend',\n 'player local play borderland great weekend',\n 'player local borderland shop great weekend',\n 'sly borderland haha mission demon dark mine moria nice',\n 'sly borderland haha mission demon dark moria mine nice',\n 'sly borderland haha mission demon dark mine moria nice',\n 'sly borderland haha mission demon full dark mine moria nice',\n 'sly g borderland haha mission high demon district dark mine moria nice',\n 'sly borderland haha great mission key jar mine del moria nice',\n 'playing borderland mistake bc know dy also replay im gonna mess end',\n 'play borderland mistake bc know dy even replay end mess',\n 'playing borderland mistake bc know dy also replay im gonna mess end',\n 'playing borderland mistake bc know dy also replay im gonna get mess end',\n 'playing borderland final mistake bc know dy also play replay im gonna g mess end',\n 'playing v struggle bc know dy also replay im gonna mess beginning',\n 'run borderland xbox game dope tryna run squad mann',\n 'run borderland xbox game dope tryna run squad man',\n 'run borderland xbox game dope trina run command',\n 'run borderland xbox shit dope tryna run squad mann',\n 'never run borderland xbox video game going dope tryna run squad mann',\n 'buy borderland xbox game dope tryna run squad mann',\n 'morning split playing pso borderland today stream either way stream today happening excited hang nonetheless hope weekend well pic twitter com x crvuk pq',\n 'tomorrow split come playing pso borderland today stream either way stream underway today still looking forward hanging hope weekend good pic twitter com x crvuk pq',\n 'morning split playing p borderland today stream',\n 'morning split playing pso borderland today stream either way stream today happening excited hang nonetheless hope weekend well pic twitter com x crvuk pq',\n 'morning split playing pso borderland today stream either way stream today happening excited hang nonetheless hope weekend well pic twitter com x crvuk pq',\n '',\n 'borderland turned mayhem modifier back mistake ie jobwx eu rg',\n 'borderland turned mayhem modifier mistake ie jobwx eu rg',\n 'borderland turned mayhem modifier mistake',\n 'borderland putting mayhem modifier back sound huge mistake ie jobwx eu rg',\n 'borderland turned skin mayhem best modifier come back mistake ie free jobwx eu rg',\n 'may turned mayhem war back enter issue ie jobwx eu rg',\n 'actually think borderland might th fave stand alone god love enjoy bl',\n 'actually think borderland could fifth favorite alone god love bl enjoy',\n 'actually think borderland might th fave would not stand alone god love enjoy bl',\n 'actually think borderland might th fave stand alone god ever enjoy bl',\n 'actually rather think borderland might th fave certainly stand alone still god really love enjoy bl',\n 'actually think borderland might still th fave though stand top god still enjoy bl',\n 'probably going log social medium day buckle take care online class work week want work borderland hit steam back done junk',\n 'probably log social medium day buckle online classwork week want work borderland let steam back done garbage',\n 'probably get social medium day buckle take care online activity week want work borderland get steamed back done rubbish',\n 'really going log social net day buckle take inventory online class assignment week want work borderland hit steam back finished junk',\n 'probably going completely log social medium day buckle take care even normal online class work week plus want still work borderland hit steam back ever done junk',\n 'probably going log social medium day buckle take video class work week want work hit steam anyway back satisfied real junk',\n 'borderland chapter youtu sku vr ixu via youtube come watch dive awesome adventure let vxssociety smallstreamersc',\n 'borderland chapter youtu sku vr ixu via youtube come watch dive fantastic adventure let vxssociety smallstreamersc',\n 'borderland chapter youtu sku vr ixu via youtube come watch dive awesome course let vxssociety smallstreamsc',\n 'borderland competition sku vr ixu via youtube come watch dive explain awesome idea let vxssociety smallstreamersc',\n 'lost borderland part chapter youtu de w sku vr ixu via youtube come watch wanna dive awesome secret adventure let vxssociety smallstreamersc',\n 'borderland chapter download sku vr ixu youtube watch whilst dive virtual adventure let without',\n 'friendly reminder borderland soundtrack absolute banger song particular probably favorite gag entire game youtu nfwamb tlui',\n 'friendly reminder soundtrack borderland absolute banger song maybe favorite gag whole game youtu nfwamb tlui',\n 'friendly reminder track borderland absolute banger song special probably favorite gag whole game youtu nfwamb tlui',\n 'friendly reminder borderland soundtrack absolute classic song particular probably favorite theme main game youtu nfwamb tlui',\n 'friendly reminder borderland part soundtrack absolute banger song quite particular probably favorite movie gag fucking entire game youtu see nfwamb html tlui',\n 'friendly dog unk audio absolute mess song probably favorite gag entire game youtu nfwamb tlui',\n 'noob try make salvador build borderland twitch tv lucasc',\n 'noob try make salvador build borderland twitch tv lucasc',\n 'nub try force el salvador build border land tch tv lucasc',\n 'noob try make salvador build borderland twitch tv lucasc',\n 'noob try make salvador build borderland twitch tv lucasc',\n '',\n 'eli roth directing borderland movie engadget com eli',\n 'eli roth directs borderland engadget com eli',\n 'elie direct frontier film',\n 'eli roth directing paramount picture engadget com eli',\n 'jonathan eli roth directing borderland movie engadget com eli',\n 'unk unk directing borderland movie engadget com eli',\n 'beat dlc main story line loved thank duvalmagic borderland gearboxofficial',\n 'beat dlc main story line loved thank duvalmagic borderland gearboxofficial',\n 'beat dlc main story line loved thank duvalmagic borderland gearboxofficial',\n 'beat dlc story line loved thank duvalmagic borderland gearboxofficial',\n 'heart beat dlc main story first line loved thank duvalmagic borderland gearboxofficial',\n 'dlc short story item loved thank f duvalmagic borderland gearboxofficial',\n 'borderland fallout child would outerworlds love game though terrific work',\n 'borderland fallout child would outerworlds love game though great work',\n 'borderland fallout child would oworlds love game though terrible work',\n 'borderland fallout child outerworlds love company though terrific work',\n 'borderland fallout third child would outerworlds love love game though terrific work unk',\n 'borderland rpg cliche would simply love game unk terrific work unk',\n 'omg miss rhys soooo much would anything see borderland pic twitter com c wvkyrbge',\n 'omg miss rhys soooo much would anything see borderland pic twitter com c wvkyrbge',\n 'omg miss rhys soooo much would anything see borderland pic facebook com c wvkyrbge',\n 'omg miss rhys soooo much would anything see borderland pic twitter com c wvkyrbge',\n 'omg miss rhys soooo much would anything see borderland pic twitter com c wvkyrbge',\n '',\n 'watching kalloori perfect situation mystic river tampa prescott dak johnson marcus lego harry potter year mille lac leonard kawhi ivan rakitic chilton dan glazer jeff carter julio garcia algemarin l borderland always love loveok store best online sh http co ap h thdzt',\n 'lego harry potter year mille lac leonard kawhi ivan rakitic chilton dan glazer jeff carter julio garcia algemarin l borderland always love loveok store best online sh http co ap h thdzt',\n 'watching khori perfect mystic river tampa prescott dak johnson marcus lego harry potter year mille lac leonard kawhi ivan rakitic chilton dan haser jeff carter julio garcia algemarin l borderland always love loveok store best online sh',\n 'watching kalloori perfect situation mystic river tampa prescott xavier johnson marcus spear harry potter year mille lac leonard kawhi ivan rakitic thunder jay glazer jeff carter julio garcia algemarin l borderland even love loveok store best online sh http co ap h thdzt',\n 'watching jimmy kalloori perfect situation mystic river tampa prescott dak johnson marcus lego harry potter year luc mille lac leonard kawhi ivan rakitic chilton dan glazer iii jeff carter julio luis garcia algemarin l borderland always love loveok store major best online sh http co ap h thdzt',\n 'watching kalloori perfect rainbow mystic river tampa prescott dak johnson avon lego harry phillips year mille lac leonard fisher ivan rakitic chilton silver glazer jeff carter julio garcia algemarin borderland always loveok store best online sh http co ap h thdzt',\n 'capitalism borderland',\n 'capitalism border',\n 'surrender border',\n 'capitalism political borderland',\n 'capitalism european borderland',\n 'capitalism borderland',\n 'explains lack fast travel station gun love tentacle ridiculous',\n 'explains no fast travel destination gun love tentacle ridiculous',\n 'explains lack high speed tram station gothenburg ljuby tentacle',\n 'explains market fast travel station gun love tentacle ridiculous',\n 'explains also lack regular fast travel station gun love love alternative tentacle ridiculous',\n 'basically explains lack fast travel station story love war ridiculous',\n 'enjoying borderland tubbz sun numskulldesigns',\n 'enjoying borderland tubbz sun numskulldesigns',\n 'enjoying borderland tubbz sun numskdesigns',\n 'enjoying borderland tubbz unk sun numskulldesigns',\n 'enjoying winter borderland tubbz golden sun numskulldesigns',\n 'borderland tubbz sun numskulldesigns',\n 'completed',\n 'rejected',\n 'completed',\n 'series completed',\n '',\n 'wine drunk playing new borderland goddess life fun life findom',\n 'wine drunk playing new borderland life goddess fun life findom',\n 'wine drunk playing new borderland life goddess fun life findom',\n 'wine drunk video borderland goddess life fun life findom',\n 'wine drunk playing new borderland goddess life much fun life findom',\n 'wine drunk playing new music life mortal life findom',\n 'fun annoying thing meatballmissus learned two different version borderland game year edition steam not compatible online play',\n 'fun annoying thing meatballmissus learned two different version borderland game year edition steam not compatible online game',\n 'funny thing meatballmissus learned two different version borderland game year steam not comparable online gaming',\n 'fun annoying thing meatballmissus pc learned always different version borderland game year edition steam always compatible via online play',\n 'fun annoying thing meatballmissus learned two substantially different version borderland game future year complete edition steam even not compatible country online play',\n 'little fun annoying thing meatballmissus others learned two different version mario game year edition across steam not compatible online purchase',\n 'borderland please get big hot fix whole factory reset system wipe everytime play borderland farm crash',\n 'borderland get big fix please reset entire factory deleted system every time play borderland build farm crash',\n 'borderland please get big hot fix whole factory reset system wipe whenever play borderland farm crash',\n 'borderland could please get big hot fix gave whole factory reset system wipe everytime play borderland farm crash',\n 'borderland please get big hot fix routine whole factory reset report system wipe not everytime gotta play borderland farm crash',\n 'borderland please big hot fix basic factory check system refresh everytime play borderland farm system crash',\n 'borderland echo cast doesnt work even though say doesnt show anything twitch except refresh say loading',\n 'borderland echo cast work though say point anything twitching turned except update say loading',\n 'borderland echo cast work even though say',\n 'borderland echo cast doesnt work even though say whatever doesnt show anything twitch something except refresh say loading correctly',\n 'borderland echo cast back doesnt work even though say doesnt actually show anything twitch touching paper except not write refresh say something loading',\n 'borderland echo cast doesnt work even though say doesnt show normally twitch open except hit say loading',\n 'even tho leveled grenade still destroying everything path check youtu wpdgr ph lo',\n 'even though leveled grenade still destroys everything get way see also youtu wpdgr ph lo',\n 'even tho leveled grenade still destroying everything path check youtu wpdgr ph lo',\n 'even tho leveled monster still changing everything along path check youtu wpdgr ph lo',\n 'even tho leveled lone grenade still destroying everything path c check youtu wpdgr ph lo',\n 'even tho successfully leveled grenade seriously hurting everything path slug wpdgr ph lo',\n 'also bought borderland switch love series cant wait play go',\n 'also purchased borderland switch love series wait play along way',\n 'also bought borderland switch love series wait play go',\n 'also bought borderland switch love series cant wait play go',\n 'also bought borderland switch love series cant wait play second go',\n 'also bought borderland switch love series cant look play next',\n 'borderland play borderland xbox without crashing fix pls',\n 'borderland play borderland xbox without crashing',\n 'borderland play borderland xbox without crashing fix pls',\n 'borderland unk play borderland tablet without crashing fix pls',\n 'borderland play borderland xbox without completely crashing maybe fix pls',\n 'man cannot play borderland xbox without crashing fix pls',\n 'dumbass like borderland mod mf look like claptrap',\n 'dumbass like borderland mod mf look like rattlesnake',\n 'dumbass like borderland mod mf look like claptrap',\n 'dumbass like fun mod every mf look like claptrap',\n 'dumbass like asking borderland mod time mf look like claptrap',\n 'dumbass like borderland mod mf look',\n 'really like randy pitchford nothing helpful hope mix',\n 'really like randy pitchford helped hope mix',\n 'really like randy pitchford helped lot',\n 'really like randy pitchford nothing great realize mix',\n 'really like randy pitchford nothing fucking helpful get like hope mix',\n 'really like randy pitchford nothing helpful hope thing mix',\n 'last night borderland first playthrough complete every level peggle unlocked party night forget wanna say huge thank community support shown insane last night unbelievable want',\n 'last night borderland first playthrough every level peggle unlocked party forget want thank community support showed insane last night incredible want',\n 'last night first game borderland every level peggle unlocked party night forget want say huge thank community support gave amazing',\n 'last night borderland first playthrough complete every level peggle unlocked tomorrow night forget wanna say huge thank yo friend support shown insane last night unbelievable think',\n 'last night borderland chapter first xbox playthrough complete every level found peggle unlocked party night maybe forget wanna say big huge thank support community emotional support shown absolutely insane last night unbelievable want',\n 'last evening complete game playthrough complete every level peggle unlocked tomorrow night forget wanna say huge thank community support shown insane last night full want',\n 'went bed hour pm farming graveward almost pm went farm graveward first kill tried loot vault already looted borderland ki ersix wrong game broken',\n 'went bed hour earlier pm graveward farm almost pm went back graveward farm first kill tried loot safe already looted borderland ki ersix wrong game broken one',\n 'went bed hour pm farming graveward almost pm went farm graveward first kill tried lot vault already rooted borderland ki ersix wrong game broken',\n 'went bed day night farming graveward almost pm went farm graveward new kill tried loot vault already full borderland ki ersix wrong game broken',\n 'went bed hour pm farming graveward almost pm went farm near graveward decided scoring first kill tried not loot vault home somehow not already looted borderland ki ersix wrong matter game broken',\n 'went bed hour bed pm farming graveward came still nearly pm tried farm graveward third kill tried loot vault already looted borderland ki ersix really wrong game broken',\n 'live feel like not streamed forever probably sorry borderland bit eyesofness borderland twitch tv niam http co rjpcj dt',\n 'live feel like poured forever probably sorry borderland bit eyesofness borderland twitch tv niam http co rjpcj dt',\n 'live feel like not streamed vehicle problem sorry borderland bit eyesofness borderland',\n 'live feel like not streamed forever probably sorry borderland bit rhandlerr borderland twitch tv niam rhttpr',\n 'live feel like not streamed forever probably sorry borderland bit rhandlerr borderland twitch tv niam rhttpr',\n 'unk',\n 'italkfortnite bought borderland epicgames using creator code wait use skin',\n 'italkfortnite bought borderland epicgames creator code wait use skin',\n 'ilennite bought borderland epicgames using creator code',\n 'italkfortnite bought borderland epicgames using creator code cant wait see skin',\n 'italkfortnite bought borderland epicgames using creator code code quite wait help use skin',\n 'italkfortnite actually bought season using creator code wait skin',\n 'love u guy',\n 'love u guy',\n 'love u guy',\n 'love u bro',\n 'love u guy',\n 'unk love u guy',\n 'borderland update delayed due anti racism protest pic twitter com ddq wexjls',\n 'borderland update delayed due anti racism protest pic twitter com ddq wexjls',\n 'borderland delayed due anti racism protest pic wikipedia org ddq wexjls',\n 'borderland update delayed due anti racism protest pic twitter com ddq wexjls',\n 'digital borderland update delayed due anti racism protest pic twitter com ddq wexjls',\n '',\n 'borderland concern new update console p not sure playing gaming audio visuals start constantly freeze break making hard continue frame rate drop drastically worried',\n 'borderland concern new update console p not sure others playing gaming audio visuals start freeze constantly break make difficult sink frame rate drastically worried',\n 'borderland misgiving new update console p not sure otherwise game audio video constantly hovering breaking making difficult continue sharp drop frame rate',\n 'borderland concern new update console p n sure whats playing gaming experience visuals start constantly freeze break making hard continue frame rate drop drastically worried',\n 'borderland also concern scheduling new update console p not sure playing gaming audio effect visuals start constantly freeze head break making hard continue frame rate drop drastically go worried',\n 'borderland concern new update console p not sure gaming software visuals start really crash break hard continue frame rate drop drastically worried',\n 'borderland science actually really enjoyable',\n 'borderland science really fun',\n 'frontier science really attractive',\n 'borderland science actually somewhat enjoyable',\n 'borderland science actually getting really enjoyable',\n 'borderland science actually still enjoyable',\n 'borderland suck yall giving money randy pitchford go borrow game friend actually good',\n 'borderland suck give yall money randy pitchford go borrow game friend actually good',\n 'borderland suck yall giving money random pitchford go borrow game friend actually good',\n 'borderland suck yall giving money randy pitchford go borrow game cd actually great',\n 'borderland suck yall boy giving money randy pitchford go borrow game mutual friend really actually good',\n 'borderland open yall giving money randy pitchford go borrow game friend actually good',\n 'get feed dog way mac get outta dnd watch together wanna play borderland cramp bad today',\n 'get feed dog stuff mac make watch together want play borderland cramp bad today',\n 'get feed dog poppy get angry watch together want play border area crazy one today bad',\n 'get feed dog mac get outta town watch together wanna play borderland still cramp bad today',\n 'maybe get feed dog way mac get outta dnd al watch together wanna play football borderland cramp bad today',\n 'get feed dog way mac outta school also watch together wanna go borderland cramp bad today',\n 'genuinely left gearboxofficial borderland pic twitter com x okeh tmh',\n 'really left gearboxofficial borderland pic twitter com x okeh tmh',\n 'really left gearboxofficial borderland pic fm x okeh tmh',\n 'genuinely left rhandlerr rhandlerr pic twitter com x okeh tmh',\n 'genuinely left rhandlerr rhandlerr pic twitter com x okeh tmh',\n '',\n 'holy shit borderland as',\n 'holy shit borderland as',\n 'holy shit borderland as',\n 'holy shit borderland st as',\n 'holy shit borderland as',\n 'holy shit borderland as',\n 'live super interesting lol bos farm borderland twitch tv prismeyes',\n 'live super interesting lol bos farm borderland twitch tv prismeyes',\n 'live super interesting lol bos farm borderland',\n 'live super interesting lol bos farm borderland twitch tv prismeyes',\n 'via live super interesting lol bos farm borderland twitch tv prismeyes',\n '',\n 'unpopular opinion none game good',\n 'unpopular opinion none game good',\n 'unpopular view none game good',\n 'unpopular opinion none game good',\n 'unpopular opinion none perhaps game good',\n 'unpopular opinion neither game good',\n 'burn baby',\n 'burn baby',\n 'burn aall bies',\n 'baby',\n 'unk burn baby unk',\n 'unk burn bookmark permalink unk',\n 'atleast borderland cheer',\n 'least borderland cheer',\n 'least border guard cheer',\n 'atleast borderland match',\n 'atleast borderland come cheer',\n 'atleast borderland cheer everything',\n 'borderland trash also lowkey lit big sads easy',\n 'borderland trash also lowkey illuminated big sads easy',\n 'borderland thrash also quietly lit large garden easy',\n 'borderland trash also lowkey lit big easy',\n 'borderland trash also real lowkey lit big sads easy',\n 'borderland trash really lowkey lit big easy',\n 'gearboxofficial since playing borderland game friend really taste something discovered battleborn no way buy anymore look sooo good fun play',\n 'gearboxofficial played borderland game friend really want discovered battleborn no way buy anymore look sooo good fun play',\n 'gearboxofficial since playing borderland game friend really taste something discovered battleborn no way buy anymore looo good fun play',\n 'gearboxofficial since living borderland movie friend really taste something discovered battleborn meaning no money buy anymore look sooo exciting fun play',\n 'gearboxofficial since playing borderland game friend really natural taste something remember discovered battleborn no way buy stuff anymore simply look sooo good enough fun play',\n 'gearboxofficial since playing borderland game friend taste something discovered battleborn way not buy look sooo bad fun play',\n 'jackothyzine first piece fan made borderland merch excited see beautiful work artist participated pic twitter com lsmr szatv',\n 'jackothyzine first fan borderland merch excited see beautiful work participating artist pic twitter com lsmr szatv',\n 'jackothyzine first piece fan made borderland merch excited see beautiful work artist involved pic wikipedia com lsmr atv',\n 'rhandlerr first piece fan made borderland merch excited see beautiful work artist participated pic twitter com lsmr szatv',\n 'rhandlerr first piece fan made borderland merch excited see beautiful work artist participated pic twitter com lsmr szatv',\n '',\n 'fantastic day today congratulation gearboxofficial k borderland story make feel emotion best looking dlc mile boot thank letting join family',\n 'today fantastic day congratulation gearboxofficial k borderland history make feel emotion plus best looking dlc thank letting join family',\n 'congratulation gearboxofficial k borderland',\n 'fantastic day today congratulation gearboxofficial k borderland story make feel better awesome looking dlc mile boot thank letting join ur family',\n 'fantastic day today congratulation president gearboxofficial k borderland story make one feel emotion third best looking dlc mile mile go boot thank letting join royal family',\n 'fantastic review today congratulation brother jason gearboxofficial story way feel emotion best looking thing mile boot great guy letting join family',\n 'sky rocket superbadass caustic goliath borderland',\n 'sky rocket superbadass caustic goliath borderland',\n 'skye rose superbadass caucasian goliath boundary land',\n 'sky wolf superbadass caustic goliath borderland',\n 'sky rocket superbadass caustic goliath borderland',\n 'sky line superbadass goliath borderland',\n 'chris love borderland one two',\n 'chris love borderland one two',\n 'chris love edge one two',\n 'chris love borderland one two',\n 'chris almost love borderland one dozen two',\n 'chris got borderland one two',\n 'stick mario kart borderland shit compete someone else main motherfucker hating people play gta last u',\n 'stay mario kart borderland shit compete someone else main motherfucker hate people play gta last u',\n 'stick mario kart borderland shit not compete someone else main motherfucker hatting people play gta last u',\n 'stick sky kart borderland shit compete someone blind main motherfucker hating people play gta last u',\n 'stick mario kart borderland shit compete someone else two main motherfucker hating watching people play gta last two u',\n 'stick mario kart borderland play shit compete someone else main motherfucker hating game people really hate gta last u',\n 'whole year last year legit pleasure working k anz pez bro custom borderland themed playstationau oh time would love work brand sureee still one favourite job poscauk pic twitter com ln snb jsn',\n 'happened year last year legitimate pleasure working k anz pez bro custom borderland themed playstationau oh time would love work brand make sure still one favorite job poscauk pic twitter com ln snb jsn',\n 'last year legitimate pleasure working k anz pez bro custom borderland theme playstationau oh time',\n 'whole year last year legit pleasure working rhandlerr rhandlerr custom rhandlerr themed rhandlerr oh time would love work brand sureee still one favourite job rhandlerr pic twitter com ln snb jsn',\n 'n whole year last year legit pleasure working rhandlerr rhandlerr custom rhandlerr themed rhandlerr oh time would love work brand sureee still one favourite job rhandlerr pic twitter com ln snb jsn',\n '',\n 'mayhem murder aplenty time twitch tv bencompetence',\n 'chaos murder galore time twitch tv bencompetence',\n 'mayhem murder apollo time tch tv benefiction',\n 'mayhem murder aplenty time twitch tv bencompetence',\n 'mayhem murder aplenty time twitch tv bencompetence',\n '',\n 'borderland wtf',\n 'borderland wtf',\n 'borderland wtf',\n 'borderland unk',\n 'borderland wtf',\n 'wtf',\n 'cricket worst hivemind fandom done time would love better tarzan level kingdom heart bad borderland',\n 'cricket worst hive fandom done time like tarzan level kingdom heart bad borderland',\n 'cricket worst fennel fennel done time like tarzan level kingdom heart bad borderland',\n 'cricket worst hivemind fandom said time would love counting tarzan level kingdom heart strong borderland',\n 'cricket dubbed worst single hivemind game fandom certainly done time would love better tarzan level kingdom heart bad borderland',\n 'cricket already worst hivemind fandom done time would love better tarzan level eight heart bad mine',\n 'borderland quite fun',\n 'borderland really fun',\n 'borderland pretty funny',\n 'borderland quite different',\n 'borderland actually quite fun',\n 'borderland stuff quite fun',\n 'sweet',\n 'sweet',\n 'sweat',\n 'sweet',\n 'sweet',\n '',\n 'borderland',\n 'borderland',\n 'borderland',\n 'borderland',\n 'someone borderland',\n 'borderland',\n 'epicgames k steam add crossplay borderland gonna make compatible console waste',\n 'epicgames k steam add crossplay borderland make compatible console waste',\n 'epicgames k steam add crossplay borderland not going make compatible console',\n 'epicgames k add crossplay steam planning make everything compatible console waste',\n 'epicgames k steam not add crossplay borderland really gonna make compatible enough console waste',\n 'made epicgames k add crossplay gonna make compatible console horrible',\n 'looked list easily half list game parent would play half game child niece nephew would play maybe like acnh actually pick regularly borderland starve wow hell play love watching cod',\n 'looked list half list game parent would play half game kid niece nephew would play maybe actually record like acnh regularly borderland starve wow hell play love cod',\n 'looked list almost half list game parent play half game child niece niece play maybe like acnh actually choose regularly borderland starve wow hell play love watching cod',\n 'looked list easily half list game daughter would play half child niece nephew would emulate maybe like acnh actually pick regularly borderland starve hell still play love watching cod',\n 'looked shopping list easily half list game parent would play half game maybe child niece nephew would play maybe like acnh thing actually pick regularly r borderland starve wow hell r play also love watching cod',\n 'looked list half half list hobby parent would better half game child niece nephew would play maybe like acnh not pick regularly e starve wow hell no play watching cod',\n 'well certainly good valentine day went store bought box honey bun liter dr pepper enjoyed playing borderland boy word spent alone enjoyed hell goodnight',\n 'well definitely nice valentine day went store bought box honey roll liter dr pepper enjoyed playing borderland boy word spent alone enjoyed hell goodnight',\n 'well course good valentine day went store bought box honey liter dr pepper enjoyed playing border boy word spent alone enjoyed hell goodnight',\n 'well tom certainly good valentine day actually went grocery yesterday bought box honey bun bottle dr pepper enjoyed playing borderland boy word spent alone enjoyed hell nice',\n 'well certainly good valentine day went store bought whole box r honey filled bun liter dr pepper enjoyed playing borderland game beer boy word not spent alone enjoyed hell goodnight',\n 'well certainly good valentine day went shop bought box honey bun liter dr pepper enjoyed playing golf boy word exactly ran alone enjoyed hell goodnight',\n 'keep chin smash hammer chaotic review newest borderland dlc psycho krieg fantastic fustercluck youtu vcbrxrl uy',\n 'hold chin dream hammer chaotic review latest borderland dlc psycho war fantastic fustercluck youtu vcbrxrl uy',\n 'hold chin go hammer chaotic review newest borderland dlc psycho fustercluster youtu vcbrxrl uy',\n 'keep shield smash hammer chaotic newest borderland dlc american psycho mask fantastic fustercluck youtu vcbrxrl uy',\n 'keep chin held go smash hammer chaotic digital review upcoming newest borderland part game dlc psycho krieg ghost fantastic fustercluck youtu vcbrxrl uy',\n 'keep chin smash hammer also review available level dlc psycho krieg finally fantastic fustercluck youtu vcbrxrl uy',\n 'fuck epic store borderland pc coming steam march disq u mi yed',\n 'fuck epic store borderland pc come steam disq u mi yed march',\n 'fuck epic store borderland pc coming steam march disq u mi yed',\n 'fuck epic store borderland pc coming steam store march disq u mi yed',\n 'fuck epic store borderland made pc coming straight steam march disq u mi yed',\n 'fuck epic store party free coming steam march disq u mi yed',\n 'started playing borderland dlcs best dlcs ever made writing perfect humor point like main game',\n 'started playing borderland dlcs best dlcs ever made writing perfect humour point like main game',\n 'started playing borderland best ever done written perfectly humor point like main game',\n 'started playing borderland dlcs best dlcs ever made writing go perfect humor point like main game',\n 'started playing borderland dlcs best dlcs fan ever made writing perfect pitch humor point kinda like main game',\n 'started playing borderland dlcs best dlcs ever ever writing perfect humor strike point like entire main series',\n 'wonderful entrancing photo',\n 'wonderful adorable photo',\n 'amazing photo',\n 'wonderful summer photo',\n 'wonderful entrancing photo',\n 'wonderful entrancing beautiful',\n 'combination thing really love tonyhawk follow wanted called hawk lilith borderland called firehawk always taken blazehawk come love halo make sure not taken',\n 'combination thing really love tonyhawk follow wanted called hawk lilith borderland called firehawk always taken way blazehawk love halo make sure not taken',\n 'combination thing really love tonyhawk follow wanted called hawk lilith borderland called firehawk always taken blazehawk come love halo make sure not taken',\n 'combination thing really love tonyhawk unk wanted called hawk lilith borderland called firehawk kinda taken blazehawk come love hawk make sure thats not taken',\n 'combination thing really done love tonyhawk follow wanted best called dragon hawk c lilith borderland called firehawk always taken blazehawk term come romantic love halo make good sure also not taken',\n 'another bunch thing really love tonyhawk follow wanted called hawk lilith borderland called echo rarely therefore come love halo impossible make like never taken',\n 'somehow discovered powerrangers reference borderland love game',\n 'somehow discovered powerrangers reference borderland love game',\n 'somehow found link powerrangers borderland love game',\n 'somehow someone discovered music reference powerrangers love game',\n 'somehow wrong discovered powerrangers reference borderland love guitar game',\n 'somehow must find video reference powerrangers love game',\n 'hey fuck loan copy borderland cannot remember',\n 'hey hell lent copy borderland remember',\n 'hey fuck loan copy borderland cannot remember',\n 'hey fuck pawn copy borderland cannot remember',\n 'hey fuck loan someone copy borderland cannot remember',\n 'hey fuck loan copy cannot remember',\n 'borderland stream breakfast possibly back issue today see long sit chair',\n 'borderland stream breakfast possibly back problem today see long sit chair',\n 'borderland flowing breakfast sad back problem today let see long sit chair',\n 'borderland stream breakfast possibly back scan today decide long sit chair',\n 'borderland september time stream breakfast possibly back room issue today see long sit comfortable chair',\n 'borderland photo breakfast possibly back issue today see long sit lounge chair',\n 'game mutuals pok mon borderland p much sims played forever tho spiderman p spyro reignited uuuh not good either ciaranstrange sasspiria orionsuccs msmarquise bleh',\n 'game mutuals pok mon borderland p much sims played forever spiderman p spyro reignited uuuh not good either ciaranstrange sasspiria orionsuccs msmarquise bleh',\n 'game mutuals pok mon borderland p much sims played forever tho spiderman p spyro regulated uuuh not good ciaranstrange festivala orionsucks benzmarquise bleh',\n 'game mutuals pok mon borderland p much sims played forever tho spiderman game spyro uuuh not good either ciaranstrange sasspiria h orionsuccs bleh',\n 'game mutuals pok mon borderland two p much sims played forever tho spiderman p spyro reignited uuuh not good either ciaranstrange sasspiria orionsuccs msmarquise john bleh',\n 'friend player pokemon borderland p much sims played forever tho spiderman reignited uuuh not either ciaranstrange xbox sasspiria playstation bleh',\n 'favourite game guess minecraft ever beat plant v zombie first video game played borderland thank darkymaine undertale deltarune mario kart deluxe dibs art author robang try',\n 'favorite game guess minecraft beat plant v zombie first video game played borderland thank darkymaine undertale deltarune mario kart deluxe dibs art author robang try',\n 'favorite game guess minecraft ever beat plant v zombie first video game played border thank darkymaine undertale darune mario kart deluxe dibs art author robang try',\n 'dream console get mario ever beat plant v zombie first video game played three borderland thank darkymaine undertale deltarune mario kart dibs art author robang try',\n 'favourite game could guess also minecraft ever beat blood plant world v vampire zombie first video game played borderland thank darkymaine also undertale deltarune mario brother kart deluxe dibs art author robang going try',\n 'earliest game actually played minecraft beat plant v zombie first ever game even played borderland thank darkymaine undertale deltarune mario kart deluxe bravo art author robang try',\n 'darth filius unlocked achievement borderland increased gamerscore game total',\n 'darth filius scored success borderland increased gamesscore game overall',\n 'dart philus opened achievement border increased score game total',\n 'darth filius unlocked achievement borderland increased gamerscore game total',\n 'darth filius unlocked official achievement app borderland increased gamerscore game total',\n 'darth filius achievement increased gamerscore score game total',\n '',\n '',\n '',\n '',\n 'yo epic giveaway stream got gift twitch sub channel last stream congratz stoicflash ttv danagor dbd epic marble stream epic borderland epic fucking love guy epic nerd',\n 'yo epic giveaway stream may give away twitch sub last stream station congratulation stoicflash ttv danagor dbd epic marble stream epic borderland epic damn love guy epic nerd',\n 'yo epic giveaway stream got give sub channel last stream congratz stoicflash ttv danagor dbd fbd fbd marble stream fbic border fbic fucking love guy epic nerd',\n 'yo epic giveaway stream got gift wii sub channel last stream congratz stoicflash ttv danagor dbd awesome marble stream stunning borderland epic fucking love guy nerd',\n 'yo epic epic giveaway stream got gift twitch sub channel last stream congratz stoicflash receive ttv danagor dbd big epic marble stream huge epic borderland epic fucking gotta love guy epic nerd',\n 'yo epic giveaway unk proceeds gift twitch sub hit first last stream congratz stoicflash ttv danagor awesome blog stream brilliant borderland epic fucking love guy epic nerd',\n 'borderland amazing twitch tv nightshade',\n 'borderland amazing twitch tv nightshade',\n 'borderland amazing tch tv nightshade',\n 'borderland amazing twitch tv nightshade',\n 'ibm borderland amazing twitch tv nightshade',\n 'not',\n 'eli roth making movie based game bit ly wv khm',\n 'eli roth making movie game bit ly wv khm',\n 'elie making film based game bit ly wv khm',\n 'eli roth making comic based said game bit ly wv khm',\n ...]"
          },
          "metadata": {}
        }
      ]
    },
    {
      "cell_type": "code",
      "source": [],
      "metadata": {
        "trusted": true,
        "id": "Dz5fVLLYUmRe"
      },
      "execution_count": null,
      "outputs": []
    },
    {
      "cell_type": "code",
      "source": [
        "# max_length=32\n",
        "\n",
        "voc_size=5000\n",
        "\n",
        "embedded_docs_train =train_data_preprocessor.preprocess_text(df2,voc_size,max_length)\n",
        "\n",
        "print(embedded_docs_train)\n",
        "\n",
        "# embedded_docs_train =train_data_preprocessor.vectorized_text(df2, voc_size, max_length)\n",
        "\n",
        "# print(embedded_docs_train)\n",
        "\n",
        "\n"
      ],
      "metadata": {
        "id": "1YZCq_xYU_YD",
        "execution": {
          "iopub.status.busy": "2024-04-11T23:18:26.494969Z",
          "iopub.execute_input": "2024-04-11T23:18:26.495235Z",
          "iopub.status.idle": "2024-04-11T23:18:27.402409Z",
          "shell.execute_reply.started": "2024-04-11T23:18:26.495208Z",
          "shell.execute_reply": "2024-04-11T23:18:27.401700Z"
        },
        "trusted": true,
        "outputId": "bcca22a9-4e90-4425-b492-3d1feb243cdd"
      },
      "execution_count": null,
      "outputs": [
        {
          "name": "stdout",
          "text": "[[   0    0    0 ... 2543 2716  134]\n [   0    0    0 ... 3850 3476 2644]\n [   0    0    0 ... 2543 2716 2644]\n ...\n [   0    0    0 ... 1227 4210 2258]\n [   0    0    0 ... 4210 4545 2258]\n [   0    0    0 ... 1227 4210 2258]]\n",
          "output_type": "stream"
        }
      ]
    },
    {
      "cell_type": "code",
      "source": [
        "test_data_preprocessor = TextPreprocessor()\n",
        "\n",
        "df3 = test_data_preprocessor.normalized_text(data_test['text'])\n",
        "\n",
        "print( pd.DataFrame({'text': df3}).shape)"
      ],
      "metadata": {
        "id": "G6780xJ7VU8f",
        "execution": {
          "iopub.status.busy": "2024-04-11T23:18:27.403319Z",
          "iopub.execute_input": "2024-04-11T23:18:27.403615Z",
          "iopub.status.idle": "2024-04-11T23:18:27.462936Z",
          "shell.execute_reply.started": "2024-04-11T23:18:27.403589Z",
          "shell.execute_reply": "2024-04-11T23:18:27.462339Z"
        },
        "trusted": true,
        "outputId": "d378858a-f827-4443-86a6-3ae8fe6f54a2"
      },
      "execution_count": null,
      "outputs": [
        {
          "name": "stdout",
          "text": "(828, 1)\n",
          "output_type": "stream"
        }
      ]
    },
    {
      "cell_type": "code",
      "source": [
        "embedded_docs_test = test_data_preprocessor.preprocess_text(df3,voc_size,max_length)\n",
        "\n",
        "embedded_docs_test\n"
      ],
      "metadata": {
        "id": "XARVgMRaU8s8",
        "execution": {
          "iopub.status.busy": "2024-04-11T23:18:27.463728Z",
          "iopub.execute_input": "2024-04-11T23:18:27.463948Z",
          "iopub.status.idle": "2024-04-11T23:18:27.482688Z",
          "shell.execute_reply.started": "2024-04-11T23:18:27.463925Z",
          "shell.execute_reply": "2024-04-11T23:18:27.482096Z"
        },
        "trusted": true,
        "outputId": "4039519d-6030-49ec-e1aa-8c39c659685a"
      },
      "execution_count": null,
      "outputs": [
        {
          "execution_count": 34,
          "output_type": "execute_result",
          "data": {
            "text/plain": "array([[   0,    0,    0, ..., 4921, 3342, 2591],\n       [   0,    0,    0, ..., 2765, 1396, 2467],\n       [   0,    0,    0, ...,  586, 4473, 2410],\n       ...,\n       [   0,    0,    0, ...,  153, 2793,  627],\n       [   0,    0,    0, ...,  854, 3011, 4042],\n       [   0,    0,    0, ..., 4350, 1124, 3570]], dtype=int32)"
          },
          "metadata": {}
        }
      ]
    },
    {
      "cell_type": "code",
      "source": [
        "pd.DataFrame({'text': df3}).tail(10)"
      ],
      "metadata": {
        "id": "rZDC78ZKhvgV",
        "execution": {
          "iopub.status.busy": "2024-04-11T23:18:27.483507Z",
          "iopub.execute_input": "2024-04-11T23:18:27.483745Z",
          "iopub.status.idle": "2024-04-11T23:18:27.490767Z",
          "shell.execute_reply.started": "2024-04-11T23:18:27.483721Z",
          "shell.execute_reply": "2024-04-11T23:18:27.490043Z"
        },
        "trusted": true,
        "outputId": "18d8798b-fb56-4a41-9a46-0bde32d2d6f3"
      },
      "execution_count": null,
      "outputs": [
        {
          "execution_count": 35,
          "output_type": "execute_result",
          "data": {
            "text/plain": "                                                  text\n818  suikoden alex kidd miracle world persona soul ...\n819  thank matching fund home depot rw payment gene...\n820  tom clancy rainbow six siege great game play n...\n821  late night stream boy come watch warzone run s...\n822                                        guess broke\n823  please explain possible let company overcharge...\n824  good sony much want see new p going right much...\n825  today sucked time drink wine n play borderland...\n826          bought fraction microsoft today small win\n827  johnson johnson stop selling talc baby powder ...",
            "text/html": "<div>\n<style scoped>\n    .dataframe tbody tr th:only-of-type {\n        vertical-align: middle;\n    }\n\n    .dataframe tbody tr th {\n        vertical-align: top;\n    }\n\n    .dataframe thead th {\n        text-align: right;\n    }\n</style>\n<table border=\"1\" class=\"dataframe\">\n  <thead>\n    <tr style=\"text-align: right;\">\n      <th></th>\n      <th>text</th>\n    </tr>\n  </thead>\n  <tbody>\n    <tr>\n      <th>818</th>\n      <td>suikoden alex kidd miracle world persona soul ...</td>\n    </tr>\n    <tr>\n      <th>819</th>\n      <td>thank matching fund home depot rw payment gene...</td>\n    </tr>\n    <tr>\n      <th>820</th>\n      <td>tom clancy rainbow six siege great game play n...</td>\n    </tr>\n    <tr>\n      <th>821</th>\n      <td>late night stream boy come watch warzone run s...</td>\n    </tr>\n    <tr>\n      <th>822</th>\n      <td>guess broke</td>\n    </tr>\n    <tr>\n      <th>823</th>\n      <td>please explain possible let company overcharge...</td>\n    </tr>\n    <tr>\n      <th>824</th>\n      <td>good sony much want see new p going right much...</td>\n    </tr>\n    <tr>\n      <th>825</th>\n      <td>today sucked time drink wine n play borderland...</td>\n    </tr>\n    <tr>\n      <th>826</th>\n      <td>bought fraction microsoft today small win</td>\n    </tr>\n    <tr>\n      <th>827</th>\n      <td>johnson johnson stop selling talc baby powder ...</td>\n    </tr>\n  </tbody>\n</table>\n</div>"
          },
          "metadata": {}
        }
      ]
    },
    {
      "cell_type": "markdown",
      "source": [
        "*This code block defines a neural network model for text classification. It utilizes an embedding layer to transform input words into dense vectors, followed by a Bidirectional LSTM layer to capture contextual information bidirectionally. The model is then compiled with the sparse categorical cross-entropy loss function, the Adam optimizer, and accuracy as the evaluation metric. Finally, the model summary is printed, providing an overview of its architecture and the number of trainable parameters.*"
      ],
      "metadata": {
        "id": "6e9vovlPvLqI"
      }
    },
    {
      "cell_type": "code",
      "source": [
        "Embedding"
      ],
      "metadata": {
        "execution": {
          "iopub.status.busy": "2024-04-11T23:18:27.491712Z",
          "iopub.execute_input": "2024-04-11T23:18:27.491983Z",
          "iopub.status.idle": "2024-04-11T23:18:27.500027Z",
          "shell.execute_reply.started": "2024-04-11T23:18:27.491959Z",
          "shell.execute_reply": "2024-04-11T23:18:27.499355Z"
        },
        "trusted": true,
        "id": "cjM3OzWlUmRv",
        "outputId": "2886078d-8334-413d-ba03-d5af46e7211d"
      },
      "execution_count": null,
      "outputs": [
        {
          "execution_count": 36,
          "output_type": "execute_result",
          "data": {
            "text/plain": "keras.src.layers.core.embedding.Embedding"
          },
          "metadata": {}
        }
      ]
    },
    {
      "cell_type": "code",
      "source": [
        "# from keras.layers import Flatten\n",
        "from keras.layers import Dropout as dropout\n",
        "\n",
        "from keras.callbacks import EarlyStopping\n",
        "from sklearn.metrics import accuracy_score\n",
        "\n",
        "\n",
        "# y_pred3.history\n",
        "\n",
        "# detect and init the TPU\n",
        "tpu = tf.distribute.cluster_resolver.TPUClusterResolver()\n",
        "\n",
        "# instantiate a distribution strategy\n",
        "tf.tpu.experimental.initialize_tpu_system(tpu)\n",
        "tpu_strategy = tf.distribute.TPUStrategy(tpu)\n",
        "\n",
        "with tpu_strategy.scope():\n",
        "## Creating model\n",
        "    embedding_vector_features=20\n",
        "    model=Sequential()\n",
        "\n",
        "    model.add(Embedding(voc_size,embedding_vector_features,input_shape=(max_length,)))\n",
        "\n",
        "\n",
        "    model.add(Bidirectional(LSTM(150, dropout=0.5, return_sequences= False)))\n",
        "\n",
        "    model.add(Dense(200, activation='relu'))\n",
        "    model.add(dropout(0.5))\n",
        "\n",
        "\n",
        "\n",
        "    model.add(Dense(150, activation='relu'))\n",
        "\n",
        "    model.add(dropout(0.5))\n",
        "\n",
        "\n",
        "\n",
        "\n",
        "\n",
        "    model.add(Dense(3,activation='sigmoid'))\n",
        "\n",
        "\n",
        "\n",
        "    model.compile(loss='sparse_categorical_crossentropy',optimizer='RMSprop',metrics=['accuracy'], jit_compile='False')\n"
      ],
      "metadata": {
        "id": "W8vPQBHEl8F8",
        "execution": {
          "iopub.status.busy": "2024-04-11T23:18:27.500939Z",
          "iopub.execute_input": "2024-04-11T23:18:27.501191Z",
          "iopub.status.idle": "2024-04-11T23:18:37.654400Z",
          "shell.execute_reply.started": "2024-04-11T23:18:27.501166Z",
          "shell.execute_reply": "2024-04-11T23:18:37.653323Z"
        },
        "trusted": true
      },
      "execution_count": null,
      "outputs": []
    },
    {
      "cell_type": "code",
      "source": [
        " print(model.summary())"
      ],
      "metadata": {
        "id": "JC6_U801BR5v",
        "execution": {
          "iopub.status.busy": "2024-04-11T23:18:37.655279Z",
          "iopub.execute_input": "2024-04-11T23:18:37.655576Z",
          "iopub.status.idle": "2024-04-11T23:18:37.673608Z",
          "shell.execute_reply.started": "2024-04-11T23:18:37.655551Z",
          "shell.execute_reply": "2024-04-11T23:18:37.672871Z"
        },
        "trusted": true,
        "outputId": "8bb0cb19-7164-4d11-cabd-068a7a51b8ad"
      },
      "execution_count": null,
      "outputs": [
        {
          "name": "stdout",
          "text": "Model: \"sequential\"\n_________________________________________________________________\n Layer (type)                Output Shape              Param #   \n=================================================================\n embedding (Embedding)       (None, 396, 20)           100000    \n                                                                 \n bidirectional (Bidirection  (None, 300)               205200    \n al)                                                             \n                                                                 \n dense (Dense)               (None, 200)               60200     \n                                                                 \n dropout (Dropout)           (None, 200)               0         \n                                                                 \n dense_1 (Dense)             (None, 150)               30150     \n                                                                 \n dropout_1 (Dropout)         (None, 150)               0         \n                                                                 \n dense_2 (Dense)             (None, 3)                 453       \n                                                                 \n=================================================================\nTotal params: 396003 (1.51 MB)\nTrainable params: 396003 (1.51 MB)\nNon-trainable params: 0 (0.00 Byte)\n_________________________________________________________________\nNone\n",
          "output_type": "stream"
        }
      ]
    },
    {
      "cell_type": "code",
      "source": [
        "x_train=np.array(embedded_docs_train)\n",
        "y_train=np.array(data_train[\"label\"])\n",
        "\n",
        "x_train.shape,y_train.shape"
      ],
      "metadata": {
        "id": "p8I8D8xsn7_d",
        "execution": {
          "iopub.status.busy": "2024-04-11T23:18:37.674392Z",
          "iopub.execute_input": "2024-04-11T23:18:37.674631Z",
          "iopub.status.idle": "2024-04-11T23:18:37.714160Z",
          "shell.execute_reply.started": "2024-04-11T23:18:37.674608Z",
          "shell.execute_reply": "2024-04-11T23:18:37.713506Z"
        },
        "trusted": true,
        "outputId": "7912df52-496e-41db-c60a-d8cefb0e3ca3"
      },
      "execution_count": null,
      "outputs": [
        {
          "execution_count": 39,
          "output_type": "execute_result",
          "data": {
            "text/plain": "((61121, 396), (61121,))"
          },
          "metadata": {}
        }
      ]
    },
    {
      "cell_type": "code",
      "source": [
        "x_validate =np.array(embedded_docs_test)\n",
        "y_validate = np.array(data_test[\"label\"])\n",
        "\n",
        "x_validate.shape, y_validate.shape"
      ],
      "metadata": {
        "id": "LGrQREwjmLz2",
        "execution": {
          "iopub.status.busy": "2024-04-11T23:18:37.718908Z",
          "iopub.execute_input": "2024-04-11T23:18:37.719146Z",
          "iopub.status.idle": "2024-04-11T23:18:37.724490Z",
          "shell.execute_reply.started": "2024-04-11T23:18:37.719123Z",
          "shell.execute_reply": "2024-04-11T23:18:37.723880Z"
        },
        "trusted": true,
        "outputId": "d40be969-1d42-4533-bdcb-1f4e6dca890f"
      },
      "execution_count": null,
      "outputs": [
        {
          "execution_count": 40,
          "output_type": "execute_result",
          "data": {
            "text/plain": "((828, 396), (828,))"
          },
          "metadata": {}
        }
      ]
    },
    {
      "cell_type": "code",
      "source": [
        "X_train, X_test, y_train, y_test = train_test_split(x_train, y_train, random_state=20)"
      ],
      "metadata": {
        "id": "KQum67NhblhD",
        "execution": {
          "iopub.status.busy": "2024-04-11T23:18:37.725217Z",
          "iopub.execute_input": "2024-04-11T23:18:37.725448Z",
          "iopub.status.idle": "2024-04-11T23:18:37.771346Z",
          "shell.execute_reply.started": "2024-04-11T23:18:37.725425Z",
          "shell.execute_reply": "2024-04-11T23:18:37.770415Z"
        },
        "trusted": true
      },
      "execution_count": null,
      "outputs": []
    },
    {
      "cell_type": "code",
      "source": [
        "print(\"X_train:\",X_train.shape)\n",
        "print(\"X_test:\",X_test.shape)"
      ],
      "metadata": {
        "id": "AZu_Yvset_lu",
        "execution": {
          "iopub.status.busy": "2024-04-11T23:18:37.772453Z",
          "iopub.execute_input": "2024-04-11T23:18:37.772740Z",
          "iopub.status.idle": "2024-04-11T23:18:37.776931Z",
          "shell.execute_reply.started": "2024-04-11T23:18:37.772712Z",
          "shell.execute_reply": "2024-04-11T23:18:37.776187Z"
        },
        "trusted": true,
        "outputId": "337a26b9-9939-449c-8272-598fd1805eb8"
      },
      "execution_count": null,
      "outputs": [
        {
          "name": "stdout",
          "text": "X_train: (45840, 396)\nX_test: (15281, 396)\n",
          "output_type": "stream"
        }
      ]
    },
    {
      "cell_type": "code",
      "source": [
        "### Finally Training\n",
        "# 10*tpu_strategy.num_replicas_in_sync\n",
        "\n",
        "y_pred3 = model.fit(X_train,y_train,validation_data=(x_validate,y_validate),epochs=25,batch_size=10*tpu_strategy.num_replicas_in_sync )"
      ],
      "metadata": {
        "id": "CGAmnzEHbp4e",
        "execution": {
          "iopub.status.busy": "2024-04-11T23:18:37.777768Z",
          "iopub.execute_input": "2024-04-11T23:18:37.778005Z",
          "iopub.status.idle": "2024-04-11T23:24:33.901537Z",
          "shell.execute_reply.started": "2024-04-11T23:18:37.777980Z",
          "shell.execute_reply": "2024-04-11T23:24:33.900541Z"
        },
        "trusted": true,
        "outputId": "7763a7db-cd04-4a86-fbd8-3aa6928d99d4"
      },
      "execution_count": null,
      "outputs": [
        {
          "name": "stdout",
          "text": "Epoch 1/25\n",
          "output_type": "stream"
        },
        {
          "name": "stderr",
          "text": "2024-04-11 23:18:38.350873: E external/local_xla/xla/stream_executor/stream_executor_internal.h:177] SetPriority unimplemented for this stream.\n2024-04-11 23:18:38.374084: E external/local_xla/xla/stream_executor/stream_executor_internal.h:177] SetPriority unimplemented for this stream.\n2024-04-11 23:18:38.397799: E external/local_xla/xla/stream_executor/stream_executor_internal.h:177] SetPriority unimplemented for this stream.\n2024-04-11 23:18:38.420232: E external/local_xla/xla/stream_executor/stream_executor_internal.h:177] SetPriority unimplemented for this stream.\n2024-04-11 23:18:38.442909: E external/local_xla/xla/stream_executor/stream_executor_internal.h:177] SetPriority unimplemented for this stream.\n2024-04-11 23:18:38.466515: E external/local_xla/xla/stream_executor/stream_executor_internal.h:177] SetPriority unimplemented for this stream.\n2024-04-11 23:18:38.489175: E external/local_xla/xla/stream_executor/stream_executor_internal.h:177] SetPriority unimplemented for this stream.\n2024-04-11 23:18:41.163175: E tensorflow/core/grappler/optimizers/meta_optimizer.cc:961] model_pruner failed: INVALID_ARGUMENT: Graph does not contain terminal node StatefulPartitionedCall.\n",
          "output_type": "stream"
        },
        {
          "name": "stdout",
          "text": "  7/573 [..............................] - ETA: 13s - loss: 1.0923 - accuracy: 0.3946 ",
          "output_type": "stream"
        },
        {
          "name": "stderr",
          "text": "2024-04-11 23:18:43.383220: E external/local_xla/xla/stream_executor/stream_executor_internal.h:177] SetPriority unimplemented for this stream.\n2024-04-11 23:18:43.386553: E external/local_xla/xla/stream_executor/stream_executor_internal.h:177] SetPriority unimplemented for this stream.\n2024-04-11 23:18:43.386729: E external/local_xla/xla/stream_executor/stream_executor_internal.h:177] SetPriority unimplemented for this stream.\n2024-04-11 23:18:43.386908: E external/local_xla/xla/stream_executor/stream_executor_internal.h:177] SetPriority unimplemented for this stream.\n2024-04-11 23:18:43.387113: E external/local_xla/xla/stream_executor/stream_executor_internal.h:177] SetPriority unimplemented for this stream.\n2024-04-11 23:18:43.387481: E external/local_xla/xla/stream_executor/stream_executor_internal.h:177] SetPriority unimplemented for this stream.\n2024-04-11 23:18:43.387706: E external/local_xla/xla/stream_executor/stream_executor_internal.h:177] SetPriority unimplemented for this stream.\n2024-04-11 23:18:43.388192: E external/local_xla/xla/stream_executor/stream_executor_internal.h:177] SetPriority unimplemented for this stream.\n",
          "output_type": "stream"
        },
        {
          "name": "stdout",
          "text": "571/573 [============================>.] - ETA: 0s - loss: 1.0016 - accuracy: 0.4883",
          "output_type": "stream"
        },
        {
          "name": "stderr",
          "text": "2024-04-11 23:18:58.522594: E external/local_xla/xla/stream_executor/stream_executor_internal.h:177] SetPriority unimplemented for this stream.\n2024-04-11 23:18:58.522962: E external/local_xla/xla/stream_executor/stream_executor_internal.h:177] SetPriority unimplemented for this stream.\n2024-04-11 23:18:58.523373: E external/local_xla/xla/stream_executor/stream_executor_internal.h:177] SetPriority unimplemented for this stream.\n2024-04-11 23:18:58.523740: E external/local_xla/xla/stream_executor/stream_executor_internal.h:177] SetPriority unimplemented for this stream.\n2024-04-11 23:18:59.371469: E external/local_xla/xla/stream_executor/stream_executor_internal.h:177] SetPriority unimplemented for this stream.\n2024-04-11 23:18:59.371735: E external/local_xla/xla/stream_executor/stream_executor_internal.h:177] SetPriority unimplemented for this stream.\n2024-04-11 23:18:59.372328: E external/local_xla/xla/stream_executor/stream_executor_internal.h:177] SetPriority unimplemented for this stream.\n",
          "output_type": "stream"
        },
        {
          "name": "stdout",
          "text": "573/573 [==============================] - 21s 29ms/step - loss: 1.0013 - accuracy: 0.4888 - val_loss: 0.8070 - val_accuracy: 0.6599\nEpoch 2/25\n573/573 [==============================] - 14s 24ms/step - loss: 0.7982 - accuracy: 0.6646 - val_loss: 0.6575 - val_accuracy: 0.7368\nEpoch 3/25\n",
          "output_type": "stream"
        },
        {
          "name": "stderr",
          "text": "2024-04-11 23:19:13.751884: E external/local_xla/xla/stream_executor/stream_executor_internal.h:177] SetPriority unimplemented for this stream.\n",
          "output_type": "stream"
        },
        {
          "name": "stdout",
          "text": "573/573 [==============================] - 14s 24ms/step - loss: 0.7204 - accuracy: 0.7069 - val_loss: 0.6260 - val_accuracy: 0.7716\nEpoch 4/25\n  1/573 [..............................] - ETA: 14s - loss: 0.7199 - accuracy: 0.7250",
          "output_type": "stream"
        },
        {
          "name": "stderr",
          "text": "2024-04-11 23:19:27.679181: E external/local_xla/xla/stream_executor/stream_executor_internal.h:177] SetPriority unimplemented for this stream.\n",
          "output_type": "stream"
        },
        {
          "name": "stdout",
          "text": "573/573 [==============================] - 14s 24ms/step - loss: 0.7049 - accuracy: 0.7189 - val_loss: 0.6082 - val_accuracy: 0.7704\nEpoch 5/25\n",
          "output_type": "stream"
        },
        {
          "name": "stderr",
          "text": "2024-04-11 23:19:41.536752: E external/local_xla/xla/stream_executor/stream_executor_internal.h:177] SetPriority unimplemented for this stream.\n",
          "output_type": "stream"
        },
        {
          "name": "stdout",
          "text": "573/573 [==============================] - 14s 24ms/step - loss: 0.6379 - accuracy: 0.7460 - val_loss: 0.5516 - val_accuracy: 0.7909\nEpoch 6/25\n",
          "output_type": "stream"
        },
        {
          "name": "stderr",
          "text": "2024-04-11 23:19:55.420432: E external/local_xla/xla/stream_executor/stream_executor_internal.h:177] SetPriority unimplemented for this stream.\n",
          "output_type": "stream"
        },
        {
          "name": "stdout",
          "text": "573/573 [==============================] - 14s 24ms/step - loss: 0.6290 - accuracy: 0.7530 - val_loss: 0.8104 - val_accuracy: 0.6238\nEpoch 7/25\n573/573 [==============================] - 14s 24ms/step - loss: 0.5944 - accuracy: 0.7636 - val_loss: 0.4969 - val_accuracy: 0.8125\nEpoch 8/25\n573/573 [==============================] - 14s 24ms/step - loss: 0.5677 - accuracy: 0.7771 - val_loss: 0.4919 - val_accuracy: 0.8281\nEpoch 9/25\n",
          "output_type": "stream"
        },
        {
          "name": "stderr",
          "text": "2024-04-11 23:20:36.999033: E external/local_xla/xla/stream_executor/stream_executor_internal.h:177] SetPriority unimplemented for this stream.\n",
          "output_type": "stream"
        },
        {
          "name": "stdout",
          "text": "573/573 [==============================] - 14s 24ms/step - loss: 0.5449 - accuracy: 0.7844 - val_loss: 0.4608 - val_accuracy: 0.8486\nEpoch 10/25\n",
          "output_type": "stream"
        },
        {
          "name": "stderr",
          "text": "2024-04-11 23:20:50.963182: E external/local_xla/xla/stream_executor/stream_executor_internal.h:177] SetPriority unimplemented for this stream.\n",
          "output_type": "stream"
        },
        {
          "name": "stdout",
          "text": "573/573 [==============================] - 14s 24ms/step - loss: 0.5304 - accuracy: 0.7919 - val_loss: 0.4755 - val_accuracy: 0.8401\nEpoch 11/25\n573/573 [==============================] - 14s 24ms/step - loss: 0.5172 - accuracy: 0.7967 - val_loss: 0.4549 - val_accuracy: 0.8678\nEpoch 12/25\n573/573 [==============================] - 14s 24ms/step - loss: 0.5046 - accuracy: 0.8023 - val_loss: 0.4272 - val_accuracy: 0.8594\nEpoch 13/25\n  1/573 [..............................] - ETA: 13s - loss: 0.6003 - accuracy: 0.7250",
          "output_type": "stream"
        },
        {
          "name": "stderr",
          "text": "2024-04-11 23:21:32.697509: E external/local_xla/xla/stream_executor/stream_executor_internal.h:177] SetPriority unimplemented for this stream.\n",
          "output_type": "stream"
        },
        {
          "name": "stdout",
          "text": "573/573 [==============================] - 14s 24ms/step - loss: 0.4959 - accuracy: 0.8073 - val_loss: 0.4166 - val_accuracy: 0.8726\n",
          "output_type": "stream"
        },
        {
          "name": "stderr",
          "text": "2024-04-11 23:21:46.536833: E external/local_xla/xla/stream_executor/stream_executor_internal.h:177] SetPriority unimplemented for this stream.\n",
          "output_type": "stream"
        },
        {
          "name": "stdout",
          "text": "Epoch 14/25\n573/573 [==============================] - 14s 24ms/step - loss: 0.4784 - accuracy: 0.8127 - val_loss: 0.4201 - val_accuracy: 0.8654\nEpoch 15/25\n573/573 [==============================] - 14s 24ms/step - loss: 0.4741 - accuracy: 0.8146 - val_loss: 0.4025 - val_accuracy: 0.8726\nEpoch 16/25\n573/573 [==============================] - 14s 24ms/step - loss: 0.4654 - accuracy: 0.8190 - val_loss: 0.4089 - val_accuracy: 0.8702\nEpoch 17/25\n573/573 [==============================] - 14s 24ms/step - loss: 0.4599 - accuracy: 0.8209 - val_loss: 0.4137 - val_accuracy: 0.8702\nEpoch 18/25\n573/573 [==============================] - 14s 24ms/step - loss: 0.4513 - accuracy: 0.8257 - val_loss: 0.3844 - val_accuracy: 0.8798\nEpoch 19/25\n573/573 [==============================] - 14s 24ms/step - loss: 0.4436 - accuracy: 0.8277 - val_loss: 0.3735 - val_accuracy: 0.8798\nEpoch 20/25\n573/573 [==============================] - 14s 24ms/step - loss: 0.4356 - accuracy: 0.8305 - val_loss: 0.3926 - val_accuracy: 0.8762\nEpoch 21/25\n573/573 [==============================] - 14s 25ms/step - loss: 0.4309 - accuracy: 0.8315 - val_loss: 0.3798 - val_accuracy: 0.8834\nEpoch 22/25\n573/573 [==============================] - 14s 24ms/step - loss: 0.4246 - accuracy: 0.8363 - val_loss: 0.3793 - val_accuracy: 0.8738\nEpoch 23/25\n573/573 [==============================] - 14s 24ms/step - loss: 0.4169 - accuracy: 0.8351 - val_loss: 0.3866 - val_accuracy: 0.8798\nEpoch 24/25\n573/573 [==============================] - 14s 24ms/step - loss: 0.4146 - accuracy: 0.8321 - val_loss: 0.3630 - val_accuracy: 0.8810\nEpoch 25/25\n573/573 [==============================] - 14s 24ms/step - loss: 0.4144 - accuracy: 0.8300 - val_loss: 0.3793 - val_accuracy: 0.8702\n",
          "output_type": "stream"
        }
      ]
    },
    {
      "cell_type": "code",
      "source": [
        "y_predict = model.predict(X_test)\n",
        "y_predict\n",
        "\n",
        "\n"
      ],
      "metadata": {
        "id": "JnTatGGcizCJ",
        "execution": {
          "iopub.status.busy": "2024-04-11T23:24:33.904213Z",
          "iopub.execute_input": "2024-04-11T23:24:33.904548Z",
          "iopub.status.idle": "2024-04-11T23:24:41.312883Z",
          "shell.execute_reply.started": "2024-04-11T23:24:33.904516Z",
          "shell.execute_reply": "2024-04-11T23:24:41.311587Z"
        },
        "trusted": true,
        "outputId": "549e773c-1731-47c0-f6fc-a5d33cd2db2e"
      },
      "execution_count": null,
      "outputs": [
        {
          "name": "stderr",
          "text": "2024-04-11 23:24:35.330200: E tensorflow/core/grappler/optimizers/meta_optimizer.cc:961] model_pruner failed: INVALID_ARGUMENT: Graph does not contain terminal node StatefulPartitionedCall.\n",
          "output_type": "stream"
        },
        {
          "name": "stdout",
          "text": "478/478 [==============================] - 7s 11ms/step\n",
          "output_type": "stream"
        },
        {
          "execution_count": 44,
          "output_type": "execute_result",
          "data": {
            "text/plain": "array([[2.5490820e-03, 8.2610846e-03, 5.3688705e-02],\n       [1.9354820e-03, 6.6766143e-04, 2.9108644e-02],\n       [5.6242943e-04, 1.7881393e-07, 8.9406967e-08],\n       ...,\n       [2.7359456e-01, 2.2240937e-01, 3.2243124e-01],\n       [2.7359456e-01, 2.2240937e-01, 3.2243124e-01],\n       [2.7359456e-01, 2.2240937e-01, 3.2243124e-01]], dtype=float32)"
          },
          "metadata": {}
        }
      ]
    },
    {
      "cell_type": "code",
      "source": [
        "plt.plot(y_pred3.history['loss'])\n",
        "plt.plot(y_pred3.history['val_loss'])\n",
        "plt.title('Model loss')\n",
        "plt.ylabel('Loss')\n",
        "plt.xlabel('Epoch')\n",
        "plt.legend(['Train', 'Validation'], loc='upper right')\n",
        "plt.show()\n",
        "\n",
        "\n",
        "# Plot the accuracy of training and validation\n",
        "plt.plot(y_pred3.history['accuracy'])\n",
        "plt.plot(y_pred3.history['val_accuracy'])\n",
        "plt.title('Model Accuracy')\n",
        "plt.ylabel('Accuracy')\n",
        "plt.xlabel('Epoch')\n",
        "plt.legend(['Train', 'Validation'], loc='lower right')\n",
        "plt.show()"
      ],
      "metadata": {
        "id": "YBreDMZa1ARS",
        "execution": {
          "iopub.status.busy": "2024-04-11T23:24:41.330337Z",
          "iopub.execute_input": "2024-04-11T23:24:41.330599Z",
          "iopub.status.idle": "2024-04-11T23:24:41.660137Z",
          "shell.execute_reply.started": "2024-04-11T23:24:41.330567Z",
          "shell.execute_reply": "2024-04-11T23:24:41.659218Z"
        },
        "trusted": true,
        "outputId": "63e2e09d-273a-463a-8a4f-7a6b736f17f3"
      },
      "execution_count": null,
      "outputs": [
        {
          "output_type": "display_data",
          "data": {
            "text/plain": "<Figure size 640x480 with 1 Axes>",
            "image/png": "[encoded data removed]"
          },
          "metadata": {}
        },
        {
          "output_type": "display_data",
          "data": {
            "text/plain": "<Figure size 640x480 with 1 Axes>",
            "image/png": "[encoded data removed]"
          },
          "metadata": {}
        }
      ]
    },
    {
      "cell_type": "code",
      "source": [
        "# Save the trained model\n",
        "model.save('sentimentaltp1.h5')\n"
      ],
      "metadata": {
        "id": "m-nKtG7P6hk5",
        "execution": {
          "iopub.status.busy": "2024-04-11T23:28:23.602871Z",
          "iopub.execute_input": "2024-04-11T23:28:23.603297Z",
          "iopub.status.idle": "2024-04-11T23:28:23.691982Z",
          "shell.execute_reply.started": "2024-04-11T23:28:23.603263Z",
          "shell.execute_reply": "2024-04-11T23:28:23.691106Z"
        },
        "trusted": true,
        "outputId": "9e52ed5d-976e-4d0e-8b6b-fa39a2908a44"
      },
      "execution_count": null,
      "outputs": [
        {
          "name": "stderr",
          "text": "/usr/local/lib/python3.10/site-packages/keras/src/engine/training.py:3103: UserWarning: You are saving your model as an HDF5 file via `model.save()`. This file format is considered legacy. We recommend using instead the native Keras format, e.g. `model.save('my_model.keras')`.\n  saving_api.save_model(\n",
          "output_type": "stream"
        }
      ]
    },
    {
      "cell_type": "code",
      "source": [
        "from keras.preprocessing.sequence import pad_sequences\n",
        "import numpy as np\n",
        "\n",
        "label = {3: 'Positive', 2: 'Neutral', 1: 'Negative'}\n",
        "\n",
        "text_to_predict = None\n",
        "preprocessed_text = None\n",
        "embedded_text = None\n",
        "predicted_probabilities = None\n",
        "text_to_predict =[\"i love you so much\",\"i dont't,like you i will murder you\" ,\"you are a good man God blesse you\",\"im getting on borderlands 2 and i will murder\",\"i dont't,like you i will murder you\",\"i dont't,like you i will murder you\"]\n",
        "\n",
        "\n",
        "\n",
        "\n",
        "# Normalize the text\n",
        "preprocessed_text = test_data_preprocessor.normalized_text(text_to_predict)\n",
        "\n",
        "# Convert the preprocessed text into embedded form\n",
        "embedded_text = test_data_preprocessor.preprocess_text(preprocessed_text, voc_size, max_length)\n",
        "\n",
        "# Use the trained LSTM model to predict the sentiment\n",
        "predicted_probabilities = model.predict (embedded_text)\n",
        "\n",
        "# Convert probabilities to sentiment labels\n",
        "for i in range(min(len(predicted_probabilities), len(text_to_predict))):\n",
        "    predicted_label = np.argmax(predicted_probabilities[i])\n",
        "\n",
        "#     if predicted_label == 0:\n",
        "#         print(\"Sentence: \", text_to_predict[i])\n",
        "#         print(\"number: \", predicted_label)\n",
        "#         print(\"numerical label:\", label[0])\n",
        "#         print(\"----------------------------\")\n",
        "    if predicted_label == 1:\n",
        "        print(\"number: \", predicted_label)\n",
        "        print(\"Sentence: \", text_to_predict[i])\n",
        "        print(\"numerical label:\", label[1])\n",
        "        print(\"----------------------------\")\n",
        "    elif predicted_label == 2:\n",
        "        print(\"Sentence: \", text_to_predict[i])\n",
        "        print(\"number: \", predicted_label)\n",
        "        print(\"numerical label:\", label[2])\n",
        "        print(\"----------------------------\")\n",
        "    elif predicted_label == 3:\n",
        "        print(\"Sentence: \", text_to_predict[i])\n",
        "        print(\"number: \", predicted_label)\n",
        "        print(\"numerical label:\", label[3])\n",
        "        print(\"----------------------------\")\n",
        "\n",
        "\n"
      ],
      "metadata": {
        "id": "iGXJ9EwptloK",
        "execution": {
          "iopub.status.busy": "2024-04-11T23:24:42.270257Z",
          "iopub.status.idle": "2024-04-11T23:24:42.270585Z",
          "shell.execute_reply.started": "2024-04-11T23:24:42.270422Z",
          "shell.execute_reply": "2024-04-11T23:24:42.270438Z"
        },
        "trusted": true
      },
      "execution_count": null,
      "outputs": []
    },
    {
      "cell_type": "code",
      "source": [
        "max_length"
      ],
      "metadata": {
        "execution": {
          "iopub.status.busy": "2024-04-11T23:24:42.271602Z",
          "iopub.status.idle": "2024-04-11T23:24:42.271886Z",
          "shell.execute_reply.started": "2024-04-11T23:24:42.271745Z",
          "shell.execute_reply": "2024-04-11T23:24:42.271759Z"
        },
        "trusted": true,
        "id": "wF4t1ItLUmR4"
      },
      "execution_count": null,
      "outputs": []
    },
    {
      "cell_type": "code",
      "source": [
        "model.predict"
      ],
      "metadata": {
        "execution": {
          "iopub.status.busy": "2024-04-11T23:24:42.275770Z",
          "iopub.status.idle": "2024-04-11T23:24:42.276056Z",
          "shell.execute_reply.started": "2024-04-11T23:24:42.275911Z",
          "shell.execute_reply": "2024-04-11T23:24:42.275925Z"
        },
        "trusted": true,
        "id": "Zs3JHZHGUmR5"
      },
      "execution_count": null,
      "outputs": []
    },
    {
      "cell_type": "code",
      "source": [
        "from google.colab import drive\n",
        "\n",
        "# Mount Google Drive\n",
        "drive.mount('/content/drive')\n"
      ],
      "metadata": {
        "id": "3LQRT3p4pvCJ",
        "execution": {
          "iopub.status.busy": "2024-04-11T23:24:42.283974Z",
          "iopub.status.idle": "2024-04-11T23:24:42.284294Z",
          "shell.execute_reply.started": "2024-04-11T23:24:42.284137Z",
          "shell.execute_reply": "2024-04-11T23:24:42.284153Z"
        },
        "trusted": true
      },
      "execution_count": null,
      "outputs": []
    },
    {
      "cell_type": "code",
      "source": [
        "tf.saved_model"
      ],
      "metadata": {
        "execution": {
          "iopub.status.busy": "2024-04-11T23:24:42.285548Z",
          "iopub.status.idle": "2024-04-11T23:24:42.285837Z",
          "shell.execute_reply.started": "2024-04-11T23:24:42.285698Z",
          "shell.execute_reply": "2024-04-11T23:24:42.285713Z"
        },
        "trusted": true,
        "id": "CNpBFo-mUmR8"
      },
      "execution_count": null,
      "outputs": []
    },
    {
      "cell_type": "code",
      "source": [
        "# model.save('')\n",
        "tf.saved_model.save(model,'sentimentalAnalysistp')"
      ],
      "metadata": {
        "id": "IwVkP1MdEUQZ",
        "execution": {
          "iopub.status.busy": "2024-04-11T23:24:42.286495Z",
          "iopub.status.idle": "2024-04-11T23:24:42.286772Z",
          "shell.execute_reply.started": "2024-04-11T23:24:42.286637Z",
          "shell.execute_reply": "2024-04-11T23:24:42.286651Z"
        },
        "trusted": true
      },
      "execution_count": null,
      "outputs": []
    }
  ]
}